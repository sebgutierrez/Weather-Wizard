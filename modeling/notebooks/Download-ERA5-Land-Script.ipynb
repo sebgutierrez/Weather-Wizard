{
 "cells": [
  {
   "cell_type": "markdown",
   "metadata": {},
   "source": [
    "Install cdsapi package to download our data. We will need xarray to concatenate the data. netCDF4, eccodes, cfgrib, ecmwflibs, and netcdf4 are needed to open the GRIB file and also convert to NetCDF.\n",
    "\n",
    "When you wish to execute shell commands in a jupyter notebook, start the command with \"!\". I am using a virtual environment to run this notebook, so it won't install the packages globally."
   ]
  },
  {
   "cell_type": "code",
   "execution_count": 5,
   "metadata": {},
   "outputs": [
    {
     "name": "stdout",
     "output_type": "stream",
     "text": [
      "Requirement already satisfied: cdsapi>=0.7.4 in c:\\users\\sguti\\appdata\\local\\programs\\python\\python311\\lib\\site-packages (0.7.5)\n",
      "Requirement already satisfied: xarray in c:\\users\\sguti\\appdata\\local\\programs\\python\\python311\\lib\\site-packages (2023.10.1)\n",
      "Requirement already satisfied: pandas in c:\\users\\sguti\\appdata\\local\\programs\\python\\python311\\lib\\site-packages (2.0.2)\n",
      "Requirement already satisfied: eccodes in c:\\users\\sguti\\appdata\\local\\programs\\python\\python311\\lib\\site-packages (1.3.1)\n",
      "Requirement already satisfied: cfgrib in c:\\users\\sguti\\appdata\\local\\programs\\python\\python311\\lib\\site-packages (0.9.10.4)\n",
      "Requirement already satisfied: ecmwflibs in c:\\users\\sguti\\appdata\\local\\programs\\python\\python311\\lib\\site-packages (0.6.3)\n",
      "Requirement already satisfied: netcdf4 in c:\\users\\sguti\\appdata\\local\\programs\\python\\python311\\lib\\site-packages (1.6.4)\n",
      "Requirement already satisfied: datapi in c:\\users\\sguti\\appdata\\local\\programs\\python\\python311\\lib\\site-packages (from cdsapi>=0.7.4) (0.1.1)\n",
      "Requirement already satisfied: requests>=2.5.0 in c:\\users\\sguti\\appdata\\local\\programs\\python\\python311\\lib\\site-packages (from cdsapi>=0.7.4) (2.31.0)\n",
      "Requirement already satisfied: tqdm in c:\\users\\sguti\\appdata\\local\\programs\\python\\python311\\lib\\site-packages (from cdsapi>=0.7.4) (4.66.1)\n",
      "Requirement already satisfied: numpy>=1.22 in c:\\users\\sguti\\appdata\\local\\programs\\python\\python311\\lib\\site-packages (from xarray) (1.24.3)\n",
      "Requirement already satisfied: packaging>=21.3 in c:\\users\\sguti\\appdata\\roaming\\python\\python311\\site-packages (from xarray) (23.2)\n",
      "Requirement already satisfied: python-dateutil>=2.8.2 in c:\\users\\sguti\\appdata\\local\\programs\\python\\python311\\lib\\site-packages (from pandas) (2.8.2)\n",
      "Requirement already satisfied: pytz>=2020.1 in c:\\users\\sguti\\appdata\\local\\programs\\python\\python311\\lib\\site-packages (from pandas) (2023.3)\n",
      "Requirement already satisfied: tzdata>=2022.1 in c:\\users\\sguti\\appdata\\local\\programs\\python\\python311\\lib\\site-packages (from pandas) (2023.3)\n",
      "Requirement already satisfied: attrs in c:\\users\\sguti\\appdata\\local\\programs\\python\\python311\\lib\\site-packages (from eccodes) (23.2.0)\n",
      "Requirement already satisfied: cffi in c:\\users\\sguti\\appdata\\local\\programs\\python\\python311\\lib\\site-packages (from eccodes) (1.16.0)\n",
      "Requirement already satisfied: findlibs in c:\\users\\sguti\\appdata\\local\\programs\\python\\python311\\lib\\site-packages (from eccodes) (0.0.5)\n",
      "Requirement already satisfied: click in c:\\users\\sguti\\appdata\\local\\programs\\python\\python311\\lib\\site-packages (from cfgrib) (8.1.7)\n",
      "Requirement already satisfied: cftime in c:\\users\\sguti\\appdata\\local\\programs\\python\\python311\\lib\\site-packages (from netcdf4) (1.6.3)\n",
      "Requirement already satisfied: certifi in c:\\users\\sguti\\appdata\\local\\programs\\python\\python311\\lib\\site-packages (from netcdf4) (2023.7.22)\n",
      "Requirement already satisfied: six>=1.5 in c:\\users\\sguti\\appdata\\local\\programs\\python\\python311\\lib\\site-packages (from python-dateutil>=2.8.2->pandas) (1.16.0)\n",
      "Requirement already satisfied: charset-normalizer<4,>=2 in c:\\users\\sguti\\appdata\\local\\programs\\python\\python311\\lib\\site-packages (from requests>=2.5.0->cdsapi>=0.7.4) (3.3.0)\n",
      "Requirement already satisfied: idna<4,>=2.5 in c:\\users\\sguti\\appdata\\local\\programs\\python\\python311\\lib\\site-packages (from requests>=2.5.0->cdsapi>=0.7.4) (3.4)\n",
      "Requirement already satisfied: urllib3<3,>=1.21.1 in c:\\users\\sguti\\appdata\\local\\programs\\python\\python311\\lib\\site-packages (from requests>=2.5.0->cdsapi>=0.7.4) (2.0.7)\n",
      "Requirement already satisfied: pycparser in c:\\users\\sguti\\appdata\\local\\programs\\python\\python311\\lib\\site-packages (from cffi->eccodes) (2.21)\n",
      "Requirement already satisfied: colorama in c:\\users\\sguti\\appdata\\roaming\\python\\python311\\site-packages (from click->cfgrib) (0.4.6)\n",
      "Requirement already satisfied: multiurl>=0.3.2 in c:\\users\\sguti\\appdata\\local\\programs\\python\\python311\\lib\\site-packages (from datapi->cdsapi>=0.7.4) (0.3.3)\n",
      "Requirement already satisfied: typing-extensions in c:\\users\\sguti\\appdata\\local\\programs\\python\\python311\\lib\\site-packages (from datapi->cdsapi>=0.7.4) (4.8.0)\n"
     ]
    },
    {
     "name": "stderr",
     "output_type": "stream",
     "text": [
      "\n",
      "[notice] A new release of pip is available: 24.0 -> 25.1.1\n",
      "[notice] To update, run: python.exe -m pip install --upgrade pip\n"
     ]
    }
   ],
   "source": [
    "! python -m pip install \"cdsapi>=0.7.4\" xarray pandas eccodes cfgrib ecmwflibs netcdf4"
   ]
  },
  {
   "cell_type": "code",
   "execution_count": 1,
   "metadata": {},
   "outputs": [],
   "source": [
    "import cdsapi\n",
    "import xarray as xr"
   ]
  },
  {
   "cell_type": "code",
   "execution_count": 2,
   "metadata": {},
   "outputs": [
    {
     "name": "stderr",
     "output_type": "stream",
     "text": [
      "2025-05-25 12:09:00,560 INFO [2024-09-26T00:00:00] Watch our [Forum](https://forum.ecmwf.int/) for Announcements, news and other discussed topics.\n",
      "2025-05-25 12:09:00,562 WARNING [2024-06-16T00:00:00] CDS API syntax is changed and some keys or parameter names may have also changed. To avoid requests failing, please use the \"Show API request code\" tool on the dataset Download Form to check you are using the correct syntax for your API request.\n"
     ]
    }
   ],
   "source": [
    "c = cdsapi.Client()"
   ]
  },
  {
   "cell_type": "markdown",
   "metadata": {},
   "source": [
    "As of writing this, due to the recent CDS server migrations and slow queues for downloading the data, we can only download a dataset one month at a time. Thus, we will have to loop through every month and year we wish to download. **Important**: Make sure to change the range in 'years_list' to the decades you wish to download. For example, if you're downloading 1951 - 1960, then the range would be range(1951, 1961). In this notebook, I decided to download city data from Ulaanbaatar, Mongolia. The coordinates are 30.2672° N, 97.7431° W, respectively, or 30.3 and -97.7, respectively. **Important**: Since our dataset is specific to land data, it's likely that if the region includes any oceans or large bodies of water, the temperature recorded at those pixels will be inaccurate or missing.\n",
    "\n",
    "The link to the dataset: https://cds.climate.copernicus.eu/cdsapp#!/dataset/reanalysis-era5-land?tab=overview \n",
    "\n",
    "Dataset name: ERA5-Land hourly data from 1950 to present"
   ]
  },
  {
   "cell_type": "code",
   "execution_count": 3,
   "metadata": {},
   "outputs": [],
   "source": [
    "years_list = [str(year) for year in range(2008, 2025)] # 1970, 1980\n",
    "leap_years = [str(year) for year in range(2008, 2025, 4)]\n",
    "\n",
    "make_two_digits = ['01', '02', '03', '04', '05', '06', '07', '08', '09'] # API accepts single digit days in this format\n",
    "\n",
    "thirty_one = make_two_digits + [str(year) for year in range(10, 32)]\n",
    "thirty = make_two_digits + [str(year) for year in range(10, 31)]\n",
    "feb_days_leap = make_two_digits + [str(year) for year in range(10, 30)]\n",
    "feb_days_non_leap = make_two_digits + [str(year) for year in range(10, 29)]\n",
    "\n",
    "months_list = ['01', '02', '03', '04', '05', '06', '07', '08', '09', '10', '11', '12'] # API aceepts months in this format\n",
    "month_days = {\n",
    "\t'01':thirty_one,\n",
    "\t'02':feb_days_non_leap,\n",
    "\t'03':thirty_one,\n",
    "\t'04':thirty,\n",
    "\t'05':thirty_one,\n",
    "\t'06':thirty,\n",
    "\t'07':thirty_one,\n",
    "\t'08':thirty_one,\n",
    "\t'09':thirty,\n",
    "\t'10':thirty_one,\n",
    "\t'11':thirty,\n",
    "\t'12':thirty_one,\n",
    "}\n",
    "\n",
    "# Currently downloading data for a model for Houston, TX.\n",
    "city_long = -95.4\n",
    "city_lat = 29.7\n",
    "city_name = 'Houston'\n",
    "\n",
    "# Region boundaries for the capital. Will produce a 5x5 grid of values each time step. The spatial resolution of the dataset is 0.1° x 0.1°.\n",
    "bottom_lat = str(round(city_lat - 0.2, 1))\n",
    "top_lat = str(round(city_lat + 0.2, 1))\n",
    "left_long = str(round(city_long - 0.2, 1))\n",
    "right_long = str(round(city_long + 0.2, 1))\n",
    "\n",
    "# IMPORTANT: Change 'ds_path' to wherever you originally store the data\n",
    "ds_path = 'C:/Users/sguti/WW-Data/'"
   ]
  },
  {
   "cell_type": "code",
   "execution_count": 4,
   "metadata": {},
   "outputs": [],
   "source": [
    "# datasets = []\n",
    "\n",
    "# for year in years_list:\n",
    "\t\n",
    "# \tfor month in months_list:\n",
    "\n",
    "# \t\t# Take care of leap years\n",
    "# \t\tif month == '02' and year in leap_years:\n",
    "# \t\t\tmonth_days['02'] = feb_days_leap\n",
    "# \t\telse:\n",
    "# \t\t\tmonth_days['02'] = feb_days_non_leap\n",
    "\t\t\t\n",
    "# \t\tgrib_filename = ds_path + city_name + '_' + year + '_' + month + '.grib'\n",
    "\t\t\n",
    "# \t\tdatasets.append({\n",
    "# \t\t\t'variable': [\n",
    "# \t\t\t\t'2m_temperature', \n",
    "# \t\t\t\t'2m_dewpoint_temperature', \n",
    "# \t\t\t\t'surface_pressure', \n",
    "# \t\t\t\t'10m_u_component_of_wind', \n",
    "# \t\t\t\t'10m_v_component_of_wind',\n",
    "# \t\t\t\t'total_precipitation'\n",
    "# \t\t\t],\n",
    "# \t\t\t'year': year,\n",
    "# \t\t\t'month': month,\n",
    "# \t\t\t'day': month_days[month],\n",
    "# \t\t\t'time': [\n",
    "# \t\t\t\t'00:00',\n",
    "# \t\t\t\t'03:00',\n",
    "# \t\t\t\t'06:00',\n",
    "# \t\t\t\t'09:00',\n",
    "# \t\t\t\t'12:00',\n",
    "# \t\t\t\t'15:00',\n",
    "# \t\t\t\t'18:00',\n",
    "# \t\t\t\t'21:00',\n",
    "# \t\t\t],\n",
    "# \t\t\t'data_format': 'grib',\n",
    "# \t\t\t'download_format': 'unarchived',\n",
    "# \t\t\t'area': [\n",
    "# \t\t\t\ttop_lat, \n",
    "# \t\t\t\tleft_long, \n",
    "# \t\t\t\tbottom_lat, \n",
    "# \t\t\t\tright_long,\n",
    "# \t\t\t],\n",
    "# \t\t\t'file_name': grib_filename\n",
    "# \t\t})"
   ]
  },
  {
   "cell_type": "code",
   "execution_count": 5,
   "metadata": {},
   "outputs": [],
   "source": [
    "# ###\n",
    "\n",
    "# client = None            # source: https://stackoverflow.com/a/64995612\n",
    "# def set_global_client(): # source: https://stackoverflow.com/a/64995612\n",
    "#   global client\n",
    "#   if not client:\n",
    "#     client = cdsapi.Client(progress = False)\n",
    "    \n",
    "# ###\n",
    "\n",
    "# def cdsapi_worker(dataset):\n",
    "#   print(\"retrieving: \", dataset['file_name'])\n",
    "#   result = client.retrieve('reanalysis-era5-land', dataset)\n",
    "#   result.download(dataset['file_name'])\n",
    "\n",
    "\n",
    "# # per-user requests that access online CDS data is 3 at maximum\n",
    "\n",
    "# pool = multiprocessing.Pool(processes=3, initializer=set_global_client)\n",
    "# pool.map(cdsapi_worker, datasets)"
   ]
  },
  {
   "cell_type": "code",
   "execution_count": 6,
   "metadata": {},
   "outputs": [
    {
     "name": "stderr",
     "output_type": "stream",
     "text": [
      "2025-05-25 12:09:01,353 INFO Request ID is 5ed1c126-dc10-4b57-8be4-6da76cdae7c3\n",
      "2025-05-25 12:09:01,534 INFO status has been updated to accepted\n",
      "2025-05-25 12:09:34,960 INFO status has been updated to successful\n"
     ]
    },
    {
     "data": {
      "application/vnd.jupyter.widget-view+json": {
       "model_id": "362c9454fa1a46b8801c8fc1774b89c3",
       "version_major": 2,
       "version_minor": 0
      },
      "text/plain": [
       "d6185c8bf0b321ed2d894d02ac88327f.grib:   0%|          | 0.00/235k [00:00<?, ?B/s]"
      ]
     },
     "metadata": {},
     "output_type": "display_data"
    },
    {
     "name": "stderr",
     "output_type": "stream",
     "text": [
      "Ignoring index file 'C:/Users/sguti/WW-Data/Houston_2008_01.grib.923a8.idx' older than GRIB file\n",
      "2025-05-25 12:09:41,786 INFO Request ID is 2089969c-8467-4305-a7c3-28e466db1243\n",
      "2025-05-25 12:09:41,978 INFO status has been updated to accepted\n",
      "2025-05-25 12:09:57,589 INFO status has been updated to successful\n"
     ]
    },
    {
     "data": {
      "application/vnd.jupyter.widget-view+json": {
       "model_id": "b24a6138b43045f0888260b12e118076",
       "version_major": 2,
       "version_minor": 0
      },
      "text/plain": [
       "10a00c814529fdb3c96e7b25ec5f59cd.grib:   0%|          | 0.00/220k [00:00<?, ?B/s]"
      ]
     },
     "metadata": {},
     "output_type": "display_data"
    },
    {
     "name": "stderr",
     "output_type": "stream",
     "text": [
      "Ignoring index file 'C:/Users/sguti/WW-Data/Houston_2008_02.grib.923a8.idx' older than GRIB file\n",
      "2025-05-25 12:10:04,048 INFO Request ID is b3b55989-1615-4aa0-bcda-2d6adddfcc6b\n",
      "2025-05-25 12:10:04,213 INFO status has been updated to accepted\n",
      "2025-05-25 12:10:13,073 INFO status has been updated to successful\n"
     ]
    },
    {
     "data": {
      "application/vnd.jupyter.widget-view+json": {
       "model_id": "ff8400c13d6844949f7b569a6ebac3ac",
       "version_major": 2,
       "version_minor": 0
      },
      "text/plain": [
       "b576eab5a8250595ed8cae584627f8eb.grib:   0%|          | 0.00/235k [00:00<?, ?B/s]"
      ]
     },
     "metadata": {},
     "output_type": "display_data"
    },
    {
     "name": "stderr",
     "output_type": "stream",
     "text": [
      "Ignoring index file 'C:/Users/sguti/WW-Data/Houston_2008_03.grib.923a8.idx' older than GRIB file\n",
      "2025-05-25 12:10:18,604 INFO Request ID is 34df1164-95d7-4095-8162-456145ce9249\n",
      "2025-05-25 12:10:19,156 INFO status has been updated to accepted\n",
      "2025-05-25 12:10:28,217 INFO status has been updated to running\n",
      "2025-05-25 12:10:33,483 INFO status has been updated to successful\n"
     ]
    },
    {
     "data": {
      "application/vnd.jupyter.widget-view+json": {
       "model_id": "aeb44efd9b164735809e61e95155fc1e",
       "version_major": 2,
       "version_minor": 0
      },
      "text/plain": [
       "2d01ac28fbe447880f4580e1d0c708b8.grib:   0%|          | 0.00/228k [00:00<?, ?B/s]"
      ]
     },
     "metadata": {},
     "output_type": "display_data"
    },
    {
     "name": "stderr",
     "output_type": "stream",
     "text": [
      "Ignoring index file 'C:/Users/sguti/WW-Data/Houston_2008_04.grib.923a8.idx' older than GRIB file\n",
      "2025-05-25 12:10:39,444 INFO Request ID is ee0fa57c-62a5-4726-a81c-baa1bded36fc\n",
      "2025-05-25 12:10:39,609 INFO status has been updated to accepted\n",
      "2025-05-25 12:10:48,505 INFO status has been updated to successful\n"
     ]
    },
    {
     "data": {
      "application/vnd.jupyter.widget-view+json": {
       "model_id": "81edda864681493db1df0122d6927a73",
       "version_major": 2,
       "version_minor": 0
      },
      "text/plain": [
       "3173ac7651cec775d4c5ae8bb8799718.grib:   0%|          | 0.00/235k [00:00<?, ?B/s]"
      ]
     },
     "metadata": {},
     "output_type": "display_data"
    },
    {
     "name": "stderr",
     "output_type": "stream",
     "text": [
      "Ignoring index file 'C:/Users/sguti/WW-Data/Houston_2008_05.grib.923a8.idx' older than GRIB file\n",
      "2025-05-25 12:10:53,885 INFO Request ID is 5635d902-be1d-4628-abab-f656df1ab54d\n",
      "2025-05-25 12:10:54,049 INFO status has been updated to accepted\n",
      "2025-05-25 12:11:02,861 INFO status has been updated to running\n",
      "2025-05-25 12:11:08,098 INFO status has been updated to successful\n"
     ]
    },
    {
     "data": {
      "application/vnd.jupyter.widget-view+json": {
       "model_id": "5fe80722cf11410dbb93f315d16caf85",
       "version_major": 2,
       "version_minor": 0
      },
      "text/plain": [
       "d3bb58fd41d006cf11d485507ee019f4.grib:   0%|          | 0.00/228k [00:00<?, ?B/s]"
      ]
     },
     "metadata": {},
     "output_type": "display_data"
    },
    {
     "name": "stderr",
     "output_type": "stream",
     "text": [
      "Ignoring index file 'C:/Users/sguti/WW-Data/Houston_2008_06.grib.923a8.idx' older than GRIB file\n",
      "2025-05-25 12:11:13,338 INFO Request ID is e117f203-deda-49c6-a021-55342fe3ad13\n",
      "2025-05-25 12:11:13,509 INFO status has been updated to accepted\n",
      "2025-05-25 12:11:22,352 INFO status has been updated to running\n",
      "2025-05-25 12:11:27,603 INFO status has been updated to successful\n"
     ]
    },
    {
     "data": {
      "application/vnd.jupyter.widget-view+json": {
       "model_id": "852c014e15e740b39d37efc289638f62",
       "version_major": 2,
       "version_minor": 0
      },
      "text/plain": [
       "910809edc8da3ffa3ef091516710258e.grib:   0%|          | 0.00/235k [00:00<?, ?B/s]"
      ]
     },
     "metadata": {},
     "output_type": "display_data"
    },
    {
     "name": "stderr",
     "output_type": "stream",
     "text": [
      "Ignoring index file 'C:/Users/sguti/WW-Data/Houston_2008_07.grib.923a8.idx' older than GRIB file\n",
      "2025-05-25 12:11:32,836 INFO Request ID is 7d27fa50-5c0d-4f53-a937-242e059f4fed\n",
      "2025-05-25 12:11:33,031 INFO status has been updated to accepted\n",
      "2025-05-25 12:11:42,143 INFO status has been updated to running\n",
      "2025-05-25 12:11:55,157 INFO status has been updated to successful\n"
     ]
    },
    {
     "data": {
      "application/vnd.jupyter.widget-view+json": {
       "model_id": "28e08e58a84c400ca6d733a4cebcc7e7",
       "version_major": 2,
       "version_minor": 0
      },
      "text/plain": [
       "bc0d19ab6a28e88fba9739b7022e200b.grib:   0%|          | 0.00/235k [00:00<?, ?B/s]"
      ]
     },
     "metadata": {},
     "output_type": "display_data"
    },
    {
     "name": "stderr",
     "output_type": "stream",
     "text": [
      "Ignoring index file 'C:/Users/sguti/WW-Data/Houston_2008_08.grib.923a8.idx' older than GRIB file\n",
      "2025-05-25 12:12:00,520 INFO Request ID is ffe70f0e-726c-43df-b05d-4e67479ad734\n",
      "2025-05-25 12:12:00,701 INFO status has been updated to accepted\n",
      "2025-05-25 12:12:22,802 INFO status has been updated to successful\n"
     ]
    },
    {
     "data": {
      "application/vnd.jupyter.widget-view+json": {
       "model_id": "abbb85aa4b58454ba22628a084b23f88",
       "version_major": 2,
       "version_minor": 0
      },
      "text/plain": [
       "d0417ff42239ce3c19a73f3c505effa0.grib:   0%|          | 0.00/228k [00:00<?, ?B/s]"
      ]
     },
     "metadata": {},
     "output_type": "display_data"
    },
    {
     "name": "stderr",
     "output_type": "stream",
     "text": [
      "Ignoring index file 'C:/Users/sguti/WW-Data/Houston_2008_09.grib.923a8.idx' older than GRIB file\n",
      "2025-05-25 12:12:29,372 INFO Request ID is 55db6b86-e192-454d-bc4a-09e82ac20f32\n",
      "2025-05-25 12:12:29,548 INFO status has been updated to accepted\n",
      "2025-05-25 12:12:51,894 INFO status has been updated to successful\n"
     ]
    },
    {
     "data": {
      "application/vnd.jupyter.widget-view+json": {
       "model_id": "08644b58202d44ccb69cb943f27a177c",
       "version_major": 2,
       "version_minor": 0
      },
      "text/plain": [
       "497596a0d04aa75054a14890424d8e2.grib:   0%|          | 0.00/235k [00:00<?, ?B/s]"
      ]
     },
     "metadata": {},
     "output_type": "display_data"
    },
    {
     "name": "stderr",
     "output_type": "stream",
     "text": [
      "Ignoring index file 'C:/Users/sguti/WW-Data/Houston_2008_10.grib.923a8.idx' older than GRIB file\n",
      "2025-05-25 12:12:57,552 INFO Request ID is 29f97d96-5410-45bb-a84d-51839de8c82b\n",
      "2025-05-25 12:12:57,890 INFO status has been updated to accepted\n",
      "2025-05-25 12:13:19,969 INFO status has been updated to running\n",
      "2025-05-25 12:13:48,965 INFO status has been updated to successful\n"
     ]
    },
    {
     "data": {
      "application/vnd.jupyter.widget-view+json": {
       "model_id": "e05804d6ce664a78946cfd962c09b217",
       "version_major": 2,
       "version_minor": 0
      },
      "text/plain": [
       "6ffd79aa22efae9147131f7513c68c4.grib:   0%|          | 0.00/228k [00:00<?, ?B/s]"
      ]
     },
     "metadata": {},
     "output_type": "display_data"
    },
    {
     "name": "stderr",
     "output_type": "stream",
     "text": [
      "2025-05-25 12:13:54,362 INFO Request ID is f6616a74-aa19-4f91-a7a4-996cdcaa3798\n",
      "2025-05-25 12:13:55,240 INFO status has been updated to accepted\n",
      "2025-05-25 12:14:04,094 INFO status has been updated to running\n",
      "2025-05-25 12:16:49,815 INFO status has been updated to successful\n"
     ]
    },
    {
     "data": {
      "application/vnd.jupyter.widget-view+json": {
       "model_id": "7c2ef1e8f5ea47bdafee51fb52a8a3bf",
       "version_major": 2,
       "version_minor": 0
      },
      "text/plain": [
       "bee70f4e457725cf82393abfc2f2ff0a.grib:   0%|          | 0.00/235k [00:00<?, ?B/s]"
      ]
     },
     "metadata": {},
     "output_type": "display_data"
    },
    {
     "name": "stdout",
     "output_type": "stream",
     "text": [
      "Storing to...  C:/Users/sguti/WW-Data/Houston_2008.nc\n"
     ]
    },
    {
     "name": "stderr",
     "output_type": "stream",
     "text": [
      "2025-05-25 12:16:57,144 INFO Request ID is 8260134f-be5b-4629-8b1e-7a9b8d4a6122\n",
      "2025-05-25 12:16:57,321 INFO status has been updated to accepted\n",
      "2025-05-25 12:17:06,794 INFO status has been updated to running\n",
      "2025-05-25 12:21:18,363 INFO status has been updated to successful\n"
     ]
    },
    {
     "data": {
      "application/vnd.jupyter.widget-view+json": {
       "model_id": "17cfcca372db465caff8fde84a7f6b0b",
       "version_major": 2,
       "version_minor": 0
      },
      "text/plain": [
       "b99dfd92264fc8f8323895d79f51028b.grib:   0%|          | 0.00/235k [00:00<?, ?B/s]"
      ]
     },
     "metadata": {},
     "output_type": "display_data"
    },
    {
     "name": "stderr",
     "output_type": "stream",
     "text": [
      "2025-05-25 12:21:22,885 INFO Request ID is 302efe16-2d66-43b2-bca3-551990963624\n",
      "2025-05-25 12:21:23,183 INFO status has been updated to accepted\n",
      "2025-05-25 12:21:32,036 INFO status has been updated to running\n",
      "2025-05-25 12:25:43,830 INFO status has been updated to successful\n"
     ]
    },
    {
     "data": {
      "application/vnd.jupyter.widget-view+json": {
       "model_id": "d8f502e167d14e2fbc627d6fce371d1e",
       "version_major": 2,
       "version_minor": 0
      },
      "text/plain": [
       "fe1fb4940be99258c2ae5e83333a371e.grib:   0%|          | 0.00/213k [00:00<?, ?B/s]"
      ]
     },
     "metadata": {},
     "output_type": "display_data"
    },
    {
     "name": "stderr",
     "output_type": "stream",
     "text": [
      "2025-05-25 12:25:50,440 INFO Request ID is ab7ed97d-359b-477b-925d-ce08960a8625\n",
      "2025-05-25 12:25:50,625 INFO status has been updated to accepted\n",
      "2025-05-25 12:26:05,194 INFO status has been updated to running\n",
      "2025-05-25 12:28:44,496 INFO status has been updated to successful\n"
     ]
    },
    {
     "data": {
      "application/vnd.jupyter.widget-view+json": {
       "model_id": "0c0c24f050e74653a84957261fd6d9ba",
       "version_major": 2,
       "version_minor": 0
      },
      "text/plain": [
       "c28c3c70def253d9f84c8a3c98021e0d.grib:   0%|          | 0.00/235k [00:00<?, ?B/s]"
      ]
     },
     "metadata": {},
     "output_type": "display_data"
    },
    {
     "name": "stderr",
     "output_type": "stream",
     "text": [
      "2025-05-25 12:28:50,525 INFO Request ID is 64af5974-8271-4028-bf0e-dcd18032bc47\n",
      "2025-05-25 12:28:50,704 INFO status has been updated to accepted\n",
      "2025-05-25 12:28:59,612 INFO status has been updated to running\n",
      "2025-05-25 12:31:44,052 INFO status has been updated to successful\n"
     ]
    },
    {
     "data": {
      "application/vnd.jupyter.widget-view+json": {
       "model_id": "ce25073a3a3f41468763434afd4431b4",
       "version_major": 2,
       "version_minor": 0
      },
      "text/plain": [
       "393a9badbba7edadfe8c0eba8fd30982.grib:   0%|          | 0.00/228k [00:00<?, ?B/s]"
      ]
     },
     "metadata": {},
     "output_type": "display_data"
    },
    {
     "name": "stderr",
     "output_type": "stream",
     "text": [
      "2025-05-25 12:31:50,716 INFO Request ID is 096e8702-6583-4f28-a06f-4b401d47c704\n",
      "2025-05-25 12:31:50,896 INFO status has been updated to accepted\n",
      "2025-05-25 12:31:59,718 INFO status has been updated to running\n",
      "2025-05-25 12:34:49,185 INFO status has been updated to successful\n"
     ]
    },
    {
     "data": {
      "application/vnd.jupyter.widget-view+json": {
       "model_id": "870b1f8e7af6456f9e9fc656b18b9c83",
       "version_major": 2,
       "version_minor": 0
      },
      "text/plain": [
       "a339538d41f25fb5278e48ca5dcaae74.grib:   0%|          | 0.00/235k [00:00<?, ?B/s]"
      ]
     },
     "metadata": {},
     "output_type": "display_data"
    },
    {
     "name": "stderr",
     "output_type": "stream",
     "text": [
      "2025-05-25 12:34:55,171 INFO Request ID is 206bb426-79cc-40c4-9e01-d53705a3b981\n",
      "2025-05-25 12:34:55,339 INFO status has been updated to accepted\n",
      "2025-05-25 12:35:17,320 INFO status has been updated to running\n",
      "2025-05-25 12:39:16,887 INFO status has been updated to successful\n"
     ]
    },
    {
     "data": {
      "application/vnd.jupyter.widget-view+json": {
       "model_id": "04b2214c58df4c9bbe34af422a46efd4",
       "version_major": 2,
       "version_minor": 0
      },
      "text/plain": [
       "e7f1ea6e9f3e326806089b6d6fa31497.grib:   0%|          | 0.00/228k [00:00<?, ?B/s]"
      ]
     },
     "metadata": {},
     "output_type": "display_data"
    },
    {
     "name": "stderr",
     "output_type": "stream",
     "text": [
      "2025-05-25 12:39:22,508 INFO Request ID is e664f5b2-ceee-4a9f-9224-96c07c9b982e\n",
      "2025-05-25 12:39:22,689 INFO status has been updated to accepted\n",
      "2025-05-25 12:39:36,955 INFO status has been updated to running\n",
      "2025-05-25 12:43:43,497 INFO status has been updated to successful\n"
     ]
    },
    {
     "data": {
      "application/vnd.jupyter.widget-view+json": {
       "model_id": "f51a319cb2b243d88d6369f9a0a1f65c",
       "version_major": 2,
       "version_minor": 0
      },
      "text/plain": [
       "b7b206a21cbdf769d0146a6abc3755f3.grib:   0%|          | 0.00/235k [00:00<?, ?B/s]"
      ]
     },
     "metadata": {},
     "output_type": "display_data"
    },
    {
     "name": "stderr",
     "output_type": "stream",
     "text": [
      "2025-05-25 12:43:50,063 INFO Request ID is 70717df6-9d93-4266-8367-e53f517732bb\n",
      "2025-05-25 12:43:50,243 INFO status has been updated to accepted\n",
      "2025-05-25 12:43:55,885 INFO status has been updated to running\n",
      "2025-05-25 12:46:44,123 INFO status has been updated to successful\n"
     ]
    },
    {
     "data": {
      "application/vnd.jupyter.widget-view+json": {
       "model_id": "c51b6d93fb4f4168a4c156adf79a7df7",
       "version_major": 2,
       "version_minor": 0
      },
      "text/plain": [
       "b93d1a16858b62d7d5ccaee124b7d3e5.grib:   0%|          | 0.00/235k [00:00<?, ?B/s]"
      ]
     },
     "metadata": {},
     "output_type": "display_data"
    },
    {
     "name": "stderr",
     "output_type": "stream",
     "text": [
      "2025-05-25 12:46:50,078 INFO Request ID is 8fc4941b-ed7a-4524-97a7-df8a03ab5ca6\n",
      "2025-05-25 12:46:50,346 INFO status has been updated to accepted\n",
      "2025-05-25 12:46:59,486 INFO status has been updated to running\n",
      "2025-05-25 12:51:11,302 INFO status has been updated to successful\n"
     ]
    },
    {
     "data": {
      "application/vnd.jupyter.widget-view+json": {
       "model_id": "19582f0e273a40648a4308ba43af2cb7",
       "version_major": 2,
       "version_minor": 0
      },
      "text/plain": [
       "ff5a782469e921d8605a1187bda87e9d.grib:   0%|          | 0.00/228k [00:00<?, ?B/s]"
      ]
     },
     "metadata": {},
     "output_type": "display_data"
    },
    {
     "name": "stderr",
     "output_type": "stream",
     "text": [
      "2025-05-25 12:51:17,250 INFO Request ID is 70b42598-2c65-4f5a-810f-fa2ba41b89b4\n",
      "2025-05-25 12:51:17,443 INFO status has been updated to accepted\n",
      "2025-05-25 12:51:39,357 INFO status has been updated to running\n",
      "2025-05-25 12:54:11,093 INFO status has been updated to successful\n"
     ]
    },
    {
     "data": {
      "application/vnd.jupyter.widget-view+json": {
       "model_id": "35322a4070b44d81abd5290861914d92",
       "version_major": 2,
       "version_minor": 0
      },
      "text/plain": [
       "afb1df6bd219f7141a9c9c797eee4930.grib:   0%|          | 0.00/235k [00:00<?, ?B/s]"
      ]
     },
     "metadata": {},
     "output_type": "display_data"
    },
    {
     "name": "stderr",
     "output_type": "stream",
     "text": [
      "2025-05-25 12:54:16,674 INFO Request ID is 01317bef-7426-4ed4-be65-d5fe20b62398\n",
      "2025-05-25 12:54:16,858 INFO status has been updated to accepted\n",
      "2025-05-25 12:54:50,480 INFO status has been updated to running\n",
      "2025-05-25 12:58:37,659 INFO status has been updated to successful\n"
     ]
    },
    {
     "data": {
      "application/vnd.jupyter.widget-view+json": {
       "model_id": "005a826b69fc4730bdbc63c14a373bc1",
       "version_major": 2,
       "version_minor": 0
      },
      "text/plain": [
       "3ef46d913ef980a879c431132a6d98ed.grib:   0%|          | 0.00/228k [00:00<?, ?B/s]"
      ]
     },
     "metadata": {},
     "output_type": "display_data"
    },
    {
     "name": "stderr",
     "output_type": "stream",
     "text": [
      "2025-05-25 12:58:43,130 INFO Request ID is 37d0c4f4-3b25-41b3-906e-1ecdd7607df6\n",
      "2025-05-25 12:58:43,316 INFO status has been updated to accepted\n",
      "2025-05-25 12:59:05,401 INFO status has been updated to running\n",
      "2025-05-25 13:01:37,030 INFO status has been updated to successful\n"
     ]
    },
    {
     "data": {
      "application/vnd.jupyter.widget-view+json": {
       "model_id": "b7aab7845081457b8c0dfee66a3fac02",
       "version_major": 2,
       "version_minor": 0
      },
      "text/plain": [
       "afb9807cf66cd8e67e282f79e1aa178e.grib:   0%|          | 0.00/235k [00:00<?, ?B/s]"
      ]
     },
     "metadata": {},
     "output_type": "display_data"
    },
    {
     "name": "stdout",
     "output_type": "stream",
     "text": [
      "Storing to...  C:/Users/sguti/WW-Data/Houston_2009.nc\n"
     ]
    },
    {
     "name": "stderr",
     "output_type": "stream",
     "text": [
      "2025-05-25 13:01:43,319 INFO Request ID is c9f8edc9-4ff4-4c25-9574-740e3a5ef9d7\n",
      "2025-05-25 13:01:43,575 INFO status has been updated to accepted\n",
      "2025-05-25 13:02:17,076 INFO status has been updated to running\n",
      "2025-05-25 13:06:04,037 INFO status has been updated to successful\n"
     ]
    },
    {
     "data": {
      "application/vnd.jupyter.widget-view+json": {
       "model_id": "eb67817a605b42d581736f8e6fe5fc35",
       "version_major": 2,
       "version_minor": 0
      },
      "text/plain": [
       "1abc0ae9e940f347c34c7e4947d5e260.grib:   0%|          | 0.00/235k [00:00<?, ?B/s]"
      ]
     },
     "metadata": {},
     "output_type": "display_data"
    },
    {
     "name": "stderr",
     "output_type": "stream",
     "text": [
      "2025-05-25 13:06:08,517 INFO Request ID is c88d793c-d039-4354-8816-91b923bafff5\n",
      "2025-05-25 13:06:08,683 INFO status has been updated to accepted\n",
      "2025-05-25 13:06:17,798 INFO status has been updated to running\n",
      "2025-05-25 13:10:29,585 INFO status has been updated to successful\n"
     ]
    },
    {
     "data": {
      "application/vnd.jupyter.widget-view+json": {
       "model_id": "236fe377c3d044e0b2abb19ef50c68a1",
       "version_major": 2,
       "version_minor": 0
      },
      "text/plain": [
       "3e0d876570b680d9e42c344512a4d94e.grib:   0%|          | 0.00/213k [00:00<?, ?B/s]"
      ]
     },
     "metadata": {},
     "output_type": "display_data"
    },
    {
     "name": "stderr",
     "output_type": "stream",
     "text": [
      "2025-05-25 13:10:37,777 INFO Request ID is c55accb8-eed7-45f5-9640-e85a48c4291a\n",
      "2025-05-25 13:10:38,146 INFO status has been updated to accepted\n",
      "2025-05-25 13:11:00,010 INFO status has been updated to running\n",
      "2025-05-25 13:14:58,601 INFO status has been updated to successful\n"
     ]
    },
    {
     "data": {
      "application/vnd.jupyter.widget-view+json": {
       "model_id": "dd8895f34c7f4f169e8f77fa93f72d41",
       "version_major": 2,
       "version_minor": 0
      },
      "text/plain": [
       "c30adc8edc461aca48059b63b6dfde.grib:   0%|          | 0.00/235k [00:00<?, ?B/s]"
      ]
     },
     "metadata": {},
     "output_type": "display_data"
    },
    {
     "name": "stderr",
     "output_type": "stream",
     "text": [
      "2025-05-25 13:15:04,229 INFO Request ID is ae59f1b0-b06a-4a9f-b310-153ebee0466c\n",
      "2025-05-25 13:15:04,416 INFO status has been updated to accepted\n",
      "2025-05-25 13:15:18,898 INFO status has been updated to running\n",
      "2025-05-25 13:17:59,150 INFO status has been updated to successful\n"
     ]
    },
    {
     "data": {
      "application/vnd.jupyter.widget-view+json": {
       "model_id": "30221b1ba22648a79d12327df2b66b2f",
       "version_major": 2,
       "version_minor": 0
      },
      "text/plain": [
       "e70b088f9330468822d082869b5e333a.grib:   0%|          | 0.00/228k [00:00<?, ?B/s]"
      ]
     },
     "metadata": {},
     "output_type": "display_data"
    },
    {
     "name": "stderr",
     "output_type": "stream",
     "text": [
      "2025-05-25 13:18:04,730 INFO Request ID is 2f5f04a3-ef9d-497b-a034-c41c9b5e1852\n",
      "2025-05-25 13:18:04,935 INFO status has been updated to accepted\n",
      "2025-05-25 13:18:14,638 INFO status has been updated to running\n",
      "2025-05-25 13:20:59,574 INFO status has been updated to successful\n"
     ]
    },
    {
     "data": {
      "application/vnd.jupyter.widget-view+json": {
       "model_id": "c499ed5c6f6a4c30930c5e019e55eb32",
       "version_major": 2,
       "version_minor": 0
      },
      "text/plain": [
       "84753355ba21784f84c55ea0dc9418b7.grib:   0%|          | 0.00/235k [00:00<?, ?B/s]"
      ]
     },
     "metadata": {},
     "output_type": "display_data"
    },
    {
     "name": "stderr",
     "output_type": "stream",
     "text": [
      "2025-05-25 13:21:05,037 INFO Request ID is 51ff1f60-e7b1-4ebc-b039-a3060c1f0c92\n",
      "2025-05-25 13:21:05,220 INFO status has been updated to accepted\n",
      "2025-05-25 13:21:19,373 INFO status has been updated to running\n",
      "2025-05-25 13:23:59,066 INFO status has been updated to successful\n"
     ]
    },
    {
     "data": {
      "application/vnd.jupyter.widget-view+json": {
       "model_id": "136b956f807d4826be25a36cbdd139aa",
       "version_major": 2,
       "version_minor": 0
      },
      "text/plain": [
       "8e438e2b3a472f343e109b5a9e64fd5c.grib:   0%|          | 0.00/228k [00:00<?, ?B/s]"
      ]
     },
     "metadata": {},
     "output_type": "display_data"
    },
    {
     "name": "stderr",
     "output_type": "stream",
     "text": [
      "2025-05-25 13:24:05,263 INFO Request ID is 0b3bf471-9bdf-4cc5-b082-7fd49befb749\n",
      "2025-05-25 13:24:05,444 INFO status has been updated to accepted\n",
      "2025-05-25 13:24:20,554 INFO status has been updated to running\n",
      "2025-05-25 13:28:29,208 INFO status has been updated to successful\n"
     ]
    },
    {
     "data": {
      "application/vnd.jupyter.widget-view+json": {
       "model_id": "f0f016125324480ca3bfe2ff7809777d",
       "version_major": 2,
       "version_minor": 0
      },
      "text/plain": [
       "9b067ccb2674d34c8d7460e5ad6de325.grib:   0%|          | 0.00/235k [00:00<?, ?B/s]"
      ]
     },
     "metadata": {},
     "output_type": "display_data"
    },
    {
     "name": "stderr",
     "output_type": "stream",
     "text": [
      "2025-05-25 13:28:35,149 INFO Request ID is f7ccbded-707a-4aeb-b001-098947809ab9\n",
      "2025-05-25 13:28:35,348 INFO status has been updated to accepted\n",
      "2025-05-25 13:28:57,269 INFO status has been updated to running\n",
      "2025-05-25 13:31:28,747 INFO status has been updated to successful\n"
     ]
    },
    {
     "data": {
      "application/vnd.jupyter.widget-view+json": {
       "model_id": "6f4ccecf099e45de9359136fec47e9c2",
       "version_major": 2,
       "version_minor": 0
      },
      "text/plain": [
       "acede2964d38620556a803b6362d0d04.grib:   0%|          | 0.00/235k [00:00<?, ?B/s]"
      ]
     },
     "metadata": {},
     "output_type": "display_data"
    },
    {
     "name": "stderr",
     "output_type": "stream",
     "text": [
      "2025-05-25 13:31:34,520 INFO Request ID is 870140bd-6f6e-4e7e-9f1d-93a27cd20a7d\n",
      "2025-05-25 13:31:34,712 INFO status has been updated to accepted\n",
      "2025-05-25 13:31:43,553 INFO status has been updated to running\n",
      "2025-05-25 13:34:28,094 INFO status has been updated to successful\n"
     ]
    },
    {
     "data": {
      "application/vnd.jupyter.widget-view+json": {
       "model_id": "4ad83cdea0294b5b9912e3b6f88f65eb",
       "version_major": 2,
       "version_minor": 0
      },
      "text/plain": [
       "36346554ee37935783d099d352b140fe.grib:   0%|          | 0.00/228k [00:00<?, ?B/s]"
      ]
     },
     "metadata": {},
     "output_type": "display_data"
    },
    {
     "name": "stderr",
     "output_type": "stream",
     "text": [
      "2025-05-25 13:34:33,519 INFO Request ID is c80b59d2-4964-485f-84db-6a7cd8f48717\n",
      "2025-05-25 13:34:33,712 INFO status has been updated to accepted\n",
      "2025-05-25 13:34:42,691 INFO status has been updated to running\n",
      "2025-05-25 13:34:55,704 INFO status has been updated to accepted\n",
      "2025-05-25 13:35:07,260 INFO status has been updated to running\n",
      "2025-05-25 13:38:55,095 INFO status has been updated to successful\n"
     ]
    },
    {
     "data": {
      "application/vnd.jupyter.widget-view+json": {
       "model_id": "0df31ba0a6744dd1ae8e171a87d508e6",
       "version_major": 2,
       "version_minor": 0
      },
      "text/plain": [
       "15cff1701165872ff220f366299fbcad.grib:   0%|          | 0.00/235k [00:00<?, ?B/s]"
      ]
     },
     "metadata": {},
     "output_type": "display_data"
    },
    {
     "name": "stderr",
     "output_type": "stream",
     "text": [
      "2025-05-25 13:39:00,824 INFO Request ID is c241a6f9-aa65-4a3f-95f4-e7db72306316\n",
      "2025-05-25 13:39:01,002 INFO status has been updated to accepted\n",
      "2025-05-25 13:39:09,961 INFO status has been updated to running\n",
      "2025-05-25 13:43:21,951 INFO status has been updated to successful\n"
     ]
    },
    {
     "data": {
      "application/vnd.jupyter.widget-view+json": {
       "model_id": "879ad92caf254ff3b1bac53b70babe43",
       "version_major": 2,
       "version_minor": 0
      },
      "text/plain": [
       "f3da08b4d66acf746a392640e6a58620.grib:   0%|          | 0.00/228k [00:00<?, ?B/s]"
      ]
     },
     "metadata": {},
     "output_type": "display_data"
    },
    {
     "name": "stderr",
     "output_type": "stream",
     "text": [
      "2025-05-25 13:43:27,555 INFO Request ID is 91ee84b7-2b13-451c-af34-2e0ae31bc231\n",
      "2025-05-25 13:43:27,735 INFO status has been updated to accepted\n",
      "2025-05-25 13:43:42,136 INFO status has been updated to running\n",
      "2025-05-25 13:47:48,663 INFO status has been updated to successful\n"
     ]
    },
    {
     "data": {
      "application/vnd.jupyter.widget-view+json": {
       "model_id": "669a5723f0ef4de3a0f1150337ca18d6",
       "version_major": 2,
       "version_minor": 0
      },
      "text/plain": [
       "dfb6f2b9b7f64eab3c8374e6753b7a4b.grib:   0%|          | 0.00/235k [00:00<?, ?B/s]"
      ]
     },
     "metadata": {},
     "output_type": "display_data"
    },
    {
     "name": "stdout",
     "output_type": "stream",
     "text": [
      "Storing to...  C:/Users/sguti/WW-Data/Houston_2010.nc\n"
     ]
    },
    {
     "name": "stderr",
     "output_type": "stream",
     "text": [
      "2025-05-25 13:47:54,268 INFO Request ID is 4b58d74f-bce7-4973-b9c4-d05e6217dcb3\n",
      "2025-05-25 13:47:54,726 INFO status has been updated to accepted\n",
      "2025-05-25 13:48:04,601 INFO status has been updated to running\n",
      "2025-05-25 13:52:16,904 INFO status has been updated to successful\n"
     ]
    },
    {
     "data": {
      "application/vnd.jupyter.widget-view+json": {
       "model_id": "2103526383bb4022ba8b5c297b0ddfec",
       "version_major": 2,
       "version_minor": 0
      },
      "text/plain": [
       "aca92b19b4f9daa73e6c48d283d03475.grib:   0%|          | 0.00/235k [00:00<?, ?B/s]"
      ]
     },
     "metadata": {},
     "output_type": "display_data"
    },
    {
     "name": "stderr",
     "output_type": "stream",
     "text": [
      "2025-05-25 13:52:22,047 INFO Request ID is 2109b754-9d4e-4602-b113-613bcb6e0cfa\n",
      "2025-05-25 13:52:22,245 INFO status has been updated to accepted\n",
      "2025-05-25 13:52:27,728 INFO status has been updated to running\n",
      "2025-05-25 13:56:43,209 INFO status has been updated to successful\n"
     ]
    },
    {
     "data": {
      "application/vnd.jupyter.widget-view+json": {
       "model_id": "acf81d045154430a9afcea9a043f69aa",
       "version_major": 2,
       "version_minor": 0
      },
      "text/plain": [
       "20528b4c691c8d25ea3f2aecc482790a.grib:   0%|          | 0.00/213k [00:00<?, ?B/s]"
      ]
     },
     "metadata": {},
     "output_type": "display_data"
    },
    {
     "name": "stderr",
     "output_type": "stream",
     "text": [
      "2025-05-25 13:56:49,362 INFO Request ID is 837a90ab-0c5f-47cb-8230-610d91df844f\n",
      "2025-05-25 13:56:49,543 INFO status has been updated to accepted\n",
      "2025-05-25 13:57:11,462 INFO status has been updated to running\n",
      "2025-05-25 14:01:09,996 INFO status has been updated to successful\n"
     ]
    },
    {
     "data": {
      "application/vnd.jupyter.widget-view+json": {
       "model_id": "1e38421d066d488aa3977ff386204fe3",
       "version_major": 2,
       "version_minor": 0
      },
      "text/plain": [
       "61ec54245d5a93cfb5b2f3e23bc91b35.grib:   0%|          | 0.00/235k [00:00<?, ?B/s]"
      ]
     },
     "metadata": {},
     "output_type": "display_data"
    },
    {
     "name": "stderr",
     "output_type": "stream",
     "text": [
      "2025-05-25 14:01:15,857 INFO Request ID is 09b8da1b-be89-495d-a327-119beb0c566f\n",
      "2025-05-25 14:01:16,694 INFO status has been updated to accepted\n",
      "2025-05-25 14:02:08,016 INFO status has been updated to running\n",
      "2025-05-25 14:05:37,665 INFO status has been updated to successful\n"
     ]
    },
    {
     "data": {
      "application/vnd.jupyter.widget-view+json": {
       "model_id": "bedb5e2f3240496aa84f05792df82f58",
       "version_major": 2,
       "version_minor": 0
      },
      "text/plain": [
       "f562b90f09b9f432f8a0260b709360b4.grib:   0%|          | 0.00/228k [00:00<?, ?B/s]"
      ]
     },
     "metadata": {},
     "output_type": "display_data"
    },
    {
     "name": "stderr",
     "output_type": "stream",
     "text": [
      "2025-05-25 14:05:43,143 INFO Request ID is 32b5839d-d6c2-4b69-a8df-6f73de287710\n",
      "2025-05-25 14:05:43,319 INFO status has been updated to accepted\n",
      "2025-05-25 14:06:05,174 INFO status has been updated to running\n",
      "2025-05-25 14:10:03,714 INFO status has been updated to successful\n"
     ]
    },
    {
     "data": {
      "application/vnd.jupyter.widget-view+json": {
       "model_id": "43e86e694dab4506b991b779fd6e6f27",
       "version_major": 2,
       "version_minor": 0
      },
      "text/plain": [
       "c5db8d5e60f151686e5e2ab33a406369.grib:   0%|          | 0.00/235k [00:00<?, ?B/s]"
      ]
     },
     "metadata": {},
     "output_type": "display_data"
    },
    {
     "name": "stderr",
     "output_type": "stream",
     "text": [
      "2025-05-25 14:10:09,355 INFO Request ID is 60cb3ffe-205e-4fbe-aad2-4ddc9ed494c8\n",
      "2025-05-25 14:10:09,539 INFO status has been updated to accepted\n",
      "2025-05-25 14:10:42,936 INFO status has been updated to running\n",
      "2025-05-25 14:14:29,839 INFO status has been updated to successful\n"
     ]
    },
    {
     "data": {
      "application/vnd.jupyter.widget-view+json": {
       "model_id": "50f7ad376c6b4906bb7c814338b02632",
       "version_major": 2,
       "version_minor": 0
      },
      "text/plain": [
       "5d8306dc0bf433d848808224a6d3e91.grib:   0%|          | 0.00/228k [00:00<?, ?B/s]"
      ]
     },
     "metadata": {},
     "output_type": "display_data"
    },
    {
     "name": "stderr",
     "output_type": "stream",
     "text": [
      "2025-05-25 14:14:35,314 INFO Request ID is e746979b-2380-442b-872b-c4569ef2de63\n",
      "2025-05-25 14:14:35,530 INFO status has been updated to accepted\n",
      "2025-05-25 14:14:57,533 INFO status has been updated to running\n",
      "2025-05-25 14:18:56,164 INFO status has been updated to successful\n"
     ]
    },
    {
     "data": {
      "application/vnd.jupyter.widget-view+json": {
       "model_id": "b1af674862e84e9b9a497b2224d7f48b",
       "version_major": 2,
       "version_minor": 0
      },
      "text/plain": [
       "20095d183052e7205d899cd15e23416e.grib:   0%|          | 0.00/235k [00:00<?, ?B/s]"
      ]
     },
     "metadata": {},
     "output_type": "display_data"
    },
    {
     "name": "stderr",
     "output_type": "stream",
     "text": [
      "2025-05-25 14:19:03,143 INFO Request ID is 5fc55f94-bcf2-4b89-9472-de6a27e30ec9\n",
      "2025-05-25 14:19:03,327 INFO status has been updated to accepted\n",
      "2025-05-25 14:19:18,101 INFO status has been updated to running\n",
      "2025-05-25 14:21:57,467 INFO status has been updated to successful\n"
     ]
    },
    {
     "data": {
      "application/vnd.jupyter.widget-view+json": {
       "model_id": "a9a9d508367a4e6ba74f200a6a5bdeba",
       "version_major": 2,
       "version_minor": 0
      },
      "text/plain": [
       "49d1971a75fc9b8af2bcc5130f6af77e.grib:   0%|          | 0.00/235k [00:00<?, ?B/s]"
      ]
     },
     "metadata": {},
     "output_type": "display_data"
    },
    {
     "name": "stderr",
     "output_type": "stream",
     "text": [
      "2025-05-25 14:22:03,932 INFO Request ID is dec1cf87-5adb-419e-9cdf-2605834440b8\n",
      "2025-05-25 14:22:04,168 INFO status has been updated to accepted\n",
      "2025-05-25 14:22:26,555 INFO status has been updated to running\n",
      "2025-05-25 14:24:58,290 INFO status has been updated to successful\n"
     ]
    },
    {
     "data": {
      "application/vnd.jupyter.widget-view+json": {
       "model_id": "512b46502fbf4af08840e0f5d4da31ec",
       "version_major": 2,
       "version_minor": 0
      },
      "text/plain": [
       "16621abb6221e00e480ba8bfeb8dafd6.grib:   0%|          | 0.00/228k [00:00<?, ?B/s]"
      ]
     },
     "metadata": {},
     "output_type": "display_data"
    },
    {
     "name": "stderr",
     "output_type": "stream",
     "text": [
      "2025-05-25 14:25:03,852 INFO Request ID is e0ccb188-ad98-493c-aa95-12d8efdfc299\n",
      "2025-05-25 14:25:04,112 INFO status has been updated to accepted\n",
      "2025-05-25 14:25:18,279 INFO status has been updated to running\n",
      "2025-05-25 14:27:57,612 INFO status has been updated to successful\n"
     ]
    },
    {
     "data": {
      "application/vnd.jupyter.widget-view+json": {
       "model_id": "8cb0583f038d49208194b5435b361023",
       "version_major": 2,
       "version_minor": 0
      },
      "text/plain": [
       "5b7435635b9e505b30727d003a3961d6.grib:   0%|          | 0.00/235k [00:00<?, ?B/s]"
      ]
     },
     "metadata": {},
     "output_type": "display_data"
    },
    {
     "name": "stderr",
     "output_type": "stream",
     "text": [
      "2025-05-25 14:28:04,065 INFO Request ID is ac4ecc87-20ae-46f0-8cf0-8d008d3d51a1\n",
      "2025-05-25 14:28:04,272 INFO status has been updated to accepted\n",
      "2025-05-25 14:28:26,250 INFO status has been updated to running\n",
      "2025-05-25 14:30:57,979 INFO status has been updated to successful\n"
     ]
    },
    {
     "data": {
      "application/vnd.jupyter.widget-view+json": {
       "model_id": "f33db405d56048859ea87979b1410e20",
       "version_major": 2,
       "version_minor": 0
      },
      "text/plain": [
       "d527b754b5fd42f752c385ce49af3b1a.grib:   0%|          | 0.00/228k [00:00<?, ?B/s]"
      ]
     },
     "metadata": {},
     "output_type": "display_data"
    },
    {
     "name": "stderr",
     "output_type": "stream",
     "text": [
      "2025-05-25 14:31:03,564 INFO Request ID is d33fa709-629e-4a70-b6bf-e3a3f8309df6\n",
      "2025-05-25 14:31:03,745 INFO status has been updated to accepted\n",
      "2025-05-25 14:31:18,021 INFO status has been updated to running\n",
      "2025-05-25 14:33:57,560 INFO status has been updated to successful\n"
     ]
    },
    {
     "data": {
      "application/vnd.jupyter.widget-view+json": {
       "model_id": "c23b2251e37a44508dee92f1758d018f",
       "version_major": 2,
       "version_minor": 0
      },
      "text/plain": [
       "17cba26ef24a09197ff3a71a9469624f.grib:   0%|          | 0.00/235k [00:00<?, ?B/s]"
      ]
     },
     "metadata": {},
     "output_type": "display_data"
    },
    {
     "name": "stdout",
     "output_type": "stream",
     "text": [
      "Storing to...  C:/Users/sguti/WW-Data/Houston_2011.nc\n"
     ]
    },
    {
     "name": "stderr",
     "output_type": "stream",
     "text": [
      "2025-05-25 14:34:03,283 INFO Request ID is 13241009-df51-4ee5-9d1a-8a1c95007ce8\n",
      "2025-05-25 14:34:03,456 INFO status has been updated to accepted\n",
      "2025-05-25 14:34:17,539 INFO status has been updated to running\n",
      "2025-05-25 14:36:57,145 INFO status has been updated to successful\n"
     ]
    },
    {
     "data": {
      "application/vnd.jupyter.widget-view+json": {
       "model_id": "42ef55eee1c746c39081a3c447ef2801",
       "version_major": 2,
       "version_minor": 0
      },
      "text/plain": [
       "5ca0028b2a56f11314cf615ae6665a7a.grib:   0%|          | 0.00/235k [00:00<?, ?B/s]"
      ]
     },
     "metadata": {},
     "output_type": "display_data"
    },
    {
     "name": "stderr",
     "output_type": "stream",
     "text": [
      "2025-05-25 14:37:01,879 INFO Request ID is d2293c1a-47de-4220-a09b-811a5fb5461a\n",
      "2025-05-25 14:37:02,068 INFO status has been updated to accepted\n",
      "2025-05-25 14:37:16,175 INFO status has been updated to running\n",
      "2025-05-25 14:39:55,838 INFO status has been updated to successful\n"
     ]
    },
    {
     "data": {
      "application/vnd.jupyter.widget-view+json": {
       "model_id": "bb051b2163fd440eaa632e073838acd6",
       "version_major": 2,
       "version_minor": 0
      },
      "text/plain": [
       "92b61286f8ed9d20be5213df87561b6b.grib:   0%|          | 0.00/220k [00:00<?, ?B/s]"
      ]
     },
     "metadata": {},
     "output_type": "display_data"
    },
    {
     "name": "stderr",
     "output_type": "stream",
     "text": [
      "2025-05-25 14:40:02,645 INFO Request ID is cbab4f50-a134-4ce1-939f-47719f151ba4\n",
      "2025-05-25 14:40:02,829 INFO status has been updated to accepted\n",
      "2025-05-25 14:40:16,951 INFO status has been updated to running\n",
      "2025-05-25 14:42:56,237 INFO status has been updated to successful\n"
     ]
    },
    {
     "data": {
      "application/vnd.jupyter.widget-view+json": {
       "model_id": "c62758baf13640689429005cb9f8104c",
       "version_major": 2,
       "version_minor": 0
      },
      "text/plain": [
       "35cc634da5c531e2a6822ee5e84a309c.grib:   0%|          | 0.00/235k [00:00<?, ?B/s]"
      ]
     },
     "metadata": {},
     "output_type": "display_data"
    },
    {
     "name": "stderr",
     "output_type": "stream",
     "text": [
      "2025-05-25 14:43:01,736 INFO Request ID is 911fbdda-469a-4fa3-b94d-16e3580b6b0a\n",
      "2025-05-25 14:43:01,922 INFO status has been updated to accepted\n",
      "2025-05-25 14:43:16,447 INFO status has been updated to running\n",
      "2025-05-25 14:43:24,225 INFO status has been updated to accepted\n",
      "2025-05-25 14:43:35,785 INFO status has been updated to running\n",
      "2025-05-25 14:47:22,901 INFO status has been updated to successful\n"
     ]
    },
    {
     "data": {
      "application/vnd.jupyter.widget-view+json": {
       "model_id": "5fc7e4eeabec4ea2ad300c9326c4d6f1",
       "version_major": 2,
       "version_minor": 0
      },
      "text/plain": [
       "b07fe757345f1f57071ba016521737de.grib:   0%|          | 0.00/228k [00:00<?, ?B/s]"
      ]
     },
     "metadata": {},
     "output_type": "display_data"
    },
    {
     "name": "stderr",
     "output_type": "stream",
     "text": [
      "2025-05-25 14:47:28,639 INFO Request ID is d5bf4c14-196f-402d-a0b5-45c4ffe9876b\n",
      "2025-05-25 14:47:28,828 INFO status has been updated to accepted\n",
      "2025-05-25 14:47:42,979 INFO status has been updated to running\n",
      "2025-05-25 14:50:22,274 INFO status has been updated to successful\n"
     ]
    },
    {
     "data": {
      "application/vnd.jupyter.widget-view+json": {
       "model_id": "e8b8399705fa49d1aaef66dec78bf431",
       "version_major": 2,
       "version_minor": 0
      },
      "text/plain": [
       "da0f2fa056f15579d64a3a6e55d3ef11.grib:   0%|          | 0.00/235k [00:00<?, ?B/s]"
      ]
     },
     "metadata": {},
     "output_type": "display_data"
    },
    {
     "name": "stderr",
     "output_type": "stream",
     "text": [
      "2025-05-25 14:50:27,810 INFO Request ID is e70de7d2-7de6-40e1-9444-2163cf0b44c8\n",
      "2025-05-25 14:50:28,003 INFO status has been updated to accepted\n",
      "2025-05-25 14:50:37,009 INFO status has been updated to running\n",
      "2025-05-25 14:53:21,854 INFO status has been updated to successful\n"
     ]
    },
    {
     "data": {
      "application/vnd.jupyter.widget-view+json": {
       "model_id": "053ccb4acbee46159168d82faf7771ea",
       "version_major": 2,
       "version_minor": 0
      },
      "text/plain": [
       "ba21e490ef8239ec2963fdd9b4efbf3e.grib:   0%|          | 0.00/228k [00:00<?, ?B/s]"
      ]
     },
     "metadata": {},
     "output_type": "display_data"
    },
    {
     "name": "stderr",
     "output_type": "stream",
     "text": [
      "2025-05-25 14:53:27,472 INFO Request ID is 7afc1eb9-b586-484c-b278-032b902b3e57\n",
      "2025-05-25 14:53:27,646 INFO status has been updated to accepted\n",
      "2025-05-25 14:53:41,844 INFO status has been updated to running\n",
      "2025-05-25 14:57:48,111 INFO status has been updated to successful\n"
     ]
    },
    {
     "data": {
      "application/vnd.jupyter.widget-view+json": {
       "model_id": "6e177da1915e4939a7d583da5ec4fd5b",
       "version_major": 2,
       "version_minor": 0
      },
      "text/plain": [
       "b4f381f30650eef8902fc8936663706a.grib:   0%|          | 0.00/235k [00:00<?, ?B/s]"
      ]
     },
     "metadata": {},
     "output_type": "display_data"
    },
    {
     "name": "stderr",
     "output_type": "stream",
     "text": [
      "2025-05-25 14:57:53,502 INFO Request ID is 981b728a-7938-4ff5-a45b-78969078c2aa\n",
      "2025-05-25 14:57:53,766 INFO status has been updated to accepted\n",
      "2025-05-25 14:58:02,807 INFO status has been updated to running\n",
      "2025-05-25 15:00:47,394 INFO status has been updated to successful\n"
     ]
    },
    {
     "data": {
      "application/vnd.jupyter.widget-view+json": {
       "model_id": "6ef7e1613d0644249ad414350d341b6f",
       "version_major": 2,
       "version_minor": 0
      },
      "text/plain": [
       "c80848f9cec29eb5e7694a67fab4772d.grib:   0%|          | 0.00/235k [00:00<?, ?B/s]"
      ]
     },
     "metadata": {},
     "output_type": "display_data"
    },
    {
     "name": "stderr",
     "output_type": "stream",
     "text": [
      "2025-05-25 15:00:53,003 INFO Request ID is c6ad735a-d70f-4f4d-941f-3c83d90222c1\n",
      "2025-05-25 15:00:53,182 INFO status has been updated to accepted\n",
      "2025-05-25 15:02:09,795 INFO status has been updated to running\n",
      "2025-05-25 15:05:13,675 INFO status has been updated to successful\n"
     ]
    },
    {
     "data": {
      "application/vnd.jupyter.widget-view+json": {
       "model_id": "029f5d40c1ea47fa99c90dc231f6f6d1",
       "version_major": 2,
       "version_minor": 0
      },
      "text/plain": [
       "1d16ac1c866989877ddc28cce07e4012.grib:   0%|          | 0.00/228k [00:00<?, ?B/s]"
      ]
     },
     "metadata": {},
     "output_type": "display_data"
    },
    {
     "name": "stderr",
     "output_type": "stream",
     "text": [
      "2025-05-25 15:05:19,257 INFO Request ID is c5b12b04-4856-4057-bb17-f66742f17568\n",
      "2025-05-25 15:05:19,434 INFO status has been updated to accepted\n",
      "2025-05-25 15:05:24,798 INFO status has been updated to running\n",
      "2025-05-25 15:09:40,136 INFO status has been updated to successful\n"
     ]
    },
    {
     "data": {
      "application/vnd.jupyter.widget-view+json": {
       "model_id": "1e48a1f6da534ca997b6c6b00a583fd1",
       "version_major": 2,
       "version_minor": 0
      },
      "text/plain": [
       "e598a5919f32271a06ee661f92a1b9be.grib:   0%|          | 0.00/235k [00:00<?, ?B/s]"
      ]
     },
     "metadata": {},
     "output_type": "display_data"
    },
    {
     "name": "stderr",
     "output_type": "stream",
     "text": [
      "2025-05-25 15:09:45,768 INFO Request ID is feb70253-cfce-47f5-9a73-d36feebfb3cb\n",
      "2025-05-25 15:09:45,952 INFO status has been updated to accepted\n",
      "2025-05-25 15:09:56,121 INFO status has been updated to running\n",
      "2025-05-25 15:12:46,070 INFO status has been updated to successful\n"
     ]
    },
    {
     "data": {
      "application/vnd.jupyter.widget-view+json": {
       "model_id": "b860498967b945e4b8e794aa688faf9c",
       "version_major": 2,
       "version_minor": 0
      },
      "text/plain": [
       "59f52d7acc1f8ee263e36c12d8197c89.grib:   0%|          | 0.00/228k [00:00<?, ?B/s]"
      ]
     },
     "metadata": {},
     "output_type": "display_data"
    },
    {
     "name": "stderr",
     "output_type": "stream",
     "text": [
      "2025-05-25 15:12:51,468 INFO Request ID is f3b9ec76-d9db-4493-9101-d14d7643cfb7\n",
      "2025-05-25 15:12:51,656 INFO status has been updated to accepted\n",
      "2025-05-25 15:13:05,748 INFO status has been updated to running\n",
      "2025-05-25 15:15:45,107 INFO status has been updated to successful\n"
     ]
    },
    {
     "data": {
      "application/vnd.jupyter.widget-view+json": {
       "model_id": "d768b3baed7e466eb05cdb1914b30e36",
       "version_major": 2,
       "version_minor": 0
      },
      "text/plain": [
       "2c4c2d11762de9fc396c402092840612.grib:   0%|          | 0.00/235k [00:00<?, ?B/s]"
      ]
     },
     "metadata": {},
     "output_type": "display_data"
    },
    {
     "name": "stdout",
     "output_type": "stream",
     "text": [
      "Storing to...  C:/Users/sguti/WW-Data/Houston_2012.nc\n"
     ]
    },
    {
     "name": "stderr",
     "output_type": "stream",
     "text": [
      "2025-05-25 15:15:50,706 INFO Request ID is 20566004-c7c0-40a3-81bd-cc0e082e0df8\n",
      "2025-05-25 15:15:50,893 INFO status has been updated to accepted\n",
      "2025-05-25 15:16:24,357 INFO status has been updated to running\n",
      "2025-05-25 15:20:11,432 INFO status has been updated to successful\n"
     ]
    },
    {
     "data": {
      "application/vnd.jupyter.widget-view+json": {
       "model_id": "1ad652434fea4639894296ca49c4f24c",
       "version_major": 2,
       "version_minor": 0
      },
      "text/plain": [
       "3a4cc363e2d4ea45d6148e1ea6dc3687.grib:   0%|          | 0.00/235k [00:00<?, ?B/s]"
      ]
     },
     "metadata": {},
     "output_type": "display_data"
    },
    {
     "name": "stderr",
     "output_type": "stream",
     "text": [
      "2025-05-25 15:20:15,982 INFO Request ID is 92b6369a-9210-4447-a22d-827980f7b4ef\n",
      "2025-05-25 15:20:16,174 INFO status has been updated to accepted\n",
      "2025-05-25 15:20:49,759 INFO status has been updated to running\n",
      "2025-05-25 15:23:09,686 INFO status has been updated to successful\n"
     ]
    },
    {
     "data": {
      "application/vnd.jupyter.widget-view+json": {
       "model_id": "28a1de434fec4a1b92d120282cd21f1a",
       "version_major": 2,
       "version_minor": 0
      },
      "text/plain": [
       "53706fe8fe68e88f6ebe4c3894ebfdd0.grib:   0%|          | 0.00/213k [00:00<?, ?B/s]"
      ]
     },
     "metadata": {},
     "output_type": "display_data"
    },
    {
     "name": "stderr",
     "output_type": "stream",
     "text": [
      "2025-05-25 15:23:17,351 INFO Request ID is 5fbaa63f-a85c-4e62-b9c1-0945c8e3d55f\n",
      "2025-05-25 15:23:17,529 INFO status has been updated to accepted\n",
      "2025-05-25 15:23:26,513 INFO status has been updated to running\n",
      "2025-05-25 15:26:10,955 INFO status has been updated to successful\n"
     ]
    },
    {
     "data": {
      "application/vnd.jupyter.widget-view+json": {
       "model_id": "1a13bcf55eef40c4bdb8974bf4da60ec",
       "version_major": 2,
       "version_minor": 0
      },
      "text/plain": [
       "341bf1c8919ea043483fca11dc1d7740.grib:   0%|          | 0.00/235k [00:00<?, ?B/s]"
      ]
     },
     "metadata": {},
     "output_type": "display_data"
    },
    {
     "name": "stderr",
     "output_type": "stream",
     "text": [
      "2025-05-25 15:26:16,379 INFO Request ID is bc79f6ac-83fc-4569-94fb-973f411320d5\n",
      "2025-05-25 15:26:16,587 INFO status has been updated to accepted\n",
      "2025-05-25 15:26:25,454 INFO status has been updated to running\n",
      "2025-05-25 15:30:37,981 INFO status has been updated to successful\n"
     ]
    },
    {
     "data": {
      "application/vnd.jupyter.widget-view+json": {
       "model_id": "4f5c4b334f8842cc9731e087d65a9250",
       "version_major": 2,
       "version_minor": 0
      },
      "text/plain": [
       "1c4f4e02658754da0b9a50f04d08bc2.grib:   0%|          | 0.00/228k [00:00<?, ?B/s]"
      ]
     },
     "metadata": {},
     "output_type": "display_data"
    },
    {
     "name": "stderr",
     "output_type": "stream",
     "text": [
      "2025-05-25 15:30:43,654 INFO Request ID is 72c5c2f9-8c90-434c-9037-8091caa1863a\n",
      "2025-05-25 15:30:43,834 INFO status has been updated to accepted\n",
      "2025-05-25 15:30:58,118 INFO status has been updated to running\n",
      "2025-05-25 15:35:09,598 INFO status has been updated to successful\n"
     ]
    },
    {
     "data": {
      "application/vnd.jupyter.widget-view+json": {
       "model_id": "1289b02626ba460fa89d3036e2debc13",
       "version_major": 2,
       "version_minor": 0
      },
      "text/plain": [
       "6190430351efc085a991313c95567faa.grib:   0%|          | 0.00/235k [00:00<?, ?B/s]"
      ]
     },
     "metadata": {},
     "output_type": "display_data"
    },
    {
     "name": "stderr",
     "output_type": "stream",
     "text": [
      "2025-05-25 15:35:15,025 INFO Request ID is 54a914c2-2d4e-4b92-8dc4-240f180f51a3\n",
      "2025-05-25 15:35:15,492 INFO status has been updated to accepted\n",
      "2025-05-25 15:35:38,064 INFO status has been updated to running\n",
      "2025-05-25 15:38:09,556 INFO status has been updated to successful\n"
     ]
    },
    {
     "data": {
      "application/vnd.jupyter.widget-view+json": {
       "model_id": "81350301055d40feb8a0675e460754cc",
       "version_major": 2,
       "version_minor": 0
      },
      "text/plain": [
       "8e38a9d3a40fbf043882797d02b93491.grib:   0%|          | 0.00/228k [00:00<?, ?B/s]"
      ]
     },
     "metadata": {},
     "output_type": "display_data"
    },
    {
     "name": "stderr",
     "output_type": "stream",
     "text": [
      "2025-05-25 15:38:15,020 INFO Request ID is f46cd662-4830-46c9-a6ee-c63ecf8529db\n",
      "2025-05-25 15:38:15,210 INFO status has been updated to accepted\n",
      "2025-05-25 15:38:24,073 INFO status has been updated to running\n",
      "2025-05-25 15:41:08,837 INFO status has been updated to successful\n"
     ]
    },
    {
     "data": {
      "application/vnd.jupyter.widget-view+json": {
       "model_id": "0dda9fbceadc4c6fbe9c462ff609eb55",
       "version_major": 2,
       "version_minor": 0
      },
      "text/plain": [
       "f4c6f163e918bca93f1fc8b902c5197d.grib:   0%|          | 0.00/235k [00:00<?, ?B/s]"
      ]
     },
     "metadata": {},
     "output_type": "display_data"
    },
    {
     "name": "stderr",
     "output_type": "stream",
     "text": [
      "2025-05-25 15:41:14,276 INFO Request ID is c05deb1a-e8cd-43b0-a0d6-ff88e0c39295\n",
      "2025-05-25 15:41:14,576 INFO status has been updated to accepted\n",
      "2025-05-25 15:41:28,964 INFO status has been updated to running\n",
      "2025-05-25 15:45:35,222 INFO status has been updated to successful\n"
     ]
    },
    {
     "data": {
      "application/vnd.jupyter.widget-view+json": {
       "model_id": "e4f126b36d06492f89e85d37f56ebab2",
       "version_major": 2,
       "version_minor": 0
      },
      "text/plain": [
       "3ec0dc6afb8c441458b825766132cdd.grib:   0%|          | 0.00/235k [00:00<?, ?B/s]"
      ]
     },
     "metadata": {},
     "output_type": "display_data"
    },
    {
     "name": "stderr",
     "output_type": "stream",
     "text": [
      "2025-05-25 15:45:40,982 INFO Request ID is 768ac347-c3b1-45ae-bf7f-6e4ace3a4b56\n",
      "2025-05-25 15:45:41,158 INFO status has been updated to accepted\n",
      "2025-05-25 15:46:57,849 INFO status has been updated to running\n",
      "2025-05-25 15:50:01,677 INFO status has been updated to successful\n"
     ]
    },
    {
     "data": {
      "application/vnd.jupyter.widget-view+json": {
       "model_id": "fb31dd4fd12940b2ace5195a6eeaacb5",
       "version_major": 2,
       "version_minor": 0
      },
      "text/plain": [
       "d016a17f5738b88a8a379f698a21b79b.grib:   0%|          | 0.00/228k [00:00<?, ?B/s]"
      ]
     },
     "metadata": {},
     "output_type": "display_data"
    },
    {
     "name": "stderr",
     "output_type": "stream",
     "text": [
      "2025-05-25 15:50:08,617 INFO Request ID is 8c481865-2299-49d9-b626-acdc10c30b3e\n",
      "2025-05-25 15:50:09,515 INFO status has been updated to accepted\n",
      "2025-05-25 15:50:15,878 INFO status has been updated to running\n",
      "2025-05-25 15:54:31,259 INFO status has been updated to successful\n"
     ]
    },
    {
     "data": {
      "application/vnd.jupyter.widget-view+json": {
       "model_id": "538def198497468097e330d6009a2726",
       "version_major": 2,
       "version_minor": 0
      },
      "text/plain": [
       "634f7648aead2a47ece485d50304991.grib:   0%|          | 0.00/235k [00:00<?, ?B/s]"
      ]
     },
     "metadata": {},
     "output_type": "display_data"
    },
    {
     "name": "stderr",
     "output_type": "stream",
     "text": [
      "2025-05-25 15:54:37,266 INFO Request ID is 1fda2745-709e-4198-8ed3-d901e872ac40\n",
      "2025-05-25 15:54:37,448 INFO status has been updated to accepted\n",
      "2025-05-25 15:54:46,513 INFO status has been updated to running\n",
      "2025-05-25 15:57:31,572 INFO status has been updated to successful\n"
     ]
    },
    {
     "data": {
      "application/vnd.jupyter.widget-view+json": {
       "model_id": "7624e7146cb64bf88a591f31b3e697de",
       "version_major": 2,
       "version_minor": 0
      },
      "text/plain": [
       "48e4fcd404480c5a2dca1e6d3b0b6200.grib:   0%|          | 0.00/228k [00:00<?, ?B/s]"
      ]
     },
     "metadata": {},
     "output_type": "display_data"
    },
    {
     "name": "stderr",
     "output_type": "stream",
     "text": [
      "2025-05-25 15:57:37,049 INFO Request ID is d9e3e42d-bb48-4fd0-88c4-10ac1ffeb909\n",
      "2025-05-25 15:57:37,262 INFO status has been updated to accepted\n",
      "2025-05-25 15:57:44,945 INFO status has been updated to running\n",
      "2025-05-25 16:00:33,960 INFO status has been updated to successful\n"
     ]
    },
    {
     "data": {
      "application/vnd.jupyter.widget-view+json": {
       "model_id": "7abd6cdfaa984685807b7f2a6377df96",
       "version_major": 2,
       "version_minor": 0
      },
      "text/plain": [
       "23d6cd4ad39b3284ba4e733f5af77fd1.grib:   0%|          | 0.00/235k [00:00<?, ?B/s]"
      ]
     },
     "metadata": {},
     "output_type": "display_data"
    },
    {
     "name": "stdout",
     "output_type": "stream",
     "text": [
      "Storing to...  C:/Users/sguti/WW-Data/Houston_2013.nc\n"
     ]
    },
    {
     "name": "stderr",
     "output_type": "stream",
     "text": [
      "2025-05-25 16:00:41,615 INFO Request ID is 178d75d1-c130-4ed0-9656-a71b870cde34\n",
      "2025-05-25 16:00:41,795 INFO status has been updated to accepted\n",
      "2025-05-25 16:00:47,224 INFO status has been updated to running\n",
      "2025-05-25 16:01:32,867 INFO status has been updated to accepted\n",
      "2025-05-25 16:01:58,907 INFO status has been updated to running\n",
      "2025-05-25 16:05:02,799 INFO status has been updated to successful\n"
     ]
    },
    {
     "data": {
      "application/vnd.jupyter.widget-view+json": {
       "model_id": "7b6ba5a8f2324131bd2129286bc5fdbf",
       "version_major": 2,
       "version_minor": 0
      },
      "text/plain": [
       "8d4aa34d04d900b6b1543a2328e4f4f1.grib:   0%|          | 0.00/235k [00:00<?, ?B/s]"
      ]
     },
     "metadata": {},
     "output_type": "display_data"
    },
    {
     "name": "stderr",
     "output_type": "stream",
     "text": [
      "2025-05-25 16:05:07,427 INFO Request ID is a96f00e7-4ec6-4616-83c0-df4f90b99df3\n",
      "2025-05-25 16:05:07,617 INFO status has been updated to accepted\n",
      "2025-05-25 16:05:29,446 INFO status has been updated to running\n",
      "2025-05-25 16:09:28,501 INFO status has been updated to successful\n"
     ]
    },
    {
     "data": {
      "application/vnd.jupyter.widget-view+json": {
       "model_id": "4210eb44eea94d70a65733c77ae29e85",
       "version_major": 2,
       "version_minor": 0
      },
      "text/plain": [
       "23f0d10723db5240bb986c99deff68f7.grib:   0%|          | 0.00/213k [00:00<?, ?B/s]"
      ]
     },
     "metadata": {},
     "output_type": "display_data"
    },
    {
     "name": "stderr",
     "output_type": "stream",
     "text": [
      "2025-05-25 16:09:34,950 INFO Request ID is e7481105-ccd8-451c-874b-fb88892655d1\n",
      "2025-05-25 16:09:35,134 INFO status has been updated to accepted\n",
      "2025-05-25 16:09:43,981 INFO status has been updated to running\n",
      "2025-05-25 16:12:29,544 INFO status has been updated to successful\n"
     ]
    },
    {
     "data": {
      "application/vnd.jupyter.widget-view+json": {
       "model_id": "850e1f970496442990ef62e583f1c4ca",
       "version_major": 2,
       "version_minor": 0
      },
      "text/plain": [
       "f4ff53849d0a57075f7419d7e1fdc4cc.grib:   0%|          | 0.00/235k [00:00<?, ?B/s]"
      ]
     },
     "metadata": {},
     "output_type": "display_data"
    },
    {
     "name": "stderr",
     "output_type": "stream",
     "text": [
      "2025-05-25 16:12:35,187 INFO Request ID is 30f31b10-1096-43a3-ae96-dfe0c68152ce\n",
      "2025-05-25 16:12:35,382 INFO status has been updated to accepted\n",
      "2025-05-25 16:12:44,283 INFO status has been updated to running\n",
      "2025-05-25 16:16:56,637 INFO status has been updated to successful\n"
     ]
    },
    {
     "data": {
      "application/vnd.jupyter.widget-view+json": {
       "model_id": "862ca606b36943a3ab7543ba4f38b1c7",
       "version_major": 2,
       "version_minor": 0
      },
      "text/plain": [
       "69a2e570e52c48e2e5f08ec89173075c.grib:   0%|          | 0.00/228k [00:00<?, ?B/s]"
      ]
     },
     "metadata": {},
     "output_type": "display_data"
    },
    {
     "name": "stderr",
     "output_type": "stream",
     "text": [
      "2025-05-25 16:17:02,047 INFO Request ID is bc2bcf79-0b43-46b0-8a7c-58fb08bb505c\n",
      "2025-05-25 16:17:02,475 INFO status has been updated to accepted\n",
      "2025-05-25 16:17:11,395 INFO status has been updated to running\n",
      "2025-05-25 16:21:23,092 INFO status has been updated to successful\n"
     ]
    },
    {
     "data": {
      "application/vnd.jupyter.widget-view+json": {
       "model_id": "c58c7595c6bc4349b9fb9d52ebe5f948",
       "version_major": 2,
       "version_minor": 0
      },
      "text/plain": [
       "792fd5a689b0143ae9246e493011cffb.grib:   0%|          | 0.00/235k [00:00<?, ?B/s]"
      ]
     },
     "metadata": {},
     "output_type": "display_data"
    },
    {
     "name": "stderr",
     "output_type": "stream",
     "text": [
      "2025-05-25 16:21:28,632 INFO Request ID is 44d354a4-1755-40a4-8ce8-03f50c9a4aee\n",
      "2025-05-25 16:21:28,825 INFO status has been updated to accepted\n",
      "2025-05-25 16:21:37,681 INFO status has been updated to running\n",
      "2025-05-25 16:24:22,466 INFO status has been updated to successful\n"
     ]
    },
    {
     "data": {
      "application/vnd.jupyter.widget-view+json": {
       "model_id": "63861d52f40c4b398b68f3d91a1c46da",
       "version_major": 2,
       "version_minor": 0
      },
      "text/plain": [
       "16aa7e64bf5dba5e8286204a1195a7aa.grib:   0%|          | 0.00/228k [00:00<?, ?B/s]"
      ]
     },
     "metadata": {},
     "output_type": "display_data"
    },
    {
     "name": "stderr",
     "output_type": "stream",
     "text": [
      "2025-05-25 16:24:27,954 INFO Request ID is 4b5a06a6-a313-449f-a024-c6ac3ad43454\n",
      "2025-05-25 16:24:28,127 INFO status has been updated to accepted\n",
      "2025-05-25 16:24:39,074 INFO status has been updated to running\n",
      "2025-05-25 16:24:44,338 INFO status has been updated to accepted\n",
      "2025-05-25 16:25:03,733 INFO status has been updated to running\n",
      "2025-05-25 16:27:23,779 INFO status has been updated to successful\n"
     ]
    },
    {
     "data": {
      "application/vnd.jupyter.widget-view+json": {
       "model_id": "bf73c1f3e8f94ca6b2635c08028cd6b2",
       "version_major": 2,
       "version_minor": 0
      },
      "text/plain": [
       "cd30499a4cc786b6e75685c67fe57417.grib:   0%|          | 0.00/235k [00:00<?, ?B/s]"
      ]
     },
     "metadata": {},
     "output_type": "display_data"
    },
    {
     "name": "stderr",
     "output_type": "stream",
     "text": [
      "2025-05-25 16:27:29,306 INFO Request ID is 205c0936-68b1-4b2c-b410-992f27917044\n",
      "2025-05-25 16:27:29,529 INFO status has been updated to accepted\n",
      "2025-05-25 16:27:43,630 INFO status has been updated to running\n",
      "2025-05-25 16:27:51,406 INFO status has been updated to accepted\n",
      "2025-05-25 16:28:02,980 INFO status has been updated to running\n",
      "2025-05-25 16:30:22,888 INFO status has been updated to successful\n"
     ]
    },
    {
     "data": {
      "application/vnd.jupyter.widget-view+json": {
       "model_id": "aab2ad27359a46ee9acb4359c3b2bb71",
       "version_major": 2,
       "version_minor": 0
      },
      "text/plain": [
       "1b541285972a200b0b3092e727c4fb4c.grib:   0%|          | 0.00/235k [00:00<?, ?B/s]"
      ]
     },
     "metadata": {},
     "output_type": "display_data"
    },
    {
     "name": "stderr",
     "output_type": "stream",
     "text": [
      "2025-05-25 16:30:29,150 INFO Request ID is 714d94d6-b7d2-4abe-925d-5f9c9e90a23f\n",
      "2025-05-25 16:30:29,462 INFO status has been updated to accepted\n",
      "2025-05-25 16:31:03,326 INFO status has been updated to running\n",
      "2025-05-25 16:34:50,506 INFO status has been updated to successful\n"
     ]
    },
    {
     "data": {
      "application/vnd.jupyter.widget-view+json": {
       "model_id": "c15bb4122a714d348415a63b50432af3",
       "version_major": 2,
       "version_minor": 0
      },
      "text/plain": [
       "ae3ead0d2eab2a28de9dedb33ea678f4.grib:   0%|          | 0.00/228k [00:00<?, ?B/s]"
      ]
     },
     "metadata": {},
     "output_type": "display_data"
    },
    {
     "name": "stderr",
     "output_type": "stream",
     "text": [
      "2025-05-25 16:34:56,492 INFO Request ID is 92cbbad0-b21c-41ad-80af-69b4b28ac8d7\n",
      "2025-05-25 16:34:56,750 INFO status has been updated to accepted\n",
      "2025-05-25 16:35:05,617 INFO status has been updated to running\n",
      "2025-05-25 16:37:50,138 INFO status has been updated to successful\n"
     ]
    },
    {
     "data": {
      "application/vnd.jupyter.widget-view+json": {
       "model_id": "75b8bcdf4b794eebb301e55c900bf5b5",
       "version_major": 2,
       "version_minor": 0
      },
      "text/plain": [
       "164fdc1ed6bacf4c9ebdeebadf227fb7.grib:   0%|          | 0.00/235k [00:00<?, ?B/s]"
      ]
     },
     "metadata": {},
     "output_type": "display_data"
    },
    {
     "name": "stderr",
     "output_type": "stream",
     "text": [
      "2025-05-25 16:37:56,098 INFO Request ID is 2c7ed07b-71c2-4532-ba4f-77272e7cecc9\n",
      "2025-05-25 16:37:56,274 INFO status has been updated to accepted\n",
      "2025-05-25 16:38:10,349 INFO status has been updated to running\n",
      "2025-05-25 16:40:49,562 INFO status has been updated to successful\n"
     ]
    },
    {
     "data": {
      "application/vnd.jupyter.widget-view+json": {
       "model_id": "f4ef3ebe0dce4394839c2910228c48bb",
       "version_major": 2,
       "version_minor": 0
      },
      "text/plain": [
       "8697f389b683dc1838a117554643e974.grib:   0%|          | 0.00/228k [00:00<?, ?B/s]"
      ]
     },
     "metadata": {},
     "output_type": "display_data"
    },
    {
     "name": "stderr",
     "output_type": "stream",
     "text": [
      "2025-05-25 16:40:55,343 INFO Request ID is c85f0c49-6127-40e2-8cc9-22d8fbc459c6\n",
      "2025-05-25 16:40:55,543 INFO status has been updated to accepted\n",
      "2025-05-25 16:41:29,037 INFO status has been updated to running\n",
      "2025-05-25 16:45:16,916 INFO status has been updated to successful\n"
     ]
    },
    {
     "data": {
      "application/vnd.jupyter.widget-view+json": {
       "model_id": "9f386a3eee1147c2b946151445ecbe7e",
       "version_major": 2,
       "version_minor": 0
      },
      "text/plain": [
       "a69b9b605640a7ba952aadff96359f61.grib:   0%|          | 0.00/235k [00:00<?, ?B/s]"
      ]
     },
     "metadata": {},
     "output_type": "display_data"
    },
    {
     "name": "stdout",
     "output_type": "stream",
     "text": [
      "Storing to...  C:/Users/sguti/WW-Data/Houston_2014.nc\n"
     ]
    },
    {
     "name": "stderr",
     "output_type": "stream",
     "text": [
      "2025-05-25 16:45:22,630 INFO Request ID is 53a3402e-2cb8-497d-a514-7fc1c85389d2\n",
      "2025-05-25 16:45:22,825 INFO status has been updated to accepted\n",
      "2025-05-25 16:46:13,608 INFO status has been updated to running\n",
      "2025-05-25 16:49:43,417 INFO status has been updated to successful\n"
     ]
    },
    {
     "data": {
      "application/vnd.jupyter.widget-view+json": {
       "model_id": "1b771ad3cbb04338871a7dbf80d18c8b",
       "version_major": 2,
       "version_minor": 0
      },
      "text/plain": [
       "fce3400cbc9d20328ded10ad5ac287fe.grib:   0%|          | 0.00/235k [00:00<?, ?B/s]"
      ]
     },
     "metadata": {},
     "output_type": "display_data"
    },
    {
     "name": "stderr",
     "output_type": "stream",
     "text": [
      "2025-05-25 16:49:49,291 INFO Request ID is 0927bda3-b9da-412a-849a-38d7f3536cb4\n",
      "2025-05-25 16:49:49,479 INFO status has been updated to accepted\n",
      "2025-05-25 16:49:54,843 INFO status has been updated to running\n",
      "2025-05-25 16:52:43,380 INFO status has been updated to successful\n"
     ]
    },
    {
     "data": {
      "application/vnd.jupyter.widget-view+json": {
       "model_id": "3633dd09e9304c36bc97d75a115a8d5f",
       "version_major": 2,
       "version_minor": 0
      },
      "text/plain": [
       "5d58da6740edc2bd27908be546bcc368.grib:   0%|          | 0.00/213k [00:00<?, ?B/s]"
      ]
     },
     "metadata": {},
     "output_type": "display_data"
    },
    {
     "name": "stderr",
     "output_type": "stream",
     "text": [
      "2025-05-25 16:52:50,060 INFO Request ID is 69ac411d-c9d5-400f-ae14-829f5aedca32\n",
      "2025-05-25 16:52:50,229 INFO status has been updated to accepted\n",
      "2025-05-25 16:52:59,076 INFO status has been updated to running\n",
      "2025-05-25 16:55:43,740 INFO status has been updated to successful\n"
     ]
    },
    {
     "data": {
      "application/vnd.jupyter.widget-view+json": {
       "model_id": "5a067df89c044b68a99df6dc4c921402",
       "version_major": 2,
       "version_minor": 0
      },
      "text/plain": [
       "172a990760f8f15267b0653bc499fef0.grib:   0%|          | 0.00/235k [00:00<?, ?B/s]"
      ]
     },
     "metadata": {},
     "output_type": "display_data"
    },
    {
     "name": "stderr",
     "output_type": "stream",
     "text": [
      "2025-05-25 16:55:49,421 INFO Request ID is ef751b60-035b-4e4c-9a08-4c3919463d2b\n",
      "2025-05-25 16:55:49,602 INFO status has been updated to accepted\n",
      "2025-05-25 16:56:03,894 INFO status has been updated to running\n",
      "2025-05-25 16:58:43,191 INFO status has been updated to successful\n"
     ]
    },
    {
     "data": {
      "application/vnd.jupyter.widget-view+json": {
       "model_id": "77b434fb5ab9449ea42c3aa2e5320474",
       "version_major": 2,
       "version_minor": 0
      },
      "text/plain": [
       "1f595f389f2ef709faa79450b10733d2.grib:   0%|          | 0.00/228k [00:00<?, ?B/s]"
      ]
     },
     "metadata": {},
     "output_type": "display_data"
    },
    {
     "name": "stderr",
     "output_type": "stream",
     "text": [
      "2025-05-25 16:58:48,610 INFO Request ID is 169f1617-98b2-4227-b41a-df3d1ad5038c\n",
      "2025-05-25 16:58:48,927 INFO status has been updated to accepted\n",
      "2025-05-25 17:00:05,670 INFO status has been updated to running\n",
      "2025-05-25 17:03:14,989 INFO status has been updated to successful\n"
     ]
    },
    {
     "data": {
      "application/vnd.jupyter.widget-view+json": {
       "model_id": "b104a66b7c4f4d328108c89ebea8f314",
       "version_major": 2,
       "version_minor": 0
      },
      "text/plain": [
       "143e3b184c8f931d31d8b9fd8d27639e.grib:   0%|          | 0.00/235k [00:00<?, ?B/s]"
      ]
     },
     "metadata": {},
     "output_type": "display_data"
    },
    {
     "name": "stderr",
     "output_type": "stream",
     "text": [
      "2025-05-25 17:03:21,380 INFO Request ID is 17d36769-bb24-4b29-95a1-5ebd4642c175\n",
      "2025-05-25 17:03:21,562 INFO status has been updated to accepted\n",
      "2025-05-25 17:03:30,680 INFO status has been updated to running\n",
      "2025-05-25 17:06:15,552 INFO status has been updated to successful\n"
     ]
    },
    {
     "data": {
      "application/vnd.jupyter.widget-view+json": {
       "model_id": "71c43ad4092a403685e3873f445f9958",
       "version_major": 2,
       "version_minor": 0
      },
      "text/plain": [
       "d25caf4d71fc0249879868dc9c066b09.grib:   0%|          | 0.00/228k [00:00<?, ?B/s]"
      ]
     },
     "metadata": {},
     "output_type": "display_data"
    },
    {
     "name": "stderr",
     "output_type": "stream",
     "text": [
      "2025-05-25 17:06:21,875 INFO Request ID is 8d86507a-2aa0-4757-83d4-6b6176cbf520\n",
      "2025-05-25 17:06:22,074 INFO status has been updated to accepted\n",
      "2025-05-25 17:06:27,622 INFO status has been updated to running\n",
      "2025-05-25 17:09:16,915 INFO status has been updated to successful\n"
     ]
    },
    {
     "data": {
      "application/vnd.jupyter.widget-view+json": {
       "model_id": "7da0e69d04d34ab3a4a92eda519625a2",
       "version_major": 2,
       "version_minor": 0
      },
      "text/plain": [
       "32a5b49949310c533bcffa0f06a037f2.grib:   0%|          | 0.00/235k [00:00<?, ?B/s]"
      ]
     },
     "metadata": {},
     "output_type": "display_data"
    },
    {
     "name": "stderr",
     "output_type": "stream",
     "text": [
      "2025-05-25 17:09:22,546 INFO Request ID is 1bf1b868-6c0e-4880-b8c0-bddc90667cfe\n",
      "2025-05-25 17:09:22,722 INFO status has been updated to accepted\n",
      "2025-05-25 17:09:36,916 INFO status has been updated to running\n",
      "2025-05-25 17:13:43,479 INFO status has been updated to successful\n"
     ]
    },
    {
     "data": {
      "application/vnd.jupyter.widget-view+json": {
       "model_id": "cd98b8d821664b568a4527dd16d21128",
       "version_major": 2,
       "version_minor": 0
      },
      "text/plain": [
       "a37db9db7062ee6f47249c50854bda20.grib:   0%|          | 0.00/235k [00:00<?, ?B/s]"
      ]
     },
     "metadata": {},
     "output_type": "display_data"
    },
    {
     "name": "stderr",
     "output_type": "stream",
     "text": [
      "2025-05-25 17:13:49,223 INFO Request ID is 96510fc3-6afa-4765-98fe-135c153ab5de\n",
      "2025-05-25 17:13:49,504 INFO status has been updated to accepted\n",
      "2025-05-25 17:14:03,641 INFO status has been updated to running\n",
      "2025-05-25 17:16:43,848 INFO status has been updated to successful\n"
     ]
    },
    {
     "data": {
      "application/vnd.jupyter.widget-view+json": {
       "model_id": "911049a9562a4cf4bb45c5fd00e6602d",
       "version_major": 2,
       "version_minor": 0
      },
      "text/plain": [
       "6bb95d699fc2f705929105ef3c13ebeb.grib:   0%|          | 0.00/228k [00:00<?, ?B/s]"
      ]
     },
     "metadata": {},
     "output_type": "display_data"
    },
    {
     "name": "stderr",
     "output_type": "stream",
     "text": [
      "2025-05-25 17:16:49,435 INFO Request ID is ae3489ea-cbb8-4afd-a0ad-d00dfff2d0b2\n",
      "2025-05-25 17:16:49,647 INFO status has been updated to accepted\n",
      "2025-05-25 17:17:03,823 INFO status has been updated to running\n",
      "2025-05-25 17:21:10,139 INFO status has been updated to successful\n"
     ]
    },
    {
     "data": {
      "application/vnd.jupyter.widget-view+json": {
       "model_id": "1cdb50dc08464be39ac6fc9faab1a765",
       "version_major": 2,
       "version_minor": 0
      },
      "text/plain": [
       "9fa9b210d983a1f01755f209f59da3a0.grib:   0%|          | 0.00/235k [00:00<?, ?B/s]"
      ]
     },
     "metadata": {},
     "output_type": "display_data"
    },
    {
     "name": "stderr",
     "output_type": "stream",
     "text": [
      "2025-05-25 17:21:16,197 INFO Request ID is 20e2523b-cedc-4e73-88cb-850230ca2520\n",
      "2025-05-25 17:21:16,376 INFO status has been updated to accepted\n",
      "2025-05-25 17:21:38,273 INFO status has been updated to running\n",
      "2025-05-25 17:25:37,178 INFO status has been updated to successful\n"
     ]
    },
    {
     "data": {
      "application/vnd.jupyter.widget-view+json": {
       "model_id": "48f140a34e9c47ca8d0731c39d2b324d",
       "version_major": 2,
       "version_minor": 0
      },
      "text/plain": [
       "49bc6b53f5295b3c07e1b61c2dbae362.grib:   0%|          | 0.00/228k [00:00<?, ?B/s]"
      ]
     },
     "metadata": {},
     "output_type": "display_data"
    },
    {
     "name": "stderr",
     "output_type": "stream",
     "text": [
      "2025-05-25 17:25:42,933 INFO Request ID is 5ede5501-80b5-4773-afce-069764caef8b\n",
      "2025-05-25 17:25:43,115 INFO status has been updated to accepted\n",
      "2025-05-25 17:26:04,979 INFO status has been updated to running\n",
      "2025-05-25 17:28:36,409 INFO status has been updated to successful\n"
     ]
    },
    {
     "data": {
      "application/vnd.jupyter.widget-view+json": {
       "model_id": "4ec78f88ec1e4f7ca0b7a64a9482f822",
       "version_major": 2,
       "version_minor": 0
      },
      "text/plain": [
       "116487f3212ae045b0a8928c73531a50.grib:   0%|          | 0.00/235k [00:00<?, ?B/s]"
      ]
     },
     "metadata": {},
     "output_type": "display_data"
    },
    {
     "name": "stdout",
     "output_type": "stream",
     "text": [
      "Storing to...  C:/Users/sguti/WW-Data/Houston_2015.nc\n"
     ]
    },
    {
     "name": "stderr",
     "output_type": "stream",
     "text": [
      "2025-05-25 17:28:41,834 INFO Request ID is 8a6ad920-8700-4b96-b8fc-fb0226e7a48d\n",
      "2025-05-25 17:28:42,018 INFO status has been updated to accepted\n",
      "2025-05-25 17:29:15,478 INFO status has been updated to running\n",
      "2025-05-25 17:31:35,489 INFO status has been updated to successful\n"
     ]
    },
    {
     "data": {
      "application/vnd.jupyter.widget-view+json": {
       "model_id": "fdca7af06a92422da8d77982e82a7e96",
       "version_major": 2,
       "version_minor": 0
      },
      "text/plain": [
       "f75f557a0e2ec05afb061b8c888ac861.grib:   0%|          | 0.00/235k [00:00<?, ?B/s]"
      ]
     },
     "metadata": {},
     "output_type": "display_data"
    },
    {
     "name": "stderr",
     "output_type": "stream",
     "text": [
      "2025-05-25 17:31:40,071 INFO Request ID is 7f429ce5-e52b-462f-ad49-0f17c1cc1759\n",
      "2025-05-25 17:31:40,266 INFO status has been updated to accepted\n",
      "2025-05-25 17:31:49,247 INFO status has been updated to running\n",
      "2025-05-25 17:34:34,119 INFO status has been updated to successful\n"
     ]
    },
    {
     "data": {
      "application/vnd.jupyter.widget-view+json": {
       "model_id": "77501196d3ed4f7ba68a4f67fb5dc0bb",
       "version_major": 2,
       "version_minor": 0
      },
      "text/plain": [
       "54945a5166680c50c0fd287a49f7aa9a.grib:   0%|          | 0.00/220k [00:00<?, ?B/s]"
      ]
     },
     "metadata": {},
     "output_type": "display_data"
    },
    {
     "name": "stderr",
     "output_type": "stream",
     "text": [
      "2025-05-25 17:34:40,971 INFO Request ID is 68571214-0ea0-4598-a732-11eeaa45975e\n",
      "2025-05-25 17:34:41,154 INFO status has been updated to accepted\n",
      "2025-05-25 17:34:50,006 INFO status has been updated to running\n",
      "2025-05-25 17:37:34,419 INFO status has been updated to successful\n"
     ]
    },
    {
     "data": {
      "application/vnd.jupyter.widget-view+json": {
       "model_id": "5e152ac7b3fc4847ac5e9eefc96603a5",
       "version_major": 2,
       "version_minor": 0
      },
      "text/plain": [
       "4c6cc54fd04a8eef3873383df89f3dce.grib:   0%|          | 0.00/235k [00:00<?, ?B/s]"
      ]
     },
     "metadata": {},
     "output_type": "display_data"
    },
    {
     "name": "stderr",
     "output_type": "stream",
     "text": [
      "2025-05-25 17:37:40,529 INFO Request ID is b7e451c7-906e-41c6-9e9a-91ed4ca16eaa\n",
      "2025-05-25 17:37:40,705 INFO status has been updated to accepted\n",
      "2025-05-25 17:37:46,090 INFO status has been updated to running\n",
      "2025-05-25 17:40:34,273 INFO status has been updated to successful\n"
     ]
    },
    {
     "data": {
      "application/vnd.jupyter.widget-view+json": {
       "model_id": "f10dd8b1a88f44c1a56b6116aefb955c",
       "version_major": 2,
       "version_minor": 0
      },
      "text/plain": [
       "fae00a6ac612e882f3dae22f25eccdf.grib:   0%|          | 0.00/228k [00:00<?, ?B/s]"
      ]
     },
     "metadata": {},
     "output_type": "display_data"
    },
    {
     "name": "stderr",
     "output_type": "stream",
     "text": [
      "2025-05-25 17:40:39,659 INFO Request ID is 6de5f6b1-da7f-452e-926e-9dd1d6001689\n",
      "2025-05-25 17:40:39,845 INFO status has been updated to accepted\n",
      "2025-05-25 17:40:53,959 INFO status has been updated to running\n",
      "2025-05-25 17:45:00,676 INFO status has been updated to successful\n"
     ]
    },
    {
     "data": {
      "application/vnd.jupyter.widget-view+json": {
       "model_id": "58a42f8124ce422493bebcf0099f6db9",
       "version_major": 2,
       "version_minor": 0
      },
      "text/plain": [
       "b2b814a02b3a2b7da0f106353561021.grib:   0%|          | 0.00/235k [00:00<?, ?B/s]"
      ]
     },
     "metadata": {},
     "output_type": "display_data"
    },
    {
     "name": "stderr",
     "output_type": "stream",
     "text": [
      "2025-05-25 17:45:06,477 INFO Request ID is 27eac639-9cbd-45d6-9ec7-549326cf3db4\n",
      "2025-05-25 17:45:06,727 INFO status has been updated to accepted\n",
      "2025-05-25 17:45:15,555 INFO status has been updated to running\n",
      "2025-05-25 17:49:28,152 INFO status has been updated to successful\n"
     ]
    },
    {
     "data": {
      "application/vnd.jupyter.widget-view+json": {
       "model_id": "3536248043c84a4e9635e01c1034636a",
       "version_major": 2,
       "version_minor": 0
      },
      "text/plain": [
       "b369ff05fb4aeb8f2eb39c372bc1f747.grib:   0%|          | 0.00/228k [00:00<?, ?B/s]"
      ]
     },
     "metadata": {},
     "output_type": "display_data"
    },
    {
     "name": "stderr",
     "output_type": "stream",
     "text": [
      "2025-05-25 17:49:33,884 INFO Request ID is f387ab11-f6cd-43b3-a19a-fa3e6e75a447\n",
      "2025-05-25 17:49:34,066 INFO status has been updated to accepted\n",
      "2025-05-25 17:49:42,935 INFO status has been updated to running\n",
      "2025-05-25 17:53:55,208 INFO status has been updated to successful\n"
     ]
    },
    {
     "data": {
      "application/vnd.jupyter.widget-view+json": {
       "model_id": "72c462b7935c46569e02b52f264e297c",
       "version_major": 2,
       "version_minor": 0
      },
      "text/plain": [
       "e7d9a315f426d17097384b78d26069fe.grib:   0%|          | 0.00/235k [00:00<?, ?B/s]"
      ]
     },
     "metadata": {},
     "output_type": "display_data"
    },
    {
     "name": "stderr",
     "output_type": "stream",
     "text": [
      "2025-05-25 17:54:01,164 INFO Request ID is fa41f49c-4732-4d8f-800d-4c82024612a7\n",
      "2025-05-25 17:54:01,475 INFO status has been updated to accepted\n",
      "2025-05-25 17:54:16,093 INFO status has been updated to running\n",
      "2025-05-25 17:56:55,634 INFO status has been updated to successful\n"
     ]
    },
    {
     "data": {
      "application/vnd.jupyter.widget-view+json": {
       "model_id": "2334a74ffce44ec68762e07580a214dc",
       "version_major": 2,
       "version_minor": 0
      },
      "text/plain": [
       "709185811abd49071c285b7037a1a31f.grib:   0%|          | 0.00/235k [00:00<?, ?B/s]"
      ]
     },
     "metadata": {},
     "output_type": "display_data"
    },
    {
     "name": "stderr",
     "output_type": "stream",
     "text": [
      "2025-05-25 17:57:01,696 INFO Request ID is ddfd7a0b-dc2c-46a1-a5cc-fbdbff89ba64\n",
      "2025-05-25 17:57:01,874 INFO status has been updated to accepted\n",
      "2025-05-25 17:57:10,716 INFO status has been updated to running\n",
      "2025-05-25 17:57:23,705 INFO status has been updated to accepted\n",
      "2025-05-25 17:57:35,418 INFO status has been updated to running\n",
      "2025-05-25 17:59:55,450 INFO status has been updated to successful\n"
     ]
    },
    {
     "data": {
      "application/vnd.jupyter.widget-view+json": {
       "model_id": "b04e6374e9df415480956aff9437b2eb",
       "version_major": 2,
       "version_minor": 0
      },
      "text/plain": [
       "90c34d2ddb7011cc6140674b585bc3ff.grib:   0%|          | 0.00/228k [00:00<?, ?B/s]"
      ]
     },
     "metadata": {},
     "output_type": "display_data"
    },
    {
     "name": "stderr",
     "output_type": "stream",
     "text": [
      "2025-05-25 18:00:00,816 INFO Request ID is f1a2cf81-c961-4334-822f-ff0d9335eaf3\n",
      "2025-05-25 18:00:01,028 INFO status has been updated to accepted\n",
      "2025-05-25 18:00:10,340 INFO status has been updated to running\n",
      "2025-05-25 18:02:55,132 INFO status has been updated to successful\n"
     ]
    },
    {
     "data": {
      "application/vnd.jupyter.widget-view+json": {
       "model_id": "59dd6e9b9cb046128967b335d07c867c",
       "version_major": 2,
       "version_minor": 0
      },
      "text/plain": [
       "b5a8ccbfe5282e49594d091eb0b62d12.grib:   0%|          | 0.00/235k [00:00<?, ?B/s]"
      ]
     },
     "metadata": {},
     "output_type": "display_data"
    },
    {
     "name": "stderr",
     "output_type": "stream",
     "text": [
      "2025-05-25 18:03:01,066 INFO Request ID is b61fb54e-d7e1-4378-b6e7-559c7a1c5fc2\n",
      "2025-05-25 18:03:01,252 INFO status has been updated to accepted\n",
      "2025-05-25 18:03:52,062 INFO status has been updated to running\n",
      "2025-05-25 18:07:21,767 INFO status has been updated to successful\n"
     ]
    },
    {
     "data": {
      "application/vnd.jupyter.widget-view+json": {
       "model_id": "f06ae4bbf85941bebfcedc5d294b384a",
       "version_major": 2,
       "version_minor": 0
      },
      "text/plain": [
       "1f5e855aae98feb4ac38accbaa328dbc.grib:   0%|          | 0.00/228k [00:00<?, ?B/s]"
      ]
     },
     "metadata": {},
     "output_type": "display_data"
    },
    {
     "name": "stderr",
     "output_type": "stream",
     "text": [
      "2025-05-25 18:07:27,639 INFO Request ID is 50a61fe9-7e40-4857-9d2f-82bf0f6dfc53\n",
      "2025-05-25 18:07:27,824 INFO status has been updated to accepted\n",
      "2025-05-25 18:08:01,278 INFO status has been updated to running\n",
      "2025-05-25 18:10:21,169 INFO status has been updated to successful\n"
     ]
    },
    {
     "data": {
      "application/vnd.jupyter.widget-view+json": {
       "model_id": "23d7d9807cb844b5b77c4f3d1c10e140",
       "version_major": 2,
       "version_minor": 0
      },
      "text/plain": [
       "1823972b9c9ff515b908bcd5dc8c61bc.grib:   0%|          | 0.00/235k [00:00<?, ?B/s]"
      ]
     },
     "metadata": {},
     "output_type": "display_data"
    },
    {
     "name": "stdout",
     "output_type": "stream",
     "text": [
      "Storing to...  C:/Users/sguti/WW-Data/Houston_2016.nc\n"
     ]
    },
    {
     "name": "stderr",
     "output_type": "stream",
     "text": [
      "2025-05-25 18:10:27,130 INFO Request ID is 9d39fb59-dfb0-4025-af79-b59fe01bd8f9\n",
      "2025-05-25 18:10:27,343 INFO status has been updated to accepted\n",
      "2025-05-25 18:10:49,254 INFO status has been updated to running\n",
      "2025-05-25 18:14:47,693 INFO status has been updated to successful\n"
     ]
    },
    {
     "data": {
      "application/vnd.jupyter.widget-view+json": {
       "model_id": "6a93cc0442ca469898f169e8d188fbc5",
       "version_major": 2,
       "version_minor": 0
      },
      "text/plain": [
       "ec707b1cb9512ff06090d7ca7ea41db9.grib:   0%|          | 0.00/235k [00:00<?, ?B/s]"
      ]
     },
     "metadata": {},
     "output_type": "display_data"
    },
    {
     "name": "stderr",
     "output_type": "stream",
     "text": [
      "2025-05-25 18:14:52,471 INFO Request ID is b82d477b-1e79-4e47-bc5e-221a4e5ec12d\n",
      "2025-05-25 18:14:52,662 INFO status has been updated to accepted\n",
      "2025-05-25 18:15:07,084 INFO status has been updated to running\n",
      "2025-05-25 18:17:46,372 INFO status has been updated to successful\n"
     ]
    },
    {
     "data": {
      "application/vnd.jupyter.widget-view+json": {
       "model_id": "91633d1db5f2477dbd250ed8c9b82434",
       "version_major": 2,
       "version_minor": 0
      },
      "text/plain": [
       "9e3c37e74d132931d933a8969e828e71.grib:   0%|          | 0.00/213k [00:00<?, ?B/s]"
      ]
     },
     "metadata": {},
     "output_type": "display_data"
    },
    {
     "name": "stderr",
     "output_type": "stream",
     "text": [
      "2025-05-25 18:17:52,623 INFO Request ID is b5c7cef2-7b91-46f1-9f8d-e91ac4c6c558\n",
      "2025-05-25 18:17:52,799 INFO status has been updated to accepted\n",
      "2025-05-25 18:18:43,805 INFO status has been updated to running\n",
      "2025-05-25 18:22:13,685 INFO status has been updated to successful\n"
     ]
    },
    {
     "data": {
      "application/vnd.jupyter.widget-view+json": {
       "model_id": "9e24ee2af32a45458ee9ed3df5654dd4",
       "version_major": 2,
       "version_minor": 0
      },
      "text/plain": [
       "47091c920fdeac5e9b521e90a25aeec9.grib:   0%|          | 0.00/235k [00:00<?, ?B/s]"
      ]
     },
     "metadata": {},
     "output_type": "display_data"
    },
    {
     "name": "stderr",
     "output_type": "stream",
     "text": [
      "2025-05-25 18:22:19,515 INFO Request ID is 38ad9314-3591-4987-8a0d-c1ae0d070618\n",
      "2025-05-25 18:22:19,713 INFO status has been updated to accepted\n",
      "2025-05-25 18:22:41,801 INFO status has been updated to running\n",
      "2025-05-25 18:26:40,662 INFO status has been updated to successful\n"
     ]
    },
    {
     "data": {
      "application/vnd.jupyter.widget-view+json": {
       "model_id": "b0c85c0005ad4db78a7da5af7dd3960b",
       "version_major": 2,
       "version_minor": 0
      },
      "text/plain": [
       "6f89d877c0f2b86a99f612b2d95eeb95.grib:   0%|          | 0.00/228k [00:00<?, ?B/s]"
      ]
     },
     "metadata": {},
     "output_type": "display_data"
    },
    {
     "name": "stderr",
     "output_type": "stream",
     "text": [
      "2025-05-25 18:26:46,469 INFO Request ID is 25eba002-7ddd-4e5f-b09d-6f569d6a7183\n",
      "2025-05-25 18:26:46,677 INFO status has been updated to accepted\n",
      "2025-05-25 18:27:08,615 INFO status has been updated to running\n",
      "2025-05-25 18:31:08,288 INFO status has been updated to successful\n"
     ]
    },
    {
     "data": {
      "application/vnd.jupyter.widget-view+json": {
       "model_id": "5e86aee2a7714895a2e1be7fc9e9ffb0",
       "version_major": 2,
       "version_minor": 0
      },
      "text/plain": [
       "261e76646907a0d91f6836893e8f6036.grib:   0%|          | 0.00/235k [00:00<?, ?B/s]"
      ]
     },
     "metadata": {},
     "output_type": "display_data"
    },
    {
     "name": "stderr",
     "output_type": "stream",
     "text": [
      "2025-05-25 18:31:13,995 INFO Request ID is 3bca19bf-45ed-404c-af14-9e442c19d67b\n",
      "2025-05-25 18:31:14,183 INFO status has been updated to accepted\n",
      "2025-05-25 18:31:23,066 INFO status has been updated to running\n",
      "2025-05-25 18:35:34,667 INFO status has been updated to successful\n"
     ]
    },
    {
     "data": {
      "application/vnd.jupyter.widget-view+json": {
       "model_id": "eb80306d72254a58a3804b950ad7466c",
       "version_major": 2,
       "version_minor": 0
      },
      "text/plain": [
       "ad5308535f12774b20387bd6a790a223.grib:   0%|          | 0.00/228k [00:00<?, ?B/s]"
      ]
     },
     "metadata": {},
     "output_type": "display_data"
    },
    {
     "name": "stderr",
     "output_type": "stream",
     "text": [
      "2025-05-25 18:35:41,291 INFO Request ID is ec3e92d8-6c7d-411a-a209-fa54836940c6\n",
      "2025-05-25 18:35:41,484 INFO status has been updated to accepted\n",
      "2025-05-25 18:35:50,349 INFO status has been updated to running\n",
      "2025-05-25 18:35:55,610 INFO status has been updated to accepted\n",
      "2025-05-25 18:36:03,378 INFO status has been updated to running\n",
      "2025-05-25 18:38:34,819 INFO status has been updated to successful\n"
     ]
    },
    {
     "data": {
      "application/vnd.jupyter.widget-view+json": {
       "model_id": "31dbca192be5412092195b0b818f05c1",
       "version_major": 2,
       "version_minor": 0
      },
      "text/plain": [
       "c8acad15d1c1bd9f0f41aefb29e4e2ab.grib:   0%|          | 0.00/235k [00:00<?, ?B/s]"
      ]
     },
     "metadata": {},
     "output_type": "display_data"
    },
    {
     "name": "stderr",
     "output_type": "stream",
     "text": [
      "2025-05-25 18:38:40,805 INFO Request ID is 659f9a41-8932-44ce-b30b-fdbbd414dccf\n",
      "2025-05-25 18:38:40,977 INFO status has been updated to accepted\n",
      "2025-05-25 18:39:14,360 INFO status has been updated to running\n",
      "2025-05-25 18:41:34,959 INFO status has been updated to successful\n"
     ]
    },
    {
     "data": {
      "application/vnd.jupyter.widget-view+json": {
       "model_id": "b3e0e266c822410b99a79454ece9af37",
       "version_major": 2,
       "version_minor": 0
      },
      "text/plain": [
       "1d6d2e52c5d897717f7433c8bfe8d7a.grib:   0%|          | 0.00/235k [00:00<?, ?B/s]"
      ]
     },
     "metadata": {},
     "output_type": "display_data"
    },
    {
     "name": "stderr",
     "output_type": "stream",
     "text": [
      "2025-05-25 18:41:40,500 INFO Request ID is 42265455-6f34-4749-aef0-5f727c06971f\n",
      "2025-05-25 18:41:41,471 INFO status has been updated to accepted\n",
      "2025-05-25 18:41:50,447 INFO status has been updated to running\n",
      "2025-05-25 18:44:35,026 INFO status has been updated to successful\n"
     ]
    },
    {
     "data": {
      "application/vnd.jupyter.widget-view+json": {
       "model_id": "5c0646e645e94c1789aa19cc60c4835a",
       "version_major": 2,
       "version_minor": 0
      },
      "text/plain": [
       "9266c237d0dfc534fee1e78d2575cc76.grib:   0%|          | 0.00/228k [00:00<?, ?B/s]"
      ]
     },
     "metadata": {},
     "output_type": "display_data"
    },
    {
     "name": "stderr",
     "output_type": "stream",
     "text": [
      "2025-05-25 18:44:40,572 INFO Request ID is 77f26ae9-82c2-4777-a061-097c96863a31\n",
      "2025-05-25 18:44:40,753 INFO status has been updated to accepted\n",
      "2025-05-25 18:44:49,585 INFO status has been updated to running\n",
      "2025-05-25 18:47:34,231 INFO status has been updated to successful\n"
     ]
    },
    {
     "data": {
      "application/vnd.jupyter.widget-view+json": {
       "model_id": "822bc65030de4a45af0db5be93c17eaf",
       "version_major": 2,
       "version_minor": 0
      },
      "text/plain": [
       "72e22013d647bfaff3bd28b94d8b80b5.grib:   0%|          | 0.00/235k [00:00<?, ?B/s]"
      ]
     },
     "metadata": {},
     "output_type": "display_data"
    },
    {
     "name": "stderr",
     "output_type": "stream",
     "text": [
      "2025-05-25 18:47:39,699 INFO Request ID is 79330f00-f549-4b3d-a17f-c0d34d150190\n",
      "2025-05-25 18:47:39,922 INFO status has been updated to accepted\n",
      "2025-05-25 18:47:54,209 INFO status has been updated to running\n",
      "2025-05-25 18:50:35,220 INFO status has been updated to successful\n"
     ]
    },
    {
     "data": {
      "application/vnd.jupyter.widget-view+json": {
       "model_id": "9e67bcfeafdf4ef88c3e3c35cac761b2",
       "version_major": 2,
       "version_minor": 0
      },
      "text/plain": [
       "9db92e7cfd5dcec81df015df8c47ef52.grib:   0%|          | 0.00/228k [00:00<?, ?B/s]"
      ]
     },
     "metadata": {},
     "output_type": "display_data"
    },
    {
     "name": "stderr",
     "output_type": "stream",
     "text": [
      "2025-05-25 18:50:40,828 INFO Request ID is b9781e94-c9c2-4037-b365-953be99e5ba8\n",
      "2025-05-25 18:50:41,011 INFO status has been updated to accepted\n",
      "2025-05-25 18:50:55,354 INFO status has been updated to running\n",
      "2025-05-25 18:55:01,616 INFO status has been updated to successful\n"
     ]
    },
    {
     "data": {
      "application/vnd.jupyter.widget-view+json": {
       "model_id": "ab1ae458e7c34868b21e266b37f8e793",
       "version_major": 2,
       "version_minor": 0
      },
      "text/plain": [
       "c01f0589f2d4dc4620158cf6ed378a79.grib:   0%|          | 0.00/235k [00:00<?, ?B/s]"
      ]
     },
     "metadata": {},
     "output_type": "display_data"
    },
    {
     "name": "stdout",
     "output_type": "stream",
     "text": [
      "Storing to...  C:/Users/sguti/WW-Data/Houston_2017.nc\n"
     ]
    },
    {
     "name": "stderr",
     "output_type": "stream",
     "text": [
      "2025-05-25 18:55:07,313 INFO Request ID is 5c27adde-22b8-4788-8a4d-5dc72daa2935\n",
      "2025-05-25 18:55:07,496 INFO status has been updated to accepted\n",
      "2025-05-25 18:55:21,600 INFO status has been updated to running\n",
      "2025-05-25 18:58:00,774 INFO status has been updated to successful\n"
     ]
    },
    {
     "data": {
      "application/vnd.jupyter.widget-view+json": {
       "model_id": "72e3506e26eb44cc873476aa4ceaf152",
       "version_major": 2,
       "version_minor": 0
      },
      "text/plain": [
       "8833d4616aca5522b7779d6128db5dd6.grib:   0%|          | 0.00/235k [00:00<?, ?B/s]"
      ]
     },
     "metadata": {},
     "output_type": "display_data"
    },
    {
     "name": "stderr",
     "output_type": "stream",
     "text": [
      "2025-05-25 18:58:05,523 INFO Request ID is 6fcdf7a0-a0ed-4224-9786-432a904b5887\n",
      "2025-05-25 18:58:05,690 INFO status has been updated to accepted\n",
      "2025-05-25 18:58:39,143 INFO status has been updated to running\n",
      "2025-05-25 19:02:26,086 INFO status has been updated to successful\n"
     ]
    },
    {
     "data": {
      "application/vnd.jupyter.widget-view+json": {
       "model_id": "4028499e7535408d9d3d110dbf49c9bf",
       "version_major": 2,
       "version_minor": 0
      },
      "text/plain": [
       "b97cfeb34f773a7777bae25fe63b450c.grib:   0%|          | 0.00/213k [00:00<?, ?B/s]"
      ]
     },
     "metadata": {},
     "output_type": "display_data"
    },
    {
     "name": "stderr",
     "output_type": "stream",
     "text": [
      "2025-05-25 19:02:32,360 INFO Request ID is 9f335542-07a6-4134-a9c9-8ce55c08f5b4\n",
      "2025-05-25 19:02:32,566 INFO status has been updated to accepted\n",
      "2025-05-25 19:03:06,298 INFO status has been updated to running\n",
      "2025-05-25 19:05:26,248 INFO status has been updated to successful\n"
     ]
    },
    {
     "data": {
      "application/vnd.jupyter.widget-view+json": {
       "model_id": "c2354ef26df246919c075fff93dd909b",
       "version_major": 2,
       "version_minor": 0
      },
      "text/plain": [
       "9c6c0ae1ddfb7a77a4bc32697f55f8a6.grib:   0%|          | 0.00/235k [00:00<?, ?B/s]"
      ]
     },
     "metadata": {},
     "output_type": "display_data"
    },
    {
     "name": "stderr",
     "output_type": "stream",
     "text": [
      "2025-05-25 19:05:31,927 INFO Request ID is 0d870de1-97fc-4879-b258-f17d3ba2f788\n",
      "2025-05-25 19:05:32,113 INFO status has been updated to accepted\n",
      "2025-05-25 19:05:41,158 INFO status has been updated to running\n",
      "2025-05-25 19:09:52,950 INFO status has been updated to successful\n"
     ]
    },
    {
     "data": {
      "application/vnd.jupyter.widget-view+json": {
       "model_id": "76d96ad9f7f14b3faf1f6be793e76d75",
       "version_major": 2,
       "version_minor": 0
      },
      "text/plain": [
       "c7d3888bf781914932fbe2818c137d4d.grib:   0%|          | 0.00/228k [00:00<?, ?B/s]"
      ]
     },
     "metadata": {},
     "output_type": "display_data"
    },
    {
     "name": "stderr",
     "output_type": "stream",
     "text": [
      "2025-05-25 19:09:58,818 INFO Request ID is f36d3f9b-516d-4ce7-b657-e446a1fdea51\n",
      "2025-05-25 19:09:59,059 INFO status has been updated to accepted\n",
      "2025-05-25 19:10:21,698 INFO status has been updated to running\n",
      "2025-05-25 19:12:53,302 INFO status has been updated to successful\n"
     ]
    },
    {
     "data": {
      "application/vnd.jupyter.widget-view+json": {
       "model_id": "ef5eea82a0ed4e76bfc6f6def07f044f",
       "version_major": 2,
       "version_minor": 0
      },
      "text/plain": [
       "b704d41d3aa1bdcbfb29451afbe3150.grib:   0%|          | 0.00/235k [00:00<?, ?B/s]"
      ]
     },
     "metadata": {},
     "output_type": "display_data"
    },
    {
     "name": "stderr",
     "output_type": "stream",
     "text": [
      "2025-05-25 19:12:58,992 INFO Request ID is 3bc077a9-db24-420f-9549-376402dac821\n",
      "2025-05-25 19:12:59,168 INFO status has been updated to accepted\n",
      "2025-05-25 19:13:07,995 INFO status has been updated to running\n",
      "2025-05-25 19:15:52,997 INFO status has been updated to successful\n"
     ]
    },
    {
     "data": {
      "application/vnd.jupyter.widget-view+json": {
       "model_id": "b2ed785fee874d38917297ef7ae5b2fc",
       "version_major": 2,
       "version_minor": 0
      },
      "text/plain": [
       "4201e52f7e7cd79a70bededc65eb3475.grib:   0%|          | 0.00/228k [00:00<?, ?B/s]"
      ]
     },
     "metadata": {},
     "output_type": "display_data"
    },
    {
     "name": "stderr",
     "output_type": "stream",
     "text": [
      "2025-05-25 19:15:58,361 INFO Request ID is a2a88419-63d5-40ad-b5ea-672ae97f5bb8\n",
      "2025-05-25 19:15:58,542 INFO status has been updated to accepted\n",
      "2025-05-25 19:16:12,655 INFO status has been updated to running\n",
      "2025-05-25 19:20:19,456 INFO status has been updated to successful\n"
     ]
    },
    {
     "data": {
      "application/vnd.jupyter.widget-view+json": {
       "model_id": "947705965b954921a9c7a103667d9c40",
       "version_major": 2,
       "version_minor": 0
      },
      "text/plain": [
       "67b37774838dc200a05de638035798e7.grib:   0%|          | 0.00/235k [00:00<?, ?B/s]"
      ]
     },
     "metadata": {},
     "output_type": "display_data"
    },
    {
     "name": "stderr",
     "output_type": "stream",
     "text": [
      "2025-05-25 19:20:25,746 INFO Request ID is 733b7a35-11bb-4471-8b28-f49a49d5c5a5\n",
      "2025-05-25 19:20:25,930 INFO status has been updated to accepted\n",
      "2025-05-25 19:20:40,159 INFO status has been updated to running\n",
      "2025-05-25 19:24:46,460 INFO status has been updated to successful\n"
     ]
    },
    {
     "data": {
      "application/vnd.jupyter.widget-view+json": {
       "model_id": "74e825e5664c4bcd918678f30c9bc388",
       "version_major": 2,
       "version_minor": 0
      },
      "text/plain": [
       "50e7760befc5dd64f714dcba1b63f9f8.grib:   0%|          | 0.00/235k [00:00<?, ?B/s]"
      ]
     },
     "metadata": {},
     "output_type": "display_data"
    },
    {
     "name": "stderr",
     "output_type": "stream",
     "text": [
      "2025-05-25 19:24:52,107 INFO Request ID is 77c2c430-7739-4086-982a-ba93a290e369\n",
      "2025-05-25 19:24:52,295 INFO status has been updated to accepted\n",
      "2025-05-25 19:25:06,439 INFO status has been updated to running\n",
      "2025-05-25 19:29:12,782 INFO status has been updated to successful\n"
     ]
    },
    {
     "data": {
      "application/vnd.jupyter.widget-view+json": {
       "model_id": "39150b3134d44484a21e1cac53421605",
       "version_major": 2,
       "version_minor": 0
      },
      "text/plain": [
       "44966b73d00201ba0d1ff94a3205a41a.grib:   0%|          | 0.00/228k [00:00<?, ?B/s]"
      ]
     },
     "metadata": {},
     "output_type": "display_data"
    },
    {
     "name": "stderr",
     "output_type": "stream",
     "text": [
      "2025-05-25 19:29:18,450 INFO Request ID is 71745f03-2a46-47a4-a84e-f57dd46b7d32\n",
      "2025-05-25 19:29:18,655 INFO status has been updated to accepted\n",
      "2025-05-25 19:29:52,435 INFO status has been updated to running\n",
      "2025-05-25 19:32:12,683 INFO status has been updated to successful\n"
     ]
    },
    {
     "data": {
      "application/vnd.jupyter.widget-view+json": {
       "model_id": "70f5137d3d1d47718686ca5ef0bb6fb4",
       "version_major": 2,
       "version_minor": 0
      },
      "text/plain": [
       "76fc4a0c54677b2a7e40ad8a44cd831f.grib:   0%|          | 0.00/235k [00:00<?, ?B/s]"
      ]
     },
     "metadata": {},
     "output_type": "display_data"
    },
    {
     "name": "stderr",
     "output_type": "stream",
     "text": [
      "2025-05-25 19:32:18,337 INFO Request ID is 5d0f69d3-071c-4ff0-b0d6-23d2dc856566\n",
      "2025-05-25 19:32:18,529 INFO status has been updated to accepted\n",
      "2025-05-25 19:32:40,484 INFO status has been updated to running\n",
      "2025-05-25 19:35:12,182 INFO status has been updated to successful\n"
     ]
    },
    {
     "data": {
      "application/vnd.jupyter.widget-view+json": {
       "model_id": "52788155eaa848518ad62cc21f690c7d",
       "version_major": 2,
       "version_minor": 0
      },
      "text/plain": [
       "9f35714864ebd25995d60f0c0761d54f.grib:   0%|          | 0.00/228k [00:00<?, ?B/s]"
      ]
     },
     "metadata": {},
     "output_type": "display_data"
    },
    {
     "name": "stderr",
     "output_type": "stream",
     "text": [
      "2025-05-25 19:35:17,932 INFO Request ID is 97ad5bf6-29b9-48c6-b552-b51c87af2d12\n",
      "2025-05-25 19:35:18,117 INFO status has been updated to accepted\n",
      "2025-05-25 19:35:40,062 INFO status has been updated to running\n",
      "2025-05-25 19:38:11,542 INFO status has been updated to successful\n"
     ]
    },
    {
     "data": {
      "application/vnd.jupyter.widget-view+json": {
       "model_id": "c2c8614ddd82473bb6bff9492a44c263",
       "version_major": 2,
       "version_minor": 0
      },
      "text/plain": [
       "d93682c67be4258f82ddcf9070929e2f.grib:   0%|          | 0.00/235k [00:00<?, ?B/s]"
      ]
     },
     "metadata": {},
     "output_type": "display_data"
    },
    {
     "name": "stdout",
     "output_type": "stream",
     "text": [
      "Storing to...  C:/Users/sguti/WW-Data/Houston_2018.nc\n"
     ]
    },
    {
     "name": "stderr",
     "output_type": "stream",
     "text": [
      "2025-05-25 19:38:17,132 INFO Request ID is 6eaaa6b7-d250-47f3-a349-861ca0ab3f42\n",
      "2025-05-25 19:38:17,334 INFO status has been updated to accepted\n",
      "2025-05-25 19:38:31,479 INFO status has been updated to running\n",
      "2025-05-25 19:41:10,748 INFO status has been updated to successful\n"
     ]
    },
    {
     "data": {
      "application/vnd.jupyter.widget-view+json": {
       "model_id": "dd62c606d88b467686c18c7c15d63389",
       "version_major": 2,
       "version_minor": 0
      },
      "text/plain": [
       "a3b946d7a3139c5dc8653971ac6ed831.grib:   0%|          | 0.00/235k [00:00<?, ?B/s]"
      ]
     },
     "metadata": {},
     "output_type": "display_data"
    },
    {
     "name": "stderr",
     "output_type": "stream",
     "text": [
      "2025-05-25 19:41:15,982 INFO Request ID is 3f728189-077c-4554-b489-7a15d64760f0\n",
      "2025-05-25 19:41:16,161 INFO status has been updated to accepted\n",
      "2025-05-25 19:41:30,278 INFO status has been updated to running\n",
      "2025-05-25 19:44:09,790 INFO status has been updated to successful\n"
     ]
    },
    {
     "data": {
      "application/vnd.jupyter.widget-view+json": {
       "model_id": "8047146f17ab4423862e62d7265c9947",
       "version_major": 2,
       "version_minor": 0
      },
      "text/plain": [
       "a6733d5367c8ebedbf84ab1da02d463f.grib:   0%|          | 0.00/213k [00:00<?, ?B/s]"
      ]
     },
     "metadata": {},
     "output_type": "display_data"
    },
    {
     "name": "stderr",
     "output_type": "stream",
     "text": [
      "2025-05-25 19:44:16,008 INFO Request ID is 0bd7da51-1e9c-46ea-b918-13cc5cf99fc8\n",
      "2025-05-25 19:44:16,197 INFO status has been updated to accepted\n",
      "2025-05-25 19:44:25,051 INFO status has been updated to running\n",
      "2025-05-25 19:48:37,590 INFO status has been updated to successful\n"
     ]
    },
    {
     "data": {
      "application/vnd.jupyter.widget-view+json": {
       "model_id": "d4f33d7af45749639dfe9c715d9e56a0",
       "version_major": 2,
       "version_minor": 0
      },
      "text/plain": [
       "11098afea1477bd7238c6aba09b09f35.grib:   0%|          | 0.00/235k [00:00<?, ?B/s]"
      ]
     },
     "metadata": {},
     "output_type": "display_data"
    },
    {
     "name": "stderr",
     "output_type": "stream",
     "text": [
      "2025-05-25 19:48:43,360 INFO Request ID is 809d507f-dc5d-4a34-941e-c9d3fff7cf6f\n",
      "2025-05-25 19:48:43,554 INFO status has been updated to accepted\n",
      "2025-05-25 19:48:52,479 INFO status has been updated to running\n",
      "2025-05-25 19:53:05,084 INFO status has been updated to successful\n"
     ]
    },
    {
     "data": {
      "application/vnd.jupyter.widget-view+json": {
       "model_id": "559777ccac7e48dd8919be4e98f9aeb3",
       "version_major": 2,
       "version_minor": 0
      },
      "text/plain": [
       "87ca3bed3d058e4244e0f35520b1e2ca.grib:   0%|          | 0.00/228k [00:00<?, ?B/s]"
      ]
     },
     "metadata": {},
     "output_type": "display_data"
    },
    {
     "name": "stderr",
     "output_type": "stream",
     "text": [
      "2025-05-25 19:53:11,384 INFO Request ID is 76adbb15-8a2e-4d58-b476-c29496140684\n",
      "2025-05-25 19:53:11,578 INFO status has been updated to accepted\n",
      "2025-05-25 19:53:20,461 INFO status has been updated to running\n",
      "2025-05-25 19:57:31,979 INFO status has been updated to successful\n"
     ]
    },
    {
     "data": {
      "application/vnd.jupyter.widget-view+json": {
       "model_id": "ef306ea70569413f8a9d2c72d6e1fafb",
       "version_major": 2,
       "version_minor": 0
      },
      "text/plain": [
       "37376b18a79302fb8ea43379f1ce9b2e.grib:   0%|          | 0.00/235k [00:00<?, ?B/s]"
      ]
     },
     "metadata": {},
     "output_type": "display_data"
    },
    {
     "name": "stderr",
     "output_type": "stream",
     "text": [
      "2025-05-25 19:57:37,965 INFO Request ID is fa3869d3-d75a-4426-866a-72ac0aa7bec6\n",
      "2025-05-25 19:57:38,142 INFO status has been updated to accepted\n",
      "2025-05-25 19:57:47,299 INFO status has been updated to running\n",
      "2025-05-25 20:01:59,190 INFO status has been updated to successful\n"
     ]
    },
    {
     "data": {
      "application/vnd.jupyter.widget-view+json": {
       "model_id": "cea8e87b7ed74c6183cbf9f3208c5182",
       "version_major": 2,
       "version_minor": 0
      },
      "text/plain": [
       "8a079351a7645c03759b95c8859321f1.grib:   0%|          | 0.00/228k [00:00<?, ?B/s]"
      ]
     },
     "metadata": {},
     "output_type": "display_data"
    },
    {
     "name": "stderr",
     "output_type": "stream",
     "text": [
      "2025-05-25 20:02:04,919 INFO Request ID is 61396d8e-85c8-4051-aa91-44857cd9d506\n",
      "2025-05-25 20:02:05,101 INFO status has been updated to accepted\n",
      "2025-05-25 20:02:26,981 INFO status has been updated to running\n",
      "2025-05-25 20:04:58,580 INFO status has been updated to successful\n"
     ]
    },
    {
     "data": {
      "application/vnd.jupyter.widget-view+json": {
       "model_id": "4aaca7b0c3d14112b2b3ca71f16c0f09",
       "version_major": 2,
       "version_minor": 0
      },
      "text/plain": [
       "94662bcc899a75cb9156b2d678b25622.grib:   0%|          | 0.00/235k [00:00<?, ?B/s]"
      ]
     },
     "metadata": {},
     "output_type": "display_data"
    },
    {
     "name": "stderr",
     "output_type": "stream",
     "text": [
      "2025-05-25 20:05:04,390 INFO Request ID is 83db3411-479b-470f-81d9-20942af1875b\n",
      "2025-05-25 20:05:04,569 INFO status has been updated to accepted\n",
      "2025-05-25 20:05:13,723 INFO status has been updated to running\n",
      "2025-05-25 20:08:03,182 INFO status has been updated to successful\n"
     ]
    },
    {
     "data": {
      "application/vnd.jupyter.widget-view+json": {
       "model_id": "dbcde0291672490bb61abe81a2b1928b",
       "version_major": 2,
       "version_minor": 0
      },
      "text/plain": [
       "5332cd095087d66e48c340de9e272c54.grib:   0%|          | 0.00/235k [00:00<?, ?B/s]"
      ]
     },
     "metadata": {},
     "output_type": "display_data"
    },
    {
     "name": "stderr",
     "output_type": "stream",
     "text": [
      "2025-05-25 20:08:08,750 INFO Request ID is c33212e6-bd17-4e90-8648-576611a52489\n",
      "2025-05-25 20:08:08,932 INFO status has been updated to accepted\n",
      "2025-05-25 20:08:23,040 INFO status has been updated to running\n",
      "2025-05-25 20:12:29,352 INFO status has been updated to successful\n"
     ]
    },
    {
     "data": {
      "application/vnd.jupyter.widget-view+json": {
       "model_id": "b6132edca75f4717aa6f1b9ed05b3c9a",
       "version_major": 2,
       "version_minor": 0
      },
      "text/plain": [
       "b618e9b257f512439d202d9d090a75ed.grib:   0%|          | 0.00/228k [00:00<?, ?B/s]"
      ]
     },
     "metadata": {},
     "output_type": "display_data"
    },
    {
     "name": "stderr",
     "output_type": "stream",
     "text": [
      "2025-05-25 20:12:35,310 INFO Request ID is 270fa2b0-d01f-430e-9b28-4534c2d688bb\n",
      "2025-05-25 20:12:35,531 INFO status has been updated to accepted\n",
      "2025-05-25 20:13:09,207 INFO status has been updated to running\n",
      "2025-05-25 20:19:01,765 INFO status has been updated to successful\n"
     ]
    },
    {
     "data": {
      "application/vnd.jupyter.widget-view+json": {
       "model_id": "021517e80056478ba3b9e0c75f95d91a",
       "version_major": 2,
       "version_minor": 0
      },
      "text/plain": [
       "65d1db2d715f3c620930a51465e45225.grib:   0%|          | 0.00/235k [00:00<?, ?B/s]"
      ]
     },
     "metadata": {},
     "output_type": "display_data"
    },
    {
     "name": "stderr",
     "output_type": "stream",
     "text": [
      "2025-05-25 20:19:07,971 INFO Request ID is 768f77f5-3e22-4fc3-ac5f-02d95ee0e33d\n",
      "2025-05-25 20:19:08,146 INFO status has been updated to accepted\n",
      "2025-05-25 20:19:22,229 INFO status has been updated to running\n",
      "2025-05-25 20:22:01,567 INFO status has been updated to successful\n"
     ]
    },
    {
     "data": {
      "application/vnd.jupyter.widget-view+json": {
       "model_id": "b5346908e17b4fd591774124ca1db0cc",
       "version_major": 2,
       "version_minor": 0
      },
      "text/plain": [
       "5529085ee7759e516f9f1e42464eee66.grib:   0%|          | 0.00/228k [00:00<?, ?B/s]"
      ]
     },
     "metadata": {},
     "output_type": "display_data"
    },
    {
     "name": "stderr",
     "output_type": "stream",
     "text": [
      "2025-05-25 20:22:07,376 INFO Request ID is 8c8a2b01-e65c-4410-81ac-e08c8ee6de27\n",
      "2025-05-25 20:22:07,560 INFO status has been updated to accepted\n",
      "2025-05-25 20:22:16,506 INFO status has been updated to running\n",
      "2025-05-25 20:26:28,627 INFO status has been updated to successful\n"
     ]
    },
    {
     "data": {
      "application/vnd.jupyter.widget-view+json": {
       "model_id": "b7b7485c3c6e48c5952bb280359eca3b",
       "version_major": 2,
       "version_minor": 0
      },
      "text/plain": [
       "32e4ff8a66ba7a76d247c5210d7807f3.grib:   0%|          | 0.00/235k [00:00<?, ?B/s]"
      ]
     },
     "metadata": {},
     "output_type": "display_data"
    },
    {
     "name": "stdout",
     "output_type": "stream",
     "text": [
      "Storing to...  C:/Users/sguti/WW-Data/Houston_2019.nc\n"
     ]
    },
    {
     "name": "stderr",
     "output_type": "stream",
     "text": [
      "2025-05-25 20:26:34,883 INFO Request ID is e55e7727-138e-4740-ac4f-294e0c1d1c1a\n",
      "2025-05-25 20:26:35,099 INFO status has been updated to accepted\n",
      "2025-05-25 20:26:49,260 INFO status has been updated to running\n",
      "2025-05-25 20:30:55,675 INFO status has been updated to successful\n"
     ]
    },
    {
     "data": {
      "application/vnd.jupyter.widget-view+json": {
       "model_id": "2f5cc6daf00a4027828fd01a6d0a88a3",
       "version_major": 2,
       "version_minor": 0
      },
      "text/plain": [
       "bcecdcea614df0bd3aabc7dcf9397caf.grib:   0%|          | 0.00/235k [00:00<?, ?B/s]"
      ]
     },
     "metadata": {},
     "output_type": "display_data"
    },
    {
     "name": "stderr",
     "output_type": "stream",
     "text": [
      "2025-05-25 20:31:00,493 INFO Request ID is a672e551-cd7f-4062-9856-2b36a67a5068\n",
      "2025-05-25 20:31:00,746 INFO status has been updated to accepted\n",
      "2025-05-25 20:31:34,238 INFO status has been updated to running\n",
      "2025-05-25 20:33:54,244 INFO status has been updated to successful\n"
     ]
    },
    {
     "data": {
      "application/vnd.jupyter.widget-view+json": {
       "model_id": "41cc457b4b2b4ec3a9a6641722880516",
       "version_major": 2,
       "version_minor": 0
      },
      "text/plain": [
       "532f1aa6932776951f2cf91d5b6c1a51.grib:   0%|          | 0.00/220k [00:00<?, ?B/s]"
      ]
     },
     "metadata": {},
     "output_type": "display_data"
    },
    {
     "name": "stderr",
     "output_type": "stream",
     "text": [
      "2025-05-25 20:34:00,880 INFO Request ID is 4a66483b-c96b-4cfe-aebd-3a6ec991acae\n",
      "2025-05-25 20:34:01,055 INFO status has been updated to accepted\n",
      "2025-05-25 20:34:22,927 INFO status has been updated to running\n",
      "2025-05-25 20:38:21,691 INFO status has been updated to successful\n"
     ]
    },
    {
     "data": {
      "application/vnd.jupyter.widget-view+json": {
       "model_id": "7974ebd6045f4d3fa1a1f9e46e2a4ab6",
       "version_major": 2,
       "version_minor": 0
      },
      "text/plain": [
       "ba66491473d89675e09180533a700215.grib:   0%|          | 0.00/235k [00:00<?, ?B/s]"
      ]
     },
     "metadata": {},
     "output_type": "display_data"
    },
    {
     "name": "stderr",
     "output_type": "stream",
     "text": [
      "2025-05-25 20:38:27,288 INFO Request ID is 9e5ab928-7e52-49ef-bc72-a4f0b95ade1e\n",
      "2025-05-25 20:38:27,465 INFO status has been updated to accepted\n",
      "2025-05-25 20:38:36,522 INFO status has been updated to running\n",
      "2025-05-25 20:44:48,759 INFO status has been updated to successful\n"
     ]
    },
    {
     "data": {
      "application/vnd.jupyter.widget-view+json": {
       "model_id": "1deb8ec2a8f54ffc87ff5ee058a142e1",
       "version_major": 2,
       "version_minor": 0
      },
      "text/plain": [
       "ec1c332ec70387660b478c7375435b46.grib:   0%|          | 0.00/228k [00:00<?, ?B/s]"
      ]
     },
     "metadata": {},
     "output_type": "display_data"
    },
    {
     "name": "stderr",
     "output_type": "stream",
     "text": [
      "2025-05-25 20:44:54,458 INFO Request ID is b31b9a62-5bb6-4a49-bf60-a440b73ab1a4\n",
      "2025-05-25 20:44:54,877 INFO status has been updated to accepted\n",
      "2025-05-25 20:45:03,726 INFO status has been updated to running\n",
      "2025-05-25 20:47:48,381 INFO status has been updated to successful\n"
     ]
    },
    {
     "data": {
      "application/vnd.jupyter.widget-view+json": {
       "model_id": "93e1e78303f64a52bef00132ca4a7f58",
       "version_major": 2,
       "version_minor": 0
      },
      "text/plain": [
       "97641efc0ef0fb41fba0988b789f31f2.grib:   0%|          | 0.00/235k [00:00<?, ?B/s]"
      ]
     },
     "metadata": {},
     "output_type": "display_data"
    },
    {
     "name": "stderr",
     "output_type": "stream",
     "text": [
      "2025-05-25 20:47:53,779 INFO Request ID is ac5e047c-0a87-4222-8bd7-66c10096976f\n",
      "2025-05-25 20:47:53,970 INFO status has been updated to accepted\n",
      "2025-05-25 20:48:15,910 INFO status has been updated to running\n",
      "2025-05-25 20:52:14,551 INFO status has been updated to successful\n"
     ]
    },
    {
     "data": {
      "application/vnd.jupyter.widget-view+json": {
       "model_id": "9511706657cc45c2868b22081ea982ba",
       "version_major": 2,
       "version_minor": 0
      },
      "text/plain": [
       "c53af46f55e92e1c062ba015f0a579d0.grib:   0%|          | 0.00/228k [00:00<?, ?B/s]"
      ]
     },
     "metadata": {},
     "output_type": "display_data"
    },
    {
     "name": "stderr",
     "output_type": "stream",
     "text": [
      "2025-05-25 20:52:20,234 INFO Request ID is be00402f-a773-4397-8699-b67a13bac2a7\n",
      "2025-05-25 20:52:20,423 INFO status has been updated to accepted\n",
      "2025-05-25 20:52:42,313 INFO status has been updated to running\n",
      "2025-05-25 20:55:13,898 INFO status has been updated to successful\n"
     ]
    },
    {
     "data": {
      "application/vnd.jupyter.widget-view+json": {
       "model_id": "20d0eb12265b482ca5c98fd68f51b93b",
       "version_major": 2,
       "version_minor": 0
      },
      "text/plain": [
       "3a815c9e8a11cc147c833dffae6e7644.grib:   0%|          | 0.00/235k [00:00<?, ?B/s]"
      ]
     },
     "metadata": {},
     "output_type": "display_data"
    },
    {
     "name": "stderr",
     "output_type": "stream",
     "text": [
      "2025-05-25 20:55:19,366 INFO Request ID is 8fe43567-2f08-40b4-bb69-eef16d8cc647\n",
      "2025-05-25 20:55:19,544 INFO status has been updated to accepted\n",
      "2025-05-25 20:55:41,591 INFO status has been updated to running\n",
      "2025-05-25 20:58:13,205 INFO status has been updated to successful\n"
     ]
    },
    {
     "data": {
      "application/vnd.jupyter.widget-view+json": {
       "model_id": "7fa67f2a452742909af9e38354b92790",
       "version_major": 2,
       "version_minor": 0
      },
      "text/plain": [
       "4e3544bab7abda35bd2d6ddca05e99fa.grib:   0%|          | 0.00/235k [00:00<?, ?B/s]"
      ]
     },
     "metadata": {},
     "output_type": "display_data"
    },
    {
     "name": "stderr",
     "output_type": "stream",
     "text": [
      "2025-05-25 20:58:18,890 INFO Request ID is 1f382e84-76b8-4f4e-8028-989e0b40fa09\n",
      "2025-05-25 20:58:19,063 INFO status has been updated to accepted\n",
      "2025-05-25 20:58:27,916 INFO status has been updated to running\n",
      "2025-05-25 21:01:14,902 INFO status has been updated to successful\n"
     ]
    },
    {
     "data": {
      "application/vnd.jupyter.widget-view+json": {
       "model_id": "87fb505dc931411a9548d3340c9659a6",
       "version_major": 2,
       "version_minor": 0
      },
      "text/plain": [
       "12a3bc0593c2562ae64764b5b69629a3.grib:   0%|          | 0.00/228k [00:00<?, ?B/s]"
      ]
     },
     "metadata": {},
     "output_type": "display_data"
    },
    {
     "name": "stderr",
     "output_type": "stream",
     "text": [
      "2025-05-25 21:01:20,920 INFO Request ID is 22f2c03f-0333-45e0-95ca-42359a7d9082\n",
      "2025-05-25 21:01:21,108 INFO status has been updated to accepted\n",
      "2025-05-25 21:01:35,640 INFO status has been updated to running\n",
      "2025-05-25 21:04:15,013 INFO status has been updated to successful\n"
     ]
    },
    {
     "data": {
      "application/vnd.jupyter.widget-view+json": {
       "model_id": "f95a5e91c00c4ffca0552fb02fedbfbf",
       "version_major": 2,
       "version_minor": 0
      },
      "text/plain": [
       "69ce6d9f512e2692545ecd891bf73ae9.grib:   0%|          | 0.00/235k [00:00<?, ?B/s]"
      ]
     },
     "metadata": {},
     "output_type": "display_data"
    },
    {
     "name": "stderr",
     "output_type": "stream",
     "text": [
      "2025-05-25 21:04:20,966 INFO Request ID is f2d86584-f9e2-4713-8335-49926e9d6d2b\n",
      "2025-05-25 21:04:21,175 INFO status has been updated to accepted\n",
      "2025-05-25 21:04:35,268 INFO status has been updated to running\n",
      "2025-05-25 21:04:43,029 INFO status has been updated to accepted\n",
      "2025-05-25 21:04:54,608 INFO status has been updated to running\n",
      "2025-05-25 21:07:14,751 INFO status has been updated to successful\n"
     ]
    },
    {
     "data": {
      "application/vnd.jupyter.widget-view+json": {
       "model_id": "14d8bb8518504a908df59ea8e4fe404d",
       "version_major": 2,
       "version_minor": 0
      },
      "text/plain": [
       "b33c683c48ec38b7300bbb0cd558abde.grib:   0%|          | 0.00/228k [00:00<?, ?B/s]"
      ]
     },
     "metadata": {},
     "output_type": "display_data"
    },
    {
     "name": "stderr",
     "output_type": "stream",
     "text": [
      "2025-05-25 21:07:20,536 INFO Request ID is 2ddad15c-4bc7-467d-994e-fc4f0984a455\n",
      "2025-05-25 21:07:20,733 INFO status has been updated to accepted\n",
      "2025-05-25 21:07:35,024 INFO status has been updated to running\n",
      "2025-05-25 21:10:14,246 INFO status has been updated to successful\n"
     ]
    },
    {
     "data": {
      "application/vnd.jupyter.widget-view+json": {
       "model_id": "d383ac0a199b4847b97c3ec80a9e7d93",
       "version_major": 2,
       "version_minor": 0
      },
      "text/plain": [
       "9362a6e849028e54e674c89630bd7c7d.grib:   0%|          | 0.00/235k [00:00<?, ?B/s]"
      ]
     },
     "metadata": {},
     "output_type": "display_data"
    },
    {
     "name": "stdout",
     "output_type": "stream",
     "text": [
      "Storing to...  C:/Users/sguti/WW-Data/Houston_2020.nc\n"
     ]
    },
    {
     "name": "stderr",
     "output_type": "stream",
     "text": [
      "2025-05-25 21:10:19,786 INFO Request ID is 527ebac5-2dc7-48df-bf1d-caefee2e84fe\n",
      "2025-05-25 21:10:19,976 INFO status has been updated to accepted\n",
      "2025-05-25 21:10:25,507 INFO status has been updated to running\n",
      "2025-05-25 21:13:13,977 INFO status has been updated to successful\n"
     ]
    },
    {
     "data": {
      "application/vnd.jupyter.widget-view+json": {
       "model_id": "b32aab8199514f1d9c7d947688b84ea9",
       "version_major": 2,
       "version_minor": 0
      },
      "text/plain": [
       "d0b1d2ab76b534257e49a7b62d4f4f10.grib:   0%|          | 0.00/235k [00:00<?, ?B/s]"
      ]
     },
     "metadata": {},
     "output_type": "display_data"
    },
    {
     "name": "stderr",
     "output_type": "stream",
     "text": [
      "2025-05-25 21:13:18,980 INFO Request ID is dc9520ca-2540-4a6e-afff-975365a81011\n",
      "2025-05-25 21:13:19,264 INFO status has been updated to accepted\n",
      "2025-05-25 21:13:28,276 INFO status has been updated to running\n",
      "2025-05-25 21:17:40,310 INFO status has been updated to successful\n"
     ]
    },
    {
     "data": {
      "application/vnd.jupyter.widget-view+json": {
       "model_id": "92c31470e8fd4e9baf9275b2cee3f07e",
       "version_major": 2,
       "version_minor": 0
      },
      "text/plain": [
       "8e78144b7c92bdeeb0018a4c1034d34.grib:   0%|          | 0.00/213k [00:00<?, ?B/s]"
      ]
     },
     "metadata": {},
     "output_type": "display_data"
    },
    {
     "name": "stderr",
     "output_type": "stream",
     "text": [
      "2025-05-25 21:17:47,578 INFO Request ID is 427d47f0-05fa-489d-863b-cc369f819b56\n",
      "2025-05-25 21:17:47,765 INFO status has been updated to accepted\n",
      "2025-05-25 21:18:09,715 INFO status has been updated to running\n",
      "2025-05-25 21:20:41,935 INFO status has been updated to successful\n"
     ]
    },
    {
     "data": {
      "application/vnd.jupyter.widget-view+json": {
       "model_id": "9550f0fcab9c4450bb54d705f33941fc",
       "version_major": 2,
       "version_minor": 0
      },
      "text/plain": [
       "bbf9c28d8bff8c1e0d7c5f765f5480d2.grib:   0%|          | 0.00/235k [00:00<?, ?B/s]"
      ]
     },
     "metadata": {},
     "output_type": "display_data"
    },
    {
     "name": "stderr",
     "output_type": "stream",
     "text": [
      "2025-05-25 21:20:48,121 INFO Request ID is 9688aacc-9c44-4439-8b87-842268577ef4\n",
      "2025-05-25 21:20:48,302 INFO status has been updated to accepted\n",
      "2025-05-25 21:21:10,341 INFO status has been updated to running\n",
      "2025-05-25 21:23:43,770 INFO status has been updated to successful\n"
     ]
    },
    {
     "data": {
      "application/vnd.jupyter.widget-view+json": {
       "model_id": "75635894c84741f59da8628a6024fcc8",
       "version_major": 2,
       "version_minor": 0
      },
      "text/plain": [
       "aa0b7e4ce4e157415db170d7ad73a619.grib:   0%|          | 0.00/228k [00:00<?, ?B/s]"
      ]
     },
     "metadata": {},
     "output_type": "display_data"
    },
    {
     "name": "stderr",
     "output_type": "stream",
     "text": [
      "2025-05-25 21:23:49,689 INFO Request ID is d0d4124d-d573-4a61-81f2-2bb91b7433de\n",
      "2025-05-25 21:23:49,872 INFO status has been updated to accepted\n",
      "2025-05-25 21:24:11,777 INFO status has been updated to running\n",
      "2025-05-25 21:28:10,685 INFO status has been updated to successful\n"
     ]
    },
    {
     "data": {
      "application/vnd.jupyter.widget-view+json": {
       "model_id": "ea9e1a95859c45e19942af77facd176a",
       "version_major": 2,
       "version_minor": 0
      },
      "text/plain": [
       "f628c27a01ccc68b623b80dc85316904.grib:   0%|          | 0.00/235k [00:00<?, ?B/s]"
      ]
     },
     "metadata": {},
     "output_type": "display_data"
    },
    {
     "name": "stderr",
     "output_type": "stream",
     "text": [
      "2025-05-25 21:28:16,426 INFO Request ID is 70c6ea73-4340-48f6-93d0-f424e2c26cc8\n",
      "2025-05-25 21:28:17,144 INFO status has been updated to accepted\n",
      "2025-05-25 21:28:25,990 INFO status has been updated to running\n",
      "2025-05-25 21:32:37,856 INFO status has been updated to successful\n"
     ]
    },
    {
     "data": {
      "application/vnd.jupyter.widget-view+json": {
       "model_id": "784331f5bbfd4c29b013b7ab5534dd07",
       "version_major": 2,
       "version_minor": 0
      },
      "text/plain": [
       "4af6ea3e2f6f8a52defbe04a7a60e1fb.grib:   0%|          | 0.00/228k [00:00<?, ?B/s]"
      ]
     },
     "metadata": {},
     "output_type": "display_data"
    },
    {
     "name": "stderr",
     "output_type": "stream",
     "text": [
      "2025-05-25 21:32:44,005 INFO Request ID is ea84e977-3303-45bd-80e2-7d599a485dc1\n",
      "2025-05-25 21:32:44,352 INFO status has been updated to accepted\n",
      "2025-05-25 21:32:53,678 INFO status has been updated to running\n",
      "2025-05-25 21:35:38,214 INFO status has been updated to successful\n"
     ]
    },
    {
     "data": {
      "application/vnd.jupyter.widget-view+json": {
       "model_id": "e6422d6a099d452ab43e23fbfac67d49",
       "version_major": 2,
       "version_minor": 0
      },
      "text/plain": [
       "a3cb40a4a803e319c2b94581f2dc4fea.grib:   0%|          | 0.00/235k [00:00<?, ?B/s]"
      ]
     },
     "metadata": {},
     "output_type": "display_data"
    },
    {
     "name": "stderr",
     "output_type": "stream",
     "text": [
      "2025-05-25 21:35:44,108 INFO Request ID is 6057bfee-6dac-4a5b-92eb-829a306f1359\n",
      "2025-05-25 21:35:44,304 INFO status has been updated to accepted\n",
      "2025-05-25 21:35:58,596 INFO status has been updated to running\n",
      "2025-05-25 21:38:38,051 INFO status has been updated to successful\n"
     ]
    },
    {
     "data": {
      "application/vnd.jupyter.widget-view+json": {
       "model_id": "b1ea4603094b4de7a0346502bc8b8cb0",
       "version_major": 2,
       "version_minor": 0
      },
      "text/plain": [
       "4d0c4ce2173ebf71cfba3fea4290c8a3.grib:   0%|          | 0.00/235k [00:00<?, ?B/s]"
      ]
     },
     "metadata": {},
     "output_type": "display_data"
    },
    {
     "name": "stderr",
     "output_type": "stream",
     "text": [
      "2025-05-25 21:38:43,639 INFO Request ID is cd926166-034c-4272-8fa3-8f5c1efca2da\n",
      "2025-05-25 21:38:43,817 INFO status has been updated to accepted\n",
      "2025-05-25 21:38:49,251 INFO status has been updated to running\n",
      "2025-05-25 21:41:37,519 INFO status has been updated to successful\n"
     ]
    },
    {
     "data": {
      "application/vnd.jupyter.widget-view+json": {
       "model_id": "6af74fa2a6374935a61b4f06dcca3cf4",
       "version_major": 2,
       "version_minor": 0
      },
      "text/plain": [
       "c6ecda66ca3f1f014f74d3ba9da1cddc.grib:   0%|          | 0.00/228k [00:00<?, ?B/s]"
      ]
     },
     "metadata": {},
     "output_type": "display_data"
    },
    {
     "name": "stderr",
     "output_type": "stream",
     "text": [
      "2025-05-25 21:41:43,739 INFO Request ID is 85247f19-2d41-4f5d-ab53-fe7302092e96\n",
      "2025-05-25 21:41:43,932 INFO status has been updated to accepted\n",
      "2025-05-25 21:41:58,089 INFO status has been updated to running\n",
      "2025-05-25 21:42:05,990 INFO status has been updated to accepted\n",
      "2025-05-25 21:42:17,554 INFO status has been updated to running\n",
      "2025-05-25 21:46:04,894 INFO status has been updated to successful\n"
     ]
    },
    {
     "data": {
      "application/vnd.jupyter.widget-view+json": {
       "model_id": "c94afcbfe2d64b1eb985d02767da9ff8",
       "version_major": 2,
       "version_minor": 0
      },
      "text/plain": [
       "b046eff4d7866f697b77b0df785508c8.grib:   0%|          | 0.00/235k [00:00<?, ?B/s]"
      ]
     },
     "metadata": {},
     "output_type": "display_data"
    },
    {
     "name": "stderr",
     "output_type": "stream",
     "text": [
      "2025-05-25 21:46:11,719 INFO Request ID is 86266142-9c5d-455a-8325-bf04fdf0431e\n",
      "2025-05-25 21:46:11,910 INFO status has been updated to accepted\n",
      "2025-05-25 21:46:26,040 INFO status has been updated to running\n",
      "2025-05-25 21:49:05,280 INFO status has been updated to successful\n"
     ]
    },
    {
     "data": {
      "application/vnd.jupyter.widget-view+json": {
       "model_id": "b4752d77b7204cc28102b98c1ad9868a",
       "version_major": 2,
       "version_minor": 0
      },
      "text/plain": [
       "2eebb627d51cc0fee6eb89166dc8d2e8.grib:   0%|          | 0.00/228k [00:00<?, ?B/s]"
      ]
     },
     "metadata": {},
     "output_type": "display_data"
    },
    {
     "name": "stderr",
     "output_type": "stream",
     "text": [
      "2025-05-25 21:49:11,554 INFO Request ID is 7e65a03e-10cd-4a72-96d2-a09eff92f6a3\n",
      "2025-05-25 21:49:11,750 INFO status has been updated to accepted\n",
      "2025-05-25 21:49:26,131 INFO status has been updated to running\n",
      "2025-05-25 21:52:05,418 INFO status has been updated to successful\n"
     ]
    },
    {
     "data": {
      "application/vnd.jupyter.widget-view+json": {
       "model_id": "404a4d4817cd4ad19baeb9dd70a794b9",
       "version_major": 2,
       "version_minor": 0
      },
      "text/plain": [
       "389dba2680ea28ab20a84b2574b52649.grib:   0%|          | 0.00/235k [00:00<?, ?B/s]"
      ]
     },
     "metadata": {},
     "output_type": "display_data"
    },
    {
     "name": "stdout",
     "output_type": "stream",
     "text": [
      "Storing to...  C:/Users/sguti/WW-Data/Houston_2021.nc\n"
     ]
    },
    {
     "name": "stderr",
     "output_type": "stream",
     "text": [
      "2025-05-25 21:52:11,570 INFO Request ID is f5b87584-3757-4780-b35e-3fcb6866fd33\n",
      "2025-05-25 21:52:11,778 INFO status has been updated to accepted\n",
      "2025-05-25 21:52:45,262 INFO status has been updated to running\n",
      "2025-05-25 21:56:32,774 INFO status has been updated to successful\n"
     ]
    },
    {
     "data": {
      "application/vnd.jupyter.widget-view+json": {
       "model_id": "1193c56afd994837af3d94bcd58688fa",
       "version_major": 2,
       "version_minor": 0
      },
      "text/plain": [
       "70c35feb24adda495a75ac00ecc7da8f.grib:   0%|          | 0.00/235k [00:00<?, ?B/s]"
      ]
     },
     "metadata": {},
     "output_type": "display_data"
    },
    {
     "name": "stderr",
     "output_type": "stream",
     "text": [
      "2025-05-25 21:56:38,900 INFO Request ID is 6efc11b9-0fb8-4023-8407-591fa603b1b1\n",
      "2025-05-25 21:56:39,095 INFO status has been updated to accepted\n",
      "2025-05-25 21:56:48,098 INFO status has been updated to running\n",
      "2025-05-25 22:00:59,751 INFO status has been updated to successful\n"
     ]
    },
    {
     "data": {
      "application/vnd.jupyter.widget-view+json": {
       "model_id": "5dba8c0e8da341168abc38dd799a9cfb",
       "version_major": 2,
       "version_minor": 0
      },
      "text/plain": [
       "9db2c562278205079d39294b1e4289b3.grib:   0%|          | 0.00/213k [00:00<?, ?B/s]"
      ]
     },
     "metadata": {},
     "output_type": "display_data"
    },
    {
     "name": "stderr",
     "output_type": "stream",
     "text": [
      "2025-05-25 22:01:06,595 INFO Request ID is 0ed3da4c-a256-4286-978d-be04e97316ca\n",
      "2025-05-25 22:01:06,772 INFO status has been updated to accepted\n",
      "2025-05-25 22:01:20,927 INFO status has been updated to running\n",
      "2025-05-25 22:04:00,388 INFO status has been updated to successful\n"
     ]
    },
    {
     "data": {
      "application/vnd.jupyter.widget-view+json": {
       "model_id": "778ad0f1ffd64511a39621423a4c04bb",
       "version_major": 2,
       "version_minor": 0
      },
      "text/plain": [
       "15ce1ec016bdff97744cdffd4d2c2f69.grib:   0%|          | 0.00/235k [00:00<?, ?B/s]"
      ]
     },
     "metadata": {},
     "output_type": "display_data"
    },
    {
     "name": "stderr",
     "output_type": "stream",
     "text": [
      "2025-05-25 22:04:06,100 INFO Request ID is 037e3f73-42bf-4bdd-903c-41a2f8d7ee53\n",
      "2025-05-25 22:04:06,284 INFO status has been updated to accepted\n",
      "2025-05-25 22:04:28,137 INFO status has been updated to running\n",
      "2025-05-25 22:08:31,769 INFO status has been updated to successful\n"
     ]
    },
    {
     "data": {
      "application/vnd.jupyter.widget-view+json": {
       "model_id": "56fd6e0f4caa4fc6ac857794a985d5c5",
       "version_major": 2,
       "version_minor": 0
      },
      "text/plain": [
       "bdba281a1076394a2753f7a337aeeed8.grib:   0%|          | 0.00/228k [00:00<?, ?B/s]"
      ]
     },
     "metadata": {},
     "output_type": "display_data"
    },
    {
     "name": "stderr",
     "output_type": "stream",
     "text": [
      "2025-05-25 22:08:37,699 INFO Request ID is 14b8b0d8-6ff6-431b-9d0f-a6980e7c7e0d\n",
      "2025-05-25 22:08:37,881 INFO status has been updated to accepted\n",
      "2025-05-25 22:08:51,983 INFO status has been updated to running\n",
      "2025-05-25 22:12:58,789 INFO status has been updated to successful\n"
     ]
    },
    {
     "data": {
      "application/vnd.jupyter.widget-view+json": {
       "model_id": "7d8dac065184485c965f7094474511ac",
       "version_major": 2,
       "version_minor": 0
      },
      "text/plain": [
       "a73a42bb50e1030522e2d25c74d55801.grib:   0%|          | 0.00/235k [00:00<?, ?B/s]"
      ]
     },
     "metadata": {},
     "output_type": "display_data"
    },
    {
     "name": "stderr",
     "output_type": "stream",
     "text": [
      "2025-05-25 22:13:04,641 INFO Request ID is b46377ed-a570-4434-85cd-3a92b7964f3a\n",
      "2025-05-25 22:13:04,833 INFO status has been updated to accepted\n",
      "2025-05-25 22:13:26,787 INFO status has been updated to running\n",
      "2025-05-25 22:15:58,557 INFO status has been updated to successful\n"
     ]
    },
    {
     "data": {
      "application/vnd.jupyter.widget-view+json": {
       "model_id": "288ec55f0a3d49e095ec6e9cff916026",
       "version_major": 2,
       "version_minor": 0
      },
      "text/plain": [
       "b45775c17a570da73fb19dbcacde7b19.grib:   0%|          | 0.00/228k [00:00<?, ?B/s]"
      ]
     },
     "metadata": {},
     "output_type": "display_data"
    },
    {
     "name": "stderr",
     "output_type": "stream",
     "text": [
      "2025-05-25 22:16:04,621 INFO Request ID is 4a9bf889-a039-4fc1-8b07-cc8dda79ab87\n",
      "2025-05-25 22:16:04,985 INFO status has been updated to accepted\n",
      "2025-05-25 22:16:19,207 INFO status has been updated to running\n",
      "2025-05-25 22:20:25,418 INFO status has been updated to successful\n"
     ]
    },
    {
     "data": {
      "application/vnd.jupyter.widget-view+json": {
       "model_id": "3eeef45c60e040589097e9c1ca7a4bb2",
       "version_major": 2,
       "version_minor": 0
      },
      "text/plain": [
       "152805440a56734292b74773822ad303.grib:   0%|          | 0.00/235k [00:00<?, ?B/s]"
      ]
     },
     "metadata": {},
     "output_type": "display_data"
    },
    {
     "name": "stderr",
     "output_type": "stream",
     "text": [
      "2025-05-25 22:20:31,737 INFO Request ID is c7a0b07a-de20-4ca9-a821-cacbcc87a8b3\n",
      "2025-05-25 22:20:32,075 INFO status has been updated to accepted\n",
      "2025-05-25 22:20:54,014 INFO status has been updated to running\n",
      "2025-05-25 22:24:52,876 INFO status has been updated to successful\n"
     ]
    },
    {
     "data": {
      "application/vnd.jupyter.widget-view+json": {
       "model_id": "33bd4f38993940b1acb3e2366e844584",
       "version_major": 2,
       "version_minor": 0
      },
      "text/plain": [
       "50326d293c820540b44772ded748951d.grib:   0%|          | 0.00/235k [00:00<?, ?B/s]"
      ]
     },
     "metadata": {},
     "output_type": "display_data"
    },
    {
     "name": "stderr",
     "output_type": "stream",
     "text": [
      "2025-05-25 22:24:58,574 INFO Request ID is 0165b415-11e0-43a1-a9bb-99d3cca0497e\n",
      "2025-05-25 22:24:58,780 INFO status has been updated to accepted\n",
      "2025-05-25 22:25:32,348 INFO status has been updated to running\n",
      "2025-05-25 22:29:24,380 INFO status has been updated to successful\n"
     ]
    },
    {
     "data": {
      "application/vnd.jupyter.widget-view+json": {
       "model_id": "071922b093a64f55b62dedce12121d18",
       "version_major": 2,
       "version_minor": 0
      },
      "text/plain": [
       "a8017c128501b2aae90d91c0b9f8e289.grib:   0%|          | 0.00/228k [00:00<?, ?B/s]"
      ]
     },
     "metadata": {},
     "output_type": "display_data"
    },
    {
     "name": "stderr",
     "output_type": "stream",
     "text": [
      "2025-05-25 22:29:30,306 INFO Request ID is 39d68008-eba3-4a2f-8c6b-e45e05262c51\n",
      "2025-05-25 22:29:30,492 INFO status has been updated to accepted\n",
      "2025-05-25 22:29:39,636 INFO status has been updated to running\n",
      "2025-05-25 22:33:52,082 INFO status has been updated to successful\n"
     ]
    },
    {
     "data": {
      "application/vnd.jupyter.widget-view+json": {
       "model_id": "e5d3cbb3ede74ea8a04400ec4bb7bd5e",
       "version_major": 2,
       "version_minor": 0
      },
      "text/plain": [
       "6840bb9c9617660a1e82d8a496d58ed7.grib:   0%|          | 0.00/235k [00:00<?, ?B/s]"
      ]
     },
     "metadata": {},
     "output_type": "display_data"
    },
    {
     "name": "stderr",
     "output_type": "stream",
     "text": [
      "2025-05-25 22:33:57,575 INFO Request ID is b85ca24a-ef58-49d3-a23b-0056b116aa53\n",
      "2025-05-25 22:33:57,762 INFO status has been updated to accepted\n",
      "2025-05-25 22:34:06,938 INFO status has been updated to running\n",
      "2025-05-25 22:38:19,625 INFO status has been updated to successful\n"
     ]
    },
    {
     "data": {
      "application/vnd.jupyter.widget-view+json": {
       "model_id": "73ae6b7d3d484ef28d0157a8430f1cff",
       "version_major": 2,
       "version_minor": 0
      },
      "text/plain": [
       "c079a2ed707b2cf0df39d4983fbe5b50.grib:   0%|          | 0.00/228k [00:00<?, ?B/s]"
      ]
     },
     "metadata": {},
     "output_type": "display_data"
    },
    {
     "name": "stderr",
     "output_type": "stream",
     "text": [
      "2025-05-25 22:38:25,843 INFO Request ID is b1c6d911-80ca-4a02-8371-dd15f369fcc3\n",
      "2025-05-25 22:38:26,161 INFO status has been updated to accepted\n",
      "2025-05-25 22:38:36,419 INFO status has been updated to running\n",
      "2025-05-25 22:41:21,029 INFO status has been updated to successful\n"
     ]
    },
    {
     "data": {
      "application/vnd.jupyter.widget-view+json": {
       "model_id": "6a6f5102b1cb4fd9addca0a296d166af",
       "version_major": 2,
       "version_minor": 0
      },
      "text/plain": [
       "a867116a6e1485fcde259b5ec6402606.grib:   0%|          | 0.00/235k [00:00<?, ?B/s]"
      ]
     },
     "metadata": {},
     "output_type": "display_data"
    },
    {
     "name": "stdout",
     "output_type": "stream",
     "text": [
      "Storing to...  C:/Users/sguti/WW-Data/Houston_2022.nc\n"
     ]
    },
    {
     "name": "stderr",
     "output_type": "stream",
     "text": [
      "2025-05-25 22:41:26,774 INFO Request ID is 6fb82746-e57b-4921-84ad-f123e7da27a5\n",
      "2025-05-25 22:41:28,417 INFO status has been updated to accepted\n",
      "2025-05-25 22:41:37,421 INFO status has been updated to running\n",
      "2025-05-25 22:45:49,616 INFO status has been updated to successful\n"
     ]
    },
    {
     "data": {
      "application/vnd.jupyter.widget-view+json": {
       "model_id": "36262accbd0240f8880742faa4812081",
       "version_major": 2,
       "version_minor": 0
      },
      "text/plain": [
       "1710380147028cfba4a7ed3083432436.grib:   0%|          | 0.00/235k [00:00<?, ?B/s]"
      ]
     },
     "metadata": {},
     "output_type": "display_data"
    },
    {
     "name": "stderr",
     "output_type": "stream",
     "text": [
      "2025-05-25 22:45:54,820 INFO Request ID is 49cc84df-e561-4e34-8508-d9abf2226cf2\n",
      "2025-05-25 22:45:55,138 INFO status has been updated to accepted\n",
      "2025-05-25 22:46:09,414 INFO status has been updated to running\n",
      "2025-05-25 22:48:48,649 INFO status has been updated to successful\n"
     ]
    },
    {
     "data": {
      "application/vnd.jupyter.widget-view+json": {
       "model_id": "8e139f72ac314ff5b8a9c7403b6790a3",
       "version_major": 2,
       "version_minor": 0
      },
      "text/plain": [
       "c3dc7b673bb6453a5a62d8b4c89f55cf.grib:   0%|          | 0.00/213k [00:00<?, ?B/s]"
      ]
     },
     "metadata": {},
     "output_type": "display_data"
    },
    {
     "name": "stderr",
     "output_type": "stream",
     "text": [
      "2025-05-25 22:48:54,949 INFO Request ID is 53fcb73c-8c83-4655-86d8-f45d0e28caa8\n",
      "2025-05-25 22:48:55,151 INFO status has been updated to accepted\n",
      "2025-05-25 22:49:09,442 INFO status has been updated to running\n",
      "2025-05-25 22:53:16,085 INFO status has been updated to successful\n"
     ]
    },
    {
     "data": {
      "application/vnd.jupyter.widget-view+json": {
       "model_id": "f1e2d139b5d34343b3f5378f4fd3f00b",
       "version_major": 2,
       "version_minor": 0
      },
      "text/plain": [
       "98b792998ce994c1af127e27b98873af.grib:   0%|          | 0.00/235k [00:00<?, ?B/s]"
      ]
     },
     "metadata": {},
     "output_type": "display_data"
    },
    {
     "name": "stderr",
     "output_type": "stream",
     "text": [
      "2025-05-25 22:53:22,438 INFO Request ID is 55e2d35d-ebc5-4d7e-bbe8-5359c5e68368\n",
      "2025-05-25 22:53:22,621 INFO status has been updated to accepted\n",
      "2025-05-25 22:54:13,365 INFO status has been updated to running\n",
      "2025-05-25 22:56:15,981 INFO status has been updated to successful\n"
     ]
    },
    {
     "data": {
      "application/vnd.jupyter.widget-view+json": {
       "model_id": "43d1872c20f84ab7b90cc4b8c10d73eb",
       "version_major": 2,
       "version_minor": 0
      },
      "text/plain": [
       "bbedd0034b2fac5d0e26728d941f1910.grib:   0%|          | 0.00/228k [00:00<?, ?B/s]"
      ]
     },
     "metadata": {},
     "output_type": "display_data"
    },
    {
     "name": "stderr",
     "output_type": "stream",
     "text": [
      "2025-05-25 22:56:21,773 INFO Request ID is 36d39cab-13bf-4dab-afaf-7ecf05a2357b\n",
      "2025-05-25 22:56:21,986 INFO status has been updated to accepted\n",
      "2025-05-25 22:56:27,601 INFO status has been updated to running\n",
      "2025-05-25 22:59:15,886 INFO status has been updated to successful\n"
     ]
    },
    {
     "data": {
      "application/vnd.jupyter.widget-view+json": {
       "model_id": "edf3bb811a9f41f597f290eaab54575e",
       "version_major": 2,
       "version_minor": 0
      },
      "text/plain": [
       "cbcb5ed89178947013d06eb8085e2cf2.grib:   0%|          | 0.00/235k [00:00<?, ?B/s]"
      ]
     },
     "metadata": {},
     "output_type": "display_data"
    },
    {
     "name": "stderr",
     "output_type": "stream",
     "text": [
      "2025-05-25 22:59:22,353 INFO Request ID is a0129493-7b02-4211-bc77-eb021185cc52\n",
      "2025-05-25 22:59:22,532 INFO status has been updated to accepted\n",
      "2025-05-25 22:59:36,855 INFO status has been updated to running\n",
      "2025-05-25 23:02:16,142 INFO status has been updated to successful\n"
     ]
    },
    {
     "data": {
      "application/vnd.jupyter.widget-view+json": {
       "model_id": "0233cc0ff2ad4116b18b48c8bdec5646",
       "version_major": 2,
       "version_minor": 0
      },
      "text/plain": [
       "390f49ed2bc59aefbf88fc9658489ba1.grib:   0%|          | 0.00/228k [00:00<?, ?B/s]"
      ]
     },
     "metadata": {},
     "output_type": "display_data"
    },
    {
     "name": "stderr",
     "output_type": "stream",
     "text": [
      "2025-05-25 23:02:21,577 INFO Request ID is 65fd177b-0062-4fa2-8eac-fbf626b0098f\n",
      "2025-05-25 23:02:21,766 INFO status has been updated to accepted\n",
      "2025-05-25 23:02:35,889 INFO status has been updated to running\n",
      "2025-05-25 23:02:43,654 INFO status has been updated to accepted\n",
      "2025-05-25 23:02:55,241 INFO status has been updated to running\n",
      "2025-05-25 23:06:42,739 INFO status has been updated to successful\n"
     ]
    },
    {
     "data": {
      "application/vnd.jupyter.widget-view+json": {
       "model_id": "d3a5600d24b0464bb446b8ab017f7809",
       "version_major": 2,
       "version_minor": 0
      },
      "text/plain": [
       "f2b2282f102e33adcfc12cff4e4d49b4.grib:   0%|          | 0.00/235k [00:00<?, ?B/s]"
      ]
     },
     "metadata": {},
     "output_type": "display_data"
    },
    {
     "name": "stderr",
     "output_type": "stream",
     "text": [
      "2025-05-25 23:06:48,345 INFO Request ID is 0786ba43-af56-4fbc-9ae7-f344439d0183\n",
      "2025-05-25 23:06:48,532 INFO status has been updated to accepted\n",
      "2025-05-25 23:07:02,661 INFO status has been updated to running\n",
      "2025-05-25 23:09:42,030 INFO status has been updated to successful\n"
     ]
    },
    {
     "data": {
      "application/vnd.jupyter.widget-view+json": {
       "model_id": "04496e4bd38943e486a817ead9cbaa8f",
       "version_major": 2,
       "version_minor": 0
      },
      "text/plain": [
       "95d7f35353b9c8c2705be3ecd4f65410.grib:   0%|          | 0.00/235k [00:00<?, ?B/s]"
      ]
     },
     "metadata": {},
     "output_type": "display_data"
    },
    {
     "name": "stderr",
     "output_type": "stream",
     "text": [
      "2025-05-25 23:09:47,913 INFO Request ID is 3ccff60e-caaf-49a4-9768-a383ce166780\n",
      "2025-05-25 23:09:48,100 INFO status has been updated to accepted\n",
      "2025-05-25 23:09:57,488 INFO status has been updated to running\n",
      "2025-05-25 23:14:09,248 INFO status has been updated to successful\n"
     ]
    },
    {
     "data": {
      "application/vnd.jupyter.widget-view+json": {
       "model_id": "a6e1c4f52dae4a1689aa093384da4faa",
       "version_major": 2,
       "version_minor": 0
      },
      "text/plain": [
       "96e23b3d5f8ac5b2e5c74da495ca0deb.grib:   0%|          | 0.00/228k [00:00<?, ?B/s]"
      ]
     },
     "metadata": {},
     "output_type": "display_data"
    },
    {
     "name": "stderr",
     "output_type": "stream",
     "text": [
      "2025-05-25 23:14:15,112 INFO Request ID is f9b0048f-2a98-44bf-88ab-d66321095428\n",
      "2025-05-25 23:14:15,297 INFO status has been updated to accepted\n",
      "2025-05-25 23:14:29,920 INFO status has been updated to running\n",
      "2025-05-25 23:18:36,527 INFO status has been updated to successful\n"
     ]
    },
    {
     "data": {
      "application/vnd.jupyter.widget-view+json": {
       "model_id": "dff54a4c9e8a4b76af8df8caeaf1c167",
       "version_major": 2,
       "version_minor": 0
      },
      "text/plain": [
       "7b8feda0a03d8332c784feaa2a5308a0.grib:   0%|          | 0.00/235k [00:00<?, ?B/s]"
      ]
     },
     "metadata": {},
     "output_type": "display_data"
    },
    {
     "name": "stderr",
     "output_type": "stream",
     "text": [
      "2025-05-25 23:18:42,404 INFO Request ID is 591e29e0-df7d-4c77-a1c0-e26badb5cc39\n",
      "2025-05-25 23:18:42,773 INFO status has been updated to accepted\n",
      "2025-05-25 23:18:48,069 INFO status has been updated to running\n",
      "2025-05-25 23:21:36,281 INFO status has been updated to successful\n"
     ]
    },
    {
     "data": {
      "application/vnd.jupyter.widget-view+json": {
       "model_id": "5fec4775b6a3487c9ccc8b3a29767d0f",
       "version_major": 2,
       "version_minor": 0
      },
      "text/plain": [
       "784394a001f4f2dab607e1d82371c5c4.grib:   0%|          | 0.00/228k [00:00<?, ?B/s]"
      ]
     },
     "metadata": {},
     "output_type": "display_data"
    },
    {
     "name": "stderr",
     "output_type": "stream",
     "text": [
      "2025-05-25 23:21:42,321 INFO Request ID is 313e4083-7886-4f4b-92ea-68cb9ea7a672\n",
      "2025-05-25 23:21:42,584 INFO status has been updated to accepted\n",
      "2025-05-25 23:21:56,895 INFO status has been updated to running\n",
      "2025-05-25 23:24:36,641 INFO status has been updated to successful\n"
     ]
    },
    {
     "data": {
      "application/vnd.jupyter.widget-view+json": {
       "model_id": "43a67dbb79014f69b4a87a3168a12076",
       "version_major": 2,
       "version_minor": 0
      },
      "text/plain": [
       "9afb88eec8f42824e63c867012932aed.grib:   0%|          | 0.00/235k [00:00<?, ?B/s]"
      ]
     },
     "metadata": {},
     "output_type": "display_data"
    },
    {
     "name": "stdout",
     "output_type": "stream",
     "text": [
      "Storing to...  C:/Users/sguti/WW-Data/Houston_2023.nc\n"
     ]
    },
    {
     "name": "stderr",
     "output_type": "stream",
     "text": [
      "2025-05-25 23:24:42,426 INFO Request ID is 30bcc9ef-e68b-4bc0-9358-9772f2276750\n",
      "2025-05-25 23:24:42,671 INFO status has been updated to accepted\n",
      "2025-05-25 23:24:52,336 INFO status has been updated to running\n",
      "2025-05-25 23:29:03,940 INFO status has been updated to successful\n"
     ]
    },
    {
     "data": {
      "application/vnd.jupyter.widget-view+json": {
       "model_id": "98974106206d4d598f47d47d19fd4859",
       "version_major": 2,
       "version_minor": 0
      },
      "text/plain": [
       "c03c9504b528198feea3c82a042f4594.grib:   0%|          | 0.00/235k [00:00<?, ?B/s]"
      ]
     },
     "metadata": {},
     "output_type": "display_data"
    },
    {
     "name": "stderr",
     "output_type": "stream",
     "text": [
      "2025-05-25 23:29:08,685 INFO Request ID is d148036d-2d33-4daf-9fa5-64fb7fe92c48\n",
      "2025-05-25 23:29:09,091 INFO status has been updated to accepted\n",
      "2025-05-25 23:29:31,372 INFO status has been updated to running\n",
      "2025-05-25 23:29:42,945 INFO status has been updated to accepted\n",
      "2025-05-25 23:30:00,217 INFO status has been updated to running\n",
      "2025-05-25 23:32:02,939 INFO status has been updated to successful\n"
     ]
    },
    {
     "data": {
      "application/vnd.jupyter.widget-view+json": {
       "model_id": "ecf2d83ae2884669af6a53b9e5fe21a2",
       "version_major": 2,
       "version_minor": 0
      },
      "text/plain": [
       "11c4e4a4d2572fbe02416c8d49abf6b6.grib:   0%|          | 0.00/220k [00:00<?, ?B/s]"
      ]
     },
     "metadata": {},
     "output_type": "display_data"
    },
    {
     "name": "stderr",
     "output_type": "stream",
     "text": [
      "2025-05-25 23:32:09,476 INFO Request ID is cda2eca8-e725-400b-a5ed-281e7f5d1a57\n",
      "2025-05-25 23:32:09,719 INFO status has been updated to accepted\n",
      "2025-05-25 23:32:18,839 INFO status has been updated to running\n",
      "2025-05-25 23:35:03,490 INFO status has been updated to successful\n"
     ]
    },
    {
     "data": {
      "application/vnd.jupyter.widget-view+json": {
       "model_id": "f3677c0579904b2983566c3dcdaa41ce",
       "version_major": 2,
       "version_minor": 0
      },
      "text/plain": [
       "48f4ad39c849db2abe660e7ffa907d6e.grib:   0%|          | 0.00/235k [00:00<?, ?B/s]"
      ]
     },
     "metadata": {},
     "output_type": "display_data"
    },
    {
     "name": "stderr",
     "output_type": "stream",
     "text": [
      "2025-05-25 23:35:09,289 INFO Request ID is c4c5868d-a94f-43f9-9ee1-addaf0727e32\n",
      "2025-05-25 23:35:09,480 INFO status has been updated to accepted\n",
      "2025-05-25 23:35:18,357 INFO status has been updated to running\n",
      "2025-05-25 23:38:08,676 INFO status has been updated to successful\n"
     ]
    },
    {
     "data": {
      "application/vnd.jupyter.widget-view+json": {
       "model_id": "b660b63fa2fb4dc69fa5eefd3bbd9317",
       "version_major": 2,
       "version_minor": 0
      },
      "text/plain": [
       "2b18f39226c24374680a41f85d029cc3.grib:   0%|          | 0.00/228k [00:00<?, ?B/s]"
      ]
     },
     "metadata": {},
     "output_type": "display_data"
    },
    {
     "name": "stderr",
     "output_type": "stream",
     "text": [
      "2025-05-25 23:38:14,204 INFO Request ID is 1250e7fc-4fc2-4764-9059-d6d027b03b5d\n",
      "2025-05-25 23:38:14,401 INFO status has been updated to accepted\n",
      "2025-05-25 23:38:23,277 INFO status has been updated to running\n",
      "2025-05-25 23:41:07,793 INFO status has been updated to successful\n"
     ]
    },
    {
     "data": {
      "application/vnd.jupyter.widget-view+json": {
       "model_id": "af540e4274e749c09b26e93debfec322",
       "version_major": 2,
       "version_minor": 0
      },
      "text/plain": [
       "d4faaff2f4253d610b079b5263de45f6.grib:   0%|          | 0.00/235k [00:00<?, ?B/s]"
      ]
     },
     "metadata": {},
     "output_type": "display_data"
    },
    {
     "name": "stderr",
     "output_type": "stream",
     "text": [
      "2025-05-25 23:41:13,415 INFO Request ID is 1a231f88-223f-42f5-91f1-05483a257d3b\n",
      "2025-05-25 23:41:13,599 INFO status has been updated to accepted\n",
      "2025-05-25 23:42:30,498 INFO status has been updated to running\n",
      "2025-05-25 23:45:34,574 INFO status has been updated to successful\n"
     ]
    },
    {
     "data": {
      "application/vnd.jupyter.widget-view+json": {
       "model_id": "e8821e20aa764f43855a8ecbdfcadc86",
       "version_major": 2,
       "version_minor": 0
      },
      "text/plain": [
       "58862746ec1136295816b4ba33436311.grib:   0%|          | 0.00/228k [00:00<?, ?B/s]"
      ]
     },
     "metadata": {},
     "output_type": "display_data"
    },
    {
     "name": "stderr",
     "output_type": "stream",
     "text": [
      "2025-05-25 23:45:41,352 INFO Request ID is ee533fd3-09ff-46d1-a3f2-613619abbf21\n",
      "2025-05-25 23:45:41,530 INFO status has been updated to accepted\n",
      "2025-05-25 23:46:03,557 INFO status has been updated to running\n",
      "2025-05-25 23:50:02,201 INFO status has been updated to successful\n"
     ]
    },
    {
     "data": {
      "application/vnd.jupyter.widget-view+json": {
       "model_id": "f067842987d0428fa5ae30f673dd6292",
       "version_major": 2,
       "version_minor": 0
      },
      "text/plain": [
       "b31255372ba88662c097f9f270c29986.grib:   0%|          | 0.00/235k [00:00<?, ?B/s]"
      ]
     },
     "metadata": {},
     "output_type": "display_data"
    },
    {
     "name": "stderr",
     "output_type": "stream",
     "text": [
      "2025-05-25 23:50:08,329 INFO Request ID is 30a31168-f2b7-4697-8730-7a4f821e892b\n",
      "2025-05-25 23:50:08,519 INFO status has been updated to accepted\n",
      "2025-05-25 23:50:30,496 INFO status has been updated to running\n",
      "2025-05-25 23:53:02,633 INFO status has been updated to successful\n"
     ]
    },
    {
     "data": {
      "application/vnd.jupyter.widget-view+json": {
       "model_id": "c3a389625fab40338ae5e1889424c1cc",
       "version_major": 2,
       "version_minor": 0
      },
      "text/plain": [
       "e325bc0ddbcc99353d36cd5c98436f9e.grib:   0%|          | 0.00/235k [00:00<?, ?B/s]"
      ]
     },
     "metadata": {},
     "output_type": "display_data"
    },
    {
     "name": "stderr",
     "output_type": "stream",
     "text": [
      "2025-05-25 23:53:08,159 INFO Request ID is 6c899027-cb34-427e-9697-035763a16e86\n",
      "2025-05-25 23:53:08,351 INFO status has been updated to accepted\n",
      "2025-05-25 23:53:17,218 INFO status has been updated to running\n",
      "2025-05-25 23:57:28,954 INFO status has been updated to successful\n"
     ]
    },
    {
     "data": {
      "application/vnd.jupyter.widget-view+json": {
       "model_id": "9aec4fbd982542f6924199e8e71c8a13",
       "version_major": 2,
       "version_minor": 0
      },
      "text/plain": [
       "aa008cf93f37c6d8bc67340bb3c6e9bd.grib:   0%|          | 0.00/228k [00:00<?, ?B/s]"
      ]
     },
     "metadata": {},
     "output_type": "display_data"
    },
    {
     "name": "stderr",
     "output_type": "stream",
     "text": [
      "2025-05-25 23:57:34,556 INFO Request ID is deb6d7d8-5bb4-4544-bebe-527b4328b258\n",
      "2025-05-25 23:57:34,746 INFO status has been updated to accepted\n",
      "2025-05-25 23:58:08,232 INFO status has been updated to running\n",
      "2025-05-26 00:00:28,598 INFO status has been updated to successful\n"
     ]
    },
    {
     "data": {
      "application/vnd.jupyter.widget-view+json": {
       "model_id": "9d172d92d0a14e9d9be6a2ce6fb28048",
       "version_major": 2,
       "version_minor": 0
      },
      "text/plain": [
       "8c9dac069f9e25f80049802152483d22.grib:   0%|          | 0.00/235k [00:00<?, ?B/s]"
      ]
     },
     "metadata": {},
     "output_type": "display_data"
    },
    {
     "name": "stderr",
     "output_type": "stream",
     "text": [
      "2025-05-26 00:00:34,480 INFO Request ID is e867b110-c0e3-4430-961a-c508c890c5f8\n",
      "2025-05-26 00:00:34,668 INFO status has been updated to accepted\n",
      "2025-05-26 00:01:08,417 INFO status has been updated to running\n",
      "2025-05-26 00:04:55,559 INFO status has been updated to successful\n"
     ]
    },
    {
     "data": {
      "application/vnd.jupyter.widget-view+json": {
       "model_id": "8111a5c3ee7f4664a409102e758c6fc3",
       "version_major": 2,
       "version_minor": 0
      },
      "text/plain": [
       "51bddef9e4f16ba085348293ff91984c.grib:   0%|          | 0.00/228k [00:00<?, ?B/s]"
      ]
     },
     "metadata": {},
     "output_type": "display_data"
    },
    {
     "name": "stderr",
     "output_type": "stream",
     "text": [
      "2025-05-26 00:05:01,405 INFO Request ID is f769d259-2663-4c0e-ad21-88dce4191abf\n",
      "2025-05-26 00:05:01,611 INFO status has been updated to accepted\n",
      "2025-05-26 00:05:35,106 INFO status has been updated to running\n",
      "2025-05-26 00:09:22,235 INFO status has been updated to successful\n"
     ]
    },
    {
     "data": {
      "application/vnd.jupyter.widget-view+json": {
       "model_id": "9a87e755225b4fc0b0a0c04ca2271870",
       "version_major": 2,
       "version_minor": 0
      },
      "text/plain": [
       "e0eed3a9adfcb3e0da29f6c3cfd12690.grib:   0%|          | 0.00/235k [00:00<?, ?B/s]"
      ]
     },
     "metadata": {},
     "output_type": "display_data"
    },
    {
     "name": "stdout",
     "output_type": "stream",
     "text": [
      "Storing to...  C:/Users/sguti/WW-Data/Houston_2024.nc\n"
     ]
    }
   ],
   "source": [
    "yearly_dataset = []\n",
    "\n",
    "# IMPORTANT: Change 'ds_path' to wherever you originally store the data\n",
    "ds_path = 'C:/Users/sguti/WW-Data/'\n",
    "\n",
    "for year in years_list:\n",
    "    # Name of the NetCDF file to convert to after concatenating all monthly datasets\n",
    "    nc_filename = ds_path + 'Houston_' + year + '.nc'\n",
    "    \n",
    "    for month in months_list:\n",
    "        # Take care of leap years\n",
    "        if month == '02' and year in leap_years:\n",
    "            month_days['02'] = feb_days_leap\n",
    "        else:\n",
    "            month_days['02'] = feb_days_non_leap\n",
    "            \n",
    "        grib_filename = ds_path + 'Houston_' + year + '_' + month + '.grib'\n",
    "        \n",
    "        dataset = 'reanalysis-era5-land'\n",
    "        request = {\n",
    "            'variable': [\n",
    "                '2m_temperature', \n",
    "                '2m_dewpoint_temperature', \n",
    "                'surface_pressure', \n",
    "                '10m_u_component_of_wind', \n",
    "                '10m_v_component_of_wind',\n",
    "                'total_precipitation'\n",
    "            ],\n",
    "            'year': year,\n",
    "            'month': month,\n",
    "            'day': month_days[month],\n",
    "            'time': [\n",
    "                '00:00',\n",
    "                '03:00',\n",
    "                '06:00',\n",
    "                '09:00',\n",
    "                '12:00',\n",
    "                '15:00',\n",
    "                '18:00',\n",
    "                '21:00',\n",
    "            ],\n",
    "            'data_format': 'grib',\n",
    "            'download_format': 'unarchived',\n",
    "            'area': [\n",
    "                top_lat, \n",
    "                left_long, \n",
    "                bottom_lat, \n",
    "                right_long,\n",
    "            ],\n",
    "        }\n",
    "\n",
    "        c.retrieve(dataset, request, grib_filename)\n",
    "        \n",
    "        # Open the GRIB file. Using 'with' will make sure to close the file before execution leaves the 'with' block.\n",
    "        with xr.open_dataset(grib_filename, engine = 'cfgrib') as ds:\n",
    "            # The GRIB file data contains mostly empty labels [number, surface, valid_time]. We'll drop them before we concatenate with the yearly dataset to save space.\n",
    "            monthly_dataset = ds.drop(['number', 'surface', 'valid_time'], dim=None)\n",
    "            if len(yearly_dataset) == 0:\n",
    "                # If yearly_dataset is empty, there's nothing to concatenate with\n",
    "                yearly_dataset = monthly_dataset\n",
    "            else: \n",
    "                # We will concatenate the two datasets along the time dimension.\n",
    "                yearly_dataset = xr.concat([yearly_dataset, monthly_dataset], dim=\"time\")\n",
    "\n",
    "    # Finally, save the yearly_dataset to a NetCDF file. While GRIB is the native format, GRIB data is generally “messier” than data in a self-describing format, such as NetCDF. \n",
    "    print(\"Storing to... \", nc_filename)\n",
    "    yearly_dataset.to_netcdf(nc_filename)\n",
    "    yearly_dataset = []"
   ]
  }
 ],
 "metadata": {
  "kernelspec": {
   "display_name": "Python 3",
   "language": "python",
   "name": "python3"
  },
  "language_info": {
   "codemirror_mode": {
    "name": "ipython",
    "version": 3
   },
   "file_extension": ".py",
   "mimetype": "text/x-python",
   "name": "python",
   "nbconvert_exporter": "python",
   "pygments_lexer": "ipython3",
   "version": "3.11.3"
  }
 },
 "nbformat": 4,
 "nbformat_minor": 2
}
